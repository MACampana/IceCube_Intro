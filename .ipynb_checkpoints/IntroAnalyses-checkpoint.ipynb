{
 "cells": [
  {
   "cell_type": "code",
   "execution_count": 1,
   "metadata": {},
   "outputs": [],
   "source": [
    "#Using Healpy to plot icecube data\n",
    "#Michael Campana Feb 18 2020\n",
    "import time\n",
    "from IPython.display import clear_output"
   ]
  },
  {
   "cell_type": "code",
   "execution_count": 167,
   "metadata": {},
   "outputs": [],
   "source": [
    "import healpy as hp\n",
    "import numpy as np\n",
    "import matplotlib.pyplot as plt\n",
    "from matplotlib.patches import Circle\n",
    "from matplotlib.collections import PatchCollection\n",
    "import pandas as pd\n",
    "from scipy.stats import poisson, binom\n",
    "from scipy.stats import mode as spmode\n",
    "from scipy.optimize import minimize\n",
    "from scipy.interpolate import splrep, splev"
   ]
  },
  {
   "cell_type": "code",
   "execution_count": 4,
   "metadata": {},
   "outputs": [
    {
     "name": "stdout",
     "output_type": "stream",
     "text": [
      "93133 136244 105300\n",
      "334677 334677\n"
     ]
    }
   ],
   "source": [
    "#3 year data\n",
    "#UNITS:\n",
    "#    MJD days\n",
    "#    log10E GeV\n",
    "#    AngErr deg\n",
    "#    All Angles deg\n",
    "\n",
    "MJD1, log10E1, AngErr1, RA1, DEC1, Azi1, Zen1 = np.loadtxt('IC79-2010-events.txt', unpack=True)\n",
    "MJD2, log10E2, AngErr2, RA2, DEC2, Azi2, Zen2 = np.loadtxt('IC86-2011-events.txt', unpack=True)\n",
    "MJD3, log10E3, AngErr3, RA3, DEC3, Azi3, Zen3 = np.loadtxt('IC86-2012-events.txt', unpack=True)\n",
    "\n",
    "print(len(MJD1),len(MJD2),len(MJD3))\n",
    "MJD = np.concatenate((MJD1,MJD2,MJD3))\n",
    "log10E = np.concatenate((log10E1,log10E2,log10E3))\n",
    "AngErr = np.concatenate((AngErr1,AngErr2,AngErr3))\n",
    "RA = np.concatenate((RA1,RA2,RA3))\n",
    "DEC = np.concatenate((DEC1,DEC2,DEC3))\n",
    "Azi = np.concatenate((Azi1,Azi2,Azi3))\n",
    "Zen = np.concatenate((Zen1,Zen2,Zen3))\n",
    "print(len(MJD), len(MJD1)+len(MJD2)+len(MJD3))"
   ]
  },
  {
   "cell_type": "code",
   "execution_count": 4,
   "metadata": {},
   "outputs": [],
   "source": [
    "def PlotMollviewLocal(title,ZenArr,AziArr,nside=64,rot=None):\n",
    "    #Plots mollweide projection of local coords in degrees\n",
    "    nside = nside\n",
    "    npix = hp.nside2npix(nside)\n",
    "    map_ind = hp.ang2pix(nside,np.radians(ZenArr),np.radians(AziArr))\n",
    "    ind, count = np.unique(map_ind, return_counts=True)\n",
    "    hpx_map = np.zeros(npix, dtype=int)\n",
    "    hpx_map[ind] = count\n",
    "    \n",
    "    plt.figure()\n",
    "    hp.mollview(hpx_map, unit='Counts', title=title, rot=rot, margins=(1,1,1,1)) \n",
    "    hp.graticule(30, color='w', alpha=0.7)\n",
    "    \n",
    "    hp.projtext(0,0,'0', size='large', ha='center', va='bottom')\n",
    "    hp.projtext(np.pi/2,0,'0', size='large', ha='left')\n",
    "    hp.projtext(np.pi/2,2*np.pi - .001,'360', size='large', ha='right')\n",
    "    hp.projtext(np.pi,0,'180', size='large', ha='center', va='top')\n",
    "    \n",
    "    plt.title(title, pad=25)\n",
    "    plt.show()\n"
   ]
  },
  {
   "cell_type": "code",
   "execution_count": 5,
   "metadata": {},
   "outputs": [],
   "source": [
    "def PlotMollviewEqui(title,DecArr,RaArr,nside=64,rot=None,coord=None):\n",
    "    #Plots mollweide projection of equitorial coords in degrees\n",
    "    nside = nside\n",
    "    npix = hp.nside2npix(nside)\n",
    "    map_ind = hp.ang2pix(nside,np.pi/2.0 - np.radians(DecArr),np.radians(RaArr))\n",
    "    ind, count = np.unique(map_ind, return_counts=True)\n",
    "    hpx_map = np.zeros(npix, dtype=int)\n",
    "    hpx_map[ind] = count\n",
    "    \n",
    "    plt.figure()\n",
    "    hp.mollview(hpx_map, unit='Counts', title=title, rot=rot, margins=(1,1,1,1), coord=coord) \n",
    "    hp.graticule(30, color='w', alpha=0.7)\n",
    "    \n",
    "    hp.projtext(0,0,'90', size='large', ha='center', va='bottom', coord=coord)#, rot=rot)\n",
    "    hp.projtext(np.pi/2,2.0*np.pi - .001,'360', size='large', ha='right', coord=coord)#, rot=rot)\n",
    "    hp.projtext(np.pi/2,0,'0', size='large', ha='left', coord=coord)#, rot=rot)\n",
    "    hp.projtext(np.pi,0,'-90', size='large', ha='center', va='top', coord=coord)#, rot=rot)\n",
    "    \n",
    "    plt.title(title, pad=25)\n",
    "    plt.show()\n"
   ]
  },
  {
   "cell_type": "code",
   "execution_count": 6,
   "metadata": {},
   "outputs": [],
   "source": [
    "#Getting RA and DEC coords of each pixel, along with the counts per pixel\n",
    "def AngAndCountPerPixEqui(DEC,RA,nside=64,rot=None,coord=None):\n",
    "    nside = nside\n",
    "    npix = hp.nside2npix(nside) #Number of pixels (Number of bins)\n",
    "    #print(npix)\n",
    "    pix_nums_list = np.arange(npix) #List of possible pixel numbers for npix total pixels\n",
    "    pix_num = hp.ang2pix(nside,np.pi/2.0 - np.radians(DEC),np.radians(RA)) #Pixel number for each event\n",
    "    pix_nums, pix_counts = np.unique(pix_num, return_counts=True)  #Pixel numbers and counts of each pixel \n",
    "    #The above line will create arrays with pix_nums that have greater than 0 counts...we need to include all\n",
    "    #We will create two data frames, one for the possible pixel numbers,\n",
    "    #...and one for the unique pixel numbers and counts,\n",
    "    #...and then merge them on pixel numbers, and replace NaN with 0 counts\n",
    "    num_list_df = pd.DataFrame(pix_nums_list)\n",
    "    num_list_df.columns = ['pix_num']\n",
    "    \n",
    "    unique_nums_counts_df = pd.DataFrame(pix_nums)\n",
    "    unique_nums_counts_df.columns = ['pix_num']\n",
    "    unique_nums_counts_df['pix_count'] = pix_counts\n",
    "    \n",
    "    pix_lat, pix_lon = hp.pix2ang(nside, pix_nums_list) #latitude and longitude of possible pixel number\n",
    "    pix_dec = np.pi/2 - pix_lat #DEC from latitude\n",
    "    pix_ra = pix_lon            #RA from longitude\n",
    "    #print(pix_dec)\n",
    "    num_list_df['RA'] = pix_ra\n",
    "    num_list_df['DEC'] = pix_dec\n",
    "    \n",
    "    #Dataframe containing all possible pixel numbers with their respective RA,DEC and counts\n",
    "    nums_counts_ra_dec_df = num_list_df.merge(unique_nums_counts_df, on='pix_num',how='outer')\n",
    "    nums_counts_ra_dec_df.fillna(0.0, inplace=True)\n",
    "    #display(nums_counts_ra_dec_df)\n",
    "    \n",
    "    decs = nums_counts_ra_dec_df['DEC'].to_numpy(copy=True, dtype=np.float64)\n",
    "    ras = nums_counts_ra_dec_df['RA'].to_numpy(copy=True, dtype = np.float64)\n",
    "    counts = nums_counts_ra_dec_df['pix_count'].to_numpy(copy=True, dtype=np.float64)\n",
    "    pixels = nums_counts_ra_dec_df['pix_num'].to_numpy(copy=True, dtype=np.float64)\n",
    "    \n",
    "    return nums_counts_ra_dec_df, decs, ras, counts, pixels"
   ]
  },
  {
   "cell_type": "code",
   "execution_count": 7,
   "metadata": {
    "jupyter": {
     "source_hidden": true
    }
   },
   "outputs": [],
   "source": [
    "def BinnedPvalAnalysisEqui(decs,ras,counts,nside=64):\n",
    "    unique_decs = np.unique(decs)\n",
    "    unique_decs = np.flip(unique_decs)\n",
    "\n",
    "    dec_bin_counts = {} #Dictionary to hold list of counts per bin in each declination band\n",
    "\n",
    "    #Create dictionary to hold a list of counts for each bin in the labeled declination band\n",
    "    for pixdec in unique_pix_decs:\n",
    "        dec_bin_counts[pixdec] = pixelCountList[np.nonzero(decs == pixdec)]\n",
    "    \n",
    "    #for i in range(len(unique_decs)):\n",
    "    #    band_counts_per_bin = []\n",
    "    #    for j in range(len(decs)):\n",
    "    #        if decs[j] == unique_decs[i]:\n",
    "    #            band_counts_per_bin.append(counts[j])\n",
    "    #    dec_bin_counts[unique_decs[i]] = band_counts_per_bin\n",
    "    \n",
    "    #Create Dictionary of lists of pvalues per bin in each band, keyed by declination of each band\n",
    "    #And dictionary of dec band count averages\n",
    "    #And dictionary of dec band mins, and of maxes\n",
    "    #And median\n",
    "    dec_bin_pvals = {}\n",
    "    dec_band_count_avg = {}\n",
    "    dec_band_count_min = {}\n",
    "    dec_band_count_max = {}\n",
    "    dec_band_count_med = {}\n",
    "    for d in unique_decs:\n",
    "        bin_count_list = dec_bin_counts[d]\n",
    "        band_count_avg = np.mean(bin_count_list, dtype=np.float64)\n",
    "        band_count_max = np.max(bin_count_list)\n",
    "        band_count_min = np.min(bin_count_list)\n",
    "        band_count_med = np.median(bin_count_list)\n",
    "        band_pval_per_bin = poisson.sf(bin_count_list, band_count_avg)\n",
    "        \n",
    "        dec_bin_pvals[d] = band_pval_per_bin\n",
    "        dec_band_count_avg[d] = band_count_avg\n",
    "        dec_band_count_min[d] = band_count_min\n",
    "        dec_band_count_max[d] = band_count_max\n",
    "        dec_band_count_med[d] = band_count_med\n",
    "\n",
    "    pvals = [item for sublist in list(dec_bin_pvals.values()) for item in sublist] #Flatten\n",
    "\n",
    "    #print(min(pvals))\n",
    "    #print(max(pvals))\n",
    "    #print(np.mean(pvals))\n",
    "    #print(len(pvals))\n",
    "    \n",
    "    return pvals, dec_bin_counts, dec_band_count_avg, dec_band_count_min, dec_band_count_max, dec_bin_pvals, dec_band_count_med\n"
   ]
  },
  {
   "cell_type": "code",
   "execution_count": 8,
   "metadata": {},
   "outputs": [],
   "source": [
    "def BinomialPvalAnalysisEqui(eventDecList, pixelRAList, pixelDecList, pixelCountList, maxDelDec, minDelDec, nside = 64, sig_count_adjust = False):\n",
    "    #Using Binomial statistics to compare each bin to events in its respective solid angle declination band\n",
    "    #...rather than comparing each bin to each other bin with the same declination\n",
    "    #We will obtain counts for a band of declination defined by pixel centers +/- some deltaDec in rads\n",
    "    DEC_rad = np.radians(eventDecList)\n",
    "    \n",
    "    dec_band_counts = {}\n",
    "    \n",
    "    #Unique decs for pixels\n",
    "    unique_pix_decs, pixels_per_dec = np.unique(pixelDecList, return_counts=True)\n",
    "    unique_pix_decs = np.flip(unique_pix_decs)\n",
    "    #print('-------------UNIQUE PIXEL DECS--------------')\n",
    "    #print(unique_pix_decs)\n",
    "    \n",
    "    #Varying deltaDec as we move away from dec=0\n",
    "    q = complex(0,len(unique_pix_decs[unique_pix_decs >= np.pi/6]))\n",
    "    p = len(unique_pix_decs[(unique_pix_decs < np.pi/6) & (unique_pix_decs > -np.pi/6)])\n",
    "    v = complex(0,len(unique_pix_decs[unique_pix_decs <= -np.pi/6]))\n",
    "    \n",
    "    deltaDec = np.r_[maxDelDec:minDelDec:q, [minDelDec]*p, minDelDec:maxDelDec:v]\n",
    "    #print(len(deltaDec), len(unique_pix_decs))\n",
    "    #print('------------HALF BAND WIDTHS------------')\n",
    "    #print(deltaDec)\n",
    "    \n",
    "    #Dictionary to hold number of events in defined dec band\n",
    "    for upd, dD in zip(unique_pix_decs, deltaDec):\n",
    "        dec_band_counts[upd] = len(DEC_rad[(DEC_rad >= upd - dD) & (DEC_rad < upd + dD)])\n",
    "    \n",
    "    #Dictionary to hold list of counts per bin in each declination band for plotting's sake\n",
    "    #And also RA values for those bins\n",
    "    dec_bin_counts = {} \n",
    "    dec_bin_ras = {}\n",
    "    #Fill dictionary...\n",
    "    for d in unique_pix_decs:\n",
    "        dec_bin_counts[d] = pixelCountList[np.nonzero(pixelDecList == d)]\n",
    "        dec_bin_ras[d] = pixelRAList[np.nonzero(pixelDecList == d)]\n",
    "    \n",
    "    #Create Dictionary of lists of pvalues per bin in each band, keyed by declination of each band\n",
    "    #And dictionary of dec band count averages\n",
    "    #And dictionary of dec band mins, and of maxes\n",
    "    #And median\n",
    "    dec_bin_pvals = {}\n",
    "    dec_band_count_avg = {}  #Note: Here 'band' refers to pixels with centers at the same dec\n",
    "    dec_band_count_min = {}\n",
    "    dec_band_count_max = {}\n",
    "    dec_band_count_med = {}\n",
    "    \n",
    "    pix_solang = hp.nside2pixarea(nside)\n",
    "    \n",
    "    for upd, dD in zip(unique_pix_decs, deltaDec):\n",
    "        bin_count_list = dec_bin_counts[upd]\n",
    "        band_count_avg = np.mean(bin_count_list, dtype=np.float64)\n",
    "        band_count_max = np.max(bin_count_list)\n",
    "        band_count_min = np.min(bin_count_list)\n",
    "        band_count_med = np.median(bin_count_list)\n",
    "        \n",
    "        band_solang = ( np.sin(upd + dD) - np.sin(upd - dD) ) * 2.0 * np.pi \n",
    "        bg_prob = pix_solang / band_solang\n",
    "        \n",
    "        if sig_count_adjust:\n",
    "            #Make any count less than the average, equal to the average\n",
    "            bin_count_list[(bin_count_list / pix_solang) < (dec_band_counts[upd] / band_solang)] = np.rint(dec_band_counts[upd] / band_solang * pix_solang)\n",
    "        \n",
    "        band_pval_per_bin = binom.sf(bin_count_list, dec_band_counts[upd], bg_prob)\n",
    "        \n",
    "        #Cut out 80 deg to pole (N and S poles)\n",
    "        if upd >= 1.4 or upd <= -1.4:\n",
    "            dec_bin_pvals[upd] = np.full_like(band_pval_per_bin,np.nan)\n",
    "        else:\n",
    "            dec_bin_pvals[upd] = band_pval_per_bin\n",
    "        \n",
    "        #dec_bin_pvals[upd] = band_pval_per_bin\n",
    "        dec_band_count_avg[upd] = band_count_avg\n",
    "        dec_band_count_min[upd] = band_count_min\n",
    "        dec_band_count_max[upd] = band_count_max\n",
    "        dec_band_count_med[upd] = band_count_med\n",
    "\n",
    "    pvals = [item for sublist in list(dec_bin_pvals.values()) for item in sublist] #Flatten pvals\n",
    "\n",
    "    return pvals, dec_band_counts, dec_bin_counts, dec_band_count_avg, dec_band_count_min, dec_band_count_max, dec_bin_pvals, dec_band_count_med, deltaDec, dec_bin_ras"
   ]
  },
  {
   "cell_type": "markdown",
   "metadata": {},
   "source": [
    "From the Bootcamp example...\n",
    "\n",
    "For Unbinned LLH:"
   ]
  },
  {
   "cell_type": "markdown",
   "metadata": {},
   "source": [
    "We will use the following likelihood definition\n",
    "\\begin{equation}\n",
    "\\mathcal{L}(ns) = \\prod_{i = 1}^N\\left[ \\frac{ns}{N} S_{i,c} + (1-\\frac{ns}{N}) B \\right], \\\\ B = 1/4\\pi, \\\\ S_{i,c} = S(event_i, source_c)\n",
    "\\end{equation}\n",
    "where $ns = 0$ is the null hypothesis and is bounded to be between zero and N, $S$ accounts for the event angular distribution, $B$ is the background distribution which we will assume isotropic ($1/4\\pi$). N is the total number of events. Go ahead and construct the $\\log\\mathcal{L}$."
   ]
  },
  {
   "cell_type": "markdown",
   "metadata": {},
   "source": [
    "We are going to use the following test statistic (TS) definition<br><br>\n",
    "\\begin{equation}\n",
    "\\mathcal{TS} = 2 * \\log( \\mathcal{L}(ns) / \\mathcal{L}(ns=0) )\n",
    "\\end{equation}<br>\n",
    "\\begin{equation}\n",
    "\\mathcal{TS} = 2 * \\sum_{i = 1}^N \\log\\left[ \\frac{ns}{N} \\frac{S_{i,c}}{B} + (1-\\frac{ns}{N}) \\right]\n",
    "\\end{equation}"
   ]
  },
  {
   "cell_type": "code",
   "execution_count": 340,
   "metadata": {},
   "outputs": [],
   "source": [
    "class UnbinnedLLHAnalysis:\n",
    "    #Function to compute unbinned likelihood, and TS for log likelihood.\n",
    "    \n",
    "    def __init__(self, event_dec_list, event_ra_list, event_angerr_list, source_dec_list, source_ra_list):\n",
    "        #Use radians for calculations\n",
    "        #print('start')\n",
    "        self.edec = event_dec_list\n",
    "        self.era = event_ra_list\n",
    "        self.eangerr = event_angerr_list\n",
    "        self.sdec = source_dec_list\n",
    "        self.sra = source_ra_list\n",
    "    \n",
    "    #Uses a bivariate gaussian distribution for spatial signal distribution.\n",
    "    #Hence, we are approximating a local region on a sphere to be a flat surface.\n",
    "    #(for in depth, see https://icecube-spno.slack.com/archives/CA14S7480/p1568135317031700)\n",
    "    \n",
    "    #Currently not including Energy...\n",
    "    def signal_dist(self, source_dec, source_ra):\n",
    "        #NOTE: This S is for all events, with one source. When using multiple sources, \n",
    "        #...will need to loop over the sources; implementing this func once\n",
    "        #...per source.\n",
    "        \n",
    "        expon = -.5 * ( (self.edec - source_dec)**2 + (self.era - source_ra)**2 ) / (self.eangerr)**2\n",
    "        S = 1.0 / (2.0 * np.pi) / (self.eangerr)**2 * np.exp(expon)\n",
    "        #print('signal_distribution')\n",
    "        return S\n",
    "    \n",
    "    #Background distribution, currently assume isotropic on whole sky (and no energy)\n",
    "    def background_dist(self):\n",
    "        #Obtaining Background Dist\n",
    "\n",
    "        #sin(dec) bins\n",
    "        dec_bins = np.unique(np.concatenate([\n",
    "                                 np.linspace(-1., -0.2, 10 + 1),\n",
    "                                 np.linspace(-0.2, 0.0, 4 + 1),\n",
    "                                 np.linspace(0.0, 0.2, 5 + 1),\n",
    "                                 np.linspace(0.2, 1., 10),\n",
    "                                 ]))\n",
    "\n",
    "        bin_centers = []\n",
    "        for i in range(len(dec_bins)-1):\n",
    "            bin_centers.append( (dec_bins[i] + dec_bins[i+1]) / 2.0 )\n",
    "\n",
    "        n, bins = np.histogram(np.sin(self.edec), bins=dec_bins, density=True)\n",
    "        \n",
    "        tck = splrep(bin_centers, n)\n",
    "        \n",
    "        B = splev(np.sin(self.edec), tck)\n",
    "        #print('background_distribution')\n",
    "        return B\n",
    "    \n",
    "    #Now we define the test statistic...\n",
    "    #For now, we are calculating for a *single source*\n",
    "    def calc_TS(self, ns, S, B):\n",
    "        N = len(self.edec) #Total number of events\n",
    "        \n",
    "        #One source \n",
    "        #source_dec = self.sdec[0]\n",
    "        #source_ra = self.sra[0]      \n",
    "        #B = self.background_dist() #Background pdf\n",
    "        #S = self.signal_dist(source_dec, source_ra) #signal pdf for one source\n",
    "\n",
    "        log_term = (ns / N) * (S / B) + (1.0 - ns / N)\n",
    "        \n",
    "        TS = -2.0 * np.sum(np.log(log_term))\n",
    "        \n",
    "        #print('calc_TS')\n",
    "        return TS\n",
    "    \n",
    "    #using scipy.optimize.minimize\n",
    "    def minimize_TS(self, S, B):\n",
    "        minTS_res = minimize(self.calc_TS, np.array([1.0]), args=(S,B), bounds=((0.0,len(self.edec)),))\n",
    "        #print('minimize_TS')\n",
    "        return minTS_res.x[0], minTS_res.fun     "
   ]
  },
  {
   "cell_type": "markdown",
   "metadata": {},
   "source": [
    "<b>************PLOTTING************</b>"
   ]
  },
  {
   "cell_type": "code",
   "execution_count": 9,
   "metadata": {},
   "outputs": [],
   "source": [
    "def plotPvalsEqui(decs,ras,pvals,hotRA,hotDEC, nside=64, coord=None, rot=None, title=None, logvals=False):\n",
    "    #decs and ras should be in radians for this function\n",
    "    \n",
    "    if logvals:\n",
    "        pvals = -np.log10(pvals)\n",
    "        mincb = 0.0\n",
    "        maxcb = None\n",
    "        unit = '- log10 Pval'\n",
    "    else:\n",
    "        mincb = 0.0\n",
    "        maxcb = 1.0\n",
    "        unit = 'Pval'\n",
    "    \n",
    "    npix = hp.nside2npix(nside)\n",
    "    map_ind = hp.ang2pix(nside, np.pi/2.0 - decs, ras) \n",
    "    ind = np.bincount(map_ind)\n",
    "    hpx_map = np.zeros(npix, dtype=np.float64)\n",
    "    hpx_map[np.arange(npix)] = np.array(pvals)\n",
    "    \n",
    "    plt.figure(facecolor='w')\n",
    "    hp.mollview(hpx_map, unit=unit, title=title, rot=rot, margins=(1,1,1,1), coord=coord, min=mincb,max=maxcb, cmap='coolwarm') \n",
    "    hp.graticule(30, color='w', alpha=0.7)\n",
    "    \n",
    "    hp.projtext(0,0,'90', size='large', ha='center', va='bottom', coord=coord)#, rot=rot)\n",
    "    hp.projtext(np.pi/2,2.0*np.pi - .001,'360', size='large', ha='right', coord=coord)#, rot=rot)\n",
    "    hp.projtext(np.pi/2,0,'0', size='large', ha='left', coord=coord)#, rot=rot)\n",
    "    hp.projtext(np.pi,0,'-90', size='large', ha='center', va='top', coord=coord)#, rot=rot)\n",
    "    \n",
    "    hp.projscatter(np.pi/2.0 - hotDEC, hotRA, marker='+', facecolors='black', edgecolors='black', coord=coord)\n",
    "    \n",
    "    plt.title(title, pad=25)\n",
    "    plt.show()\n"
   ]
  },
  {
   "cell_type": "code",
   "execution_count": 10,
   "metadata": {
    "jupyter": {
     "source_hidden": true
    }
   },
   "outputs": [],
   "source": [
    "def PlotPixelsPerDec(dec_bin_counts):\n",
    "    #Getting number of bins in each dec band for binned analysis\n",
    "    \n",
    "    dec_num_of_bins = []\n",
    "    for key in dec_bin_counts.keys():\n",
    "        dec_num_of_bins.append(len(dec_bin_counts[key]))\n",
    "\n",
    "    #Plotting num of bins in each dec\n",
    "    plt.figure(figsize=(8,6), facecolor='w')\n",
    "    plt.step(list(dec_bin_counts.keys()),dec_num_of_bins)\n",
    "    plt.xlabel('DEC Band')\n",
    "    plt.ylabel('Number of pixels')\n",
    "    plt.show()\n",
    "    "
   ]
  },
  {
   "cell_type": "code",
   "execution_count": 11,
   "metadata": {
    "jupyter": {
     "source_hidden": true
    }
   },
   "outputs": [],
   "source": [
    "def PlotPixelCountsPerDec(dec_band_count_avg,dec_band_count_min,dec_band_count_max,dec_band_count_med):\n",
    "    #Plotting average, min, max Counts in each dec band (pix centers)\n",
    "    \n",
    "    plt.figure(figsize=(8,6), facecolor='w')\n",
    "    plt.step(list(dec_band_count_avg.keys()), list(dec_band_count_avg.values()), label='Mean')\n",
    "    plt.step(list(dec_band_count_min.keys()), list(dec_band_count_min.values()), label='Min')\n",
    "    plt.step(list(dec_band_count_max.keys()), list(dec_band_count_max.values()), label='Max')\n",
    "    plt.step(list(dec_band_count_med.keys()), list(dec_band_count_med.values()), label='Median')\n",
    "    plt.xlabel('DEC Band')\n",
    "    plt.ylabel('Counts per Bin')\n",
    "    plt.legend()\n",
    "    plt.show()\n"
   ]
  },
  {
   "cell_type": "code",
   "execution_count": 12,
   "metadata": {
    "jupyter": {
     "source_hidden": true
    }
   },
   "outputs": [],
   "source": [
    "def PlotPvalPerDecBand(decs, dec_bin_pvals):\n",
    "    #Plotting Median, Mean pval per dec band (pixel centers)\n",
    "    \n",
    "    unique_decs = np.flip(np.unique(decs))\n",
    "\n",
    "    dec_band_mean_pval = {}\n",
    "    dec_band_median_pval = {}\n",
    "    for d in unique_decs:\n",
    "        band_pvals = dec_bin_pvals[d]\n",
    "        band_mean_pval = np.mean(band_pvals)\n",
    "        band_median_pval = np.median(band_pvals)\n",
    "        dec_band_mean_pval[d] = band_mean_pval\n",
    "        dec_band_median_pval[d] = band_median_pval\n",
    "\n",
    "    plt.figure(figsize=(8,6), facecolor='w')\n",
    "    plt.step(list(dec_band_median_pval.keys()), list(dec_band_median_pval.values()), label='Median')\n",
    "    plt.step(list(dec_band_mean_pval.keys()), list(dec_band_mean_pval.values()), label='Mean')\n",
    "    plt.xlabel('DEC Band')\n",
    "    plt.ylabel('P-value')\n",
    "    plt.ylim(0.0,1.0)\n",
    "    \n",
    "    plt.hlines(0.5,-1.5,1.5,linestyle='--')\n",
    "    \n",
    "    plt.legend()\n",
    "    plt.show()\n",
    "    "
   ]
  },
  {
   "cell_type": "code",
   "execution_count": 13,
   "metadata": {
    "jupyter": {
     "source_hidden": true
    }
   },
   "outputs": [],
   "source": [
    "def PlotBandWidths(decs,deltaDec):\n",
    "    #Band width per declination (pixel centers)\n",
    "    \n",
    "    unique_pix_decs = np.unique(decs)\n",
    "    unique_pix_decs = np.flip(unique_pix_decs)\n",
    "    plt.step(np.degrees(unique_pix_decs), np.degrees(deltaDec))\n",
    "    plt.ylabel('Half Band Width')\n",
    "    plt.xlabel('Dec Band Center')\n",
    "    plt.show()"
   ]
  },
  {
   "cell_type": "code",
   "execution_count": 14,
   "metadata": {
    "jupyter": {
     "source_hidden": true
    }
   },
   "outputs": [],
   "source": [
    "def PlotCountsPerDecBand(dec_band_counts):\n",
    "    #Event counts per declination band\n",
    "    \n",
    "    plt.figure(figsize=(8,6), facecolor='w')\n",
    "    plt.step(list(dec_band_counts.keys()), list(dec_band_counts.values()))\n",
    "    plt.ylabel('Event Counts')\n",
    "    plt.xlabel('DEC Band Center')\n",
    "    plt.show()"
   ]
  },
  {
   "cell_type": "code",
   "execution_count": 15,
   "metadata": {
    "jupyter": {
     "source_hidden": true
    }
   },
   "outputs": [],
   "source": [
    "def PlotPvalsOneDec(ras, pvals, counts):\n",
    "    #For plotting the pvalues across a single declination\n",
    "    #given the respective ras,pvals,counts for the pixels in that dec band\n",
    "    \n",
    "    meanpv = np.mean(pvals)\n",
    "    medpv = np.median(pvals)\n",
    "    maxpv = np.max(pvals)\n",
    "    minpv = np.min(pvals)\n",
    "    modepv = spmode(pvals)\n",
    "    \n",
    "    ras = np.degrees(ras)\n",
    "    \n",
    "    modect = spmode(counts)\n",
    "    \n",
    "    fig, ax1 = plt.subplots(figsize=(16,6))\n",
    "    \n",
    "    color='r'\n",
    "    ax1.step(ras,pvals, color=color)\n",
    "    line1 = ax1.hlines(meanpv,0,360, label='Mean Pval', color='g')\n",
    "    line2 = ax1.hlines(maxpv,0,360, label='Max & Min Pval', color=color, linestyle='--')\n",
    "    ax1.hlines(minpv,0,360, color=color, linestyle='--')\n",
    "    line3 = ax1.hlines(modepv[0],0,360, color=color, linestyle='dashdot', label='Mode Pval')\n",
    "    #ax1.hlines(medpv,0,2*np.pi, label='Median Pval', color='g', linestyle='-.')\n",
    "    line4 = ax1.hlines(0.5,0,360, label='Pval=0.5', linestyle='dotted')\n",
    "    ax1.set_ylabel('P-value', color=color)\n",
    "    ax1.set_xlabel('RA [deg]')\n",
    "    ax1.tick_params(axis='y', labelcolor=color)\n",
    "    #ax1.legend()\n",
    "    \n",
    "    ax2 = ax1.twinx()\n",
    "    color = 'b'\n",
    "    ax2.step(ras,counts, color=color)\n",
    "    ax2.set_ylabel('Count', color=color)\n",
    "    ax2.tick_params(axis='y', labelcolor=color)\n",
    "    line5 = ax2.hlines(modect[0],0,360, color=color, linestyle='dashdot', label='Mode Count')\n",
    "    #ax2.legend()\n",
    "    \n",
    "    lns = (line1,line2,line3,line4,line5)\n",
    "    labs = [l.get_label() for l in lns]\n",
    "    \n",
    "    ax1.legend(lns,labs)\n",
    "    plt.title('Declination ~10 deg')\n",
    "    fig.tight_layout()\n",
    "    plt.show()"
   ]
  },
  {
   "cell_type": "code",
   "execution_count": 16,
   "metadata": {
    "jupyter": {
     "source_hidden": true
    }
   },
   "outputs": [],
   "source": [
    "def HistPvalsCountsOneDec(pvals,counts):\n",
    "    #For plotting a histogram of the pixel counts in a single declination (pixel centers)\n",
    "    \n",
    "    nbin=64 #number of bins\n",
    "    \n",
    "    plt.figure(figsize=(16,6), facecolor='w')\n",
    "    \n",
    "    plt.subplot(1,2,1)\n",
    "    plt.hist(pvals,bins=nbin)\n",
    "    plt.xlabel('P-value')\n",
    "    \n",
    "    plt.subplot(1,2,2)\n",
    "    plt.hist(counts,bins=nbin)\n",
    "    plt.xlabel('Event Counts per Pixel')\n",
    "    \n",
    "    plt.show()"
   ]
  },
  {
   "cell_type": "code",
   "execution_count": 224,
   "metadata": {},
   "outputs": [],
   "source": [
    "def PlotPointsNearSource(event_ras, event_decs, event_errs, signal_weights, target_ra, target_dec, target_name, vmax=0.3):\n",
    "    #Plot events with error circles, colored by signal distribution value\n",
    "    #Puts an 'x' at the source point (written for single source point)\n",
    "    #Takes all angles/errors in degrees, for visualization convenience\n",
    "    \n",
    "    fig, ax = plt.subplots()\n",
    "\n",
    "    plt.scatter(target_ra, target_dec, label=target_name, marker='x', c='k')\n",
    "    scat1 = plt.scatter(event_ras, event_decs, label='Data', c=signal_weights, cmap='plasma', vmin=0.0, vmax=vmax)\n",
    "\n",
    "    colors = scat1.to_rgba(signal_weights)\n",
    "    #print(colors)\n",
    "\n",
    "    patches = []\n",
    "    for i in range(len(event_ras)):\n",
    "        patches.append( Circle( (event_ras[i], event_decs[i]), radius=event_errs[i] ) )\n",
    "\n",
    "\n",
    "    patchCollection = PatchCollection(patches, edgecolors=colors, facecolors='none')\n",
    "    ax.add_collection(patchCollection)\n",
    "\n",
    "\n",
    "    plt.legend()\n",
    "    plt.colorbar(label='Normalized Signal Probability')\n",
    "    plt.xlabel('RA [deg]')\n",
    "    plt.ylabel('DEC [deg]')\n",
    "    plt.axis('square')\n",
    "    \n",
    "    ax.set_xlim(ax.get_xlim()[::-1])\n",
    "    \n",
    "    plt.grid(True)\n",
    "    plt.tight_layout()\n",
    "    \n",
    "    ax.set_axisbelow(True)\n",
    "    plt.show()"
   ]
  },
  {
   "cell_type": "markdown",
   "metadata": {},
   "source": [
    "<b>RUNNING TRIALS</b>"
   ]
  },
  {
   "cell_type": "code",
   "execution_count": 274,
   "metadata": {},
   "outputs": [
    {
     "name": "stdout",
     "output_type": "stream",
     "text": [
      "1.8322594196359498\n"
     ]
    }
   ],
   "source": [
    "#Values for use in following functions\n",
    "\n",
    "nside_choice = 32\n",
    "\n",
    "#Min and max band width---------------------------------\n",
    "minDelDec_choice = np.radians(1.0) #This is half the band width\n",
    "maxDelDec_choice = np.radians(2.5)\n",
    "\n",
    "print(np.degrees(hp.nside2resol(nside_choice)))\n",
    "\n",
    "#Number of scrambles------------------------------------\n",
    "num_trials = 100\n",
    "\n",
    "#For Crab Nebula------------------------------------------\n",
    "cnpix = hp.ang2pix(nside_choice, np.pi/2 - np.radians(22.01), np.radians(83.63))\n",
    "\n",
    "#For setting counts less than dec avg count to the avg count, use True\n",
    "sig_count_adjust = True\n",
    "#print(hp.nside2pixarea(nside_choice)\n",
    "\n",
    "#***UNBINNED LLH******---------------------------------------\n",
    "#GC Coords in radians\n",
    "GC_dec = np.array([-0.506])\n",
    "GC_ra = np.array([4.650])"
   ]
  },
  {
   "cell_type": "code",
   "execution_count": 341,
   "metadata": {},
   "outputs": [
    {
     "data": {
      "text/plain": [
       "99"
      ]
     },
     "metadata": {},
     "output_type": "display_data"
    },
    {
     "name": "stdout",
     "output_type": "stream",
     "text": [
      "--- 7.265625 seconds ---\n"
     ]
    }
   ],
   "source": [
    "start_time = time.clock()\n",
    "#Lists for holding values for each scramble--------------------------\n",
    "#hot_pvals = []\n",
    "#hot_counts = []\n",
    "#hot_decs = []\n",
    "#hot_ras = []\n",
    "#hot_pix = []\n",
    "#CN_pvals = []\n",
    "#CN_counts = []\n",
    "\n",
    "#Unbinned holding lists---------------\n",
    "TS_list = []\n",
    "ns_list = []\n",
    "\n",
    "#**************** Now, for scrambles, use this loop: **************************\n",
    "for scram in range(num_trials):\n",
    "    #First pass, no scramble, use data\n",
    "    if scram == 0:\n",
    "        RA_use = RA\n",
    "    else:\n",
    "        RA_use = 360 * np.random.random(len(RA))\n",
    "    \n",
    "#Event maps------------------------------------------------\n",
    "    #PlotMollviewLocal('All-Sky Point Source 2010-2012 (Local Coords)',Zen,Azi, nside=32, rot=(180,0,0))\n",
    "    #PlotMollviewEqui('All-Sky Point Source 2010-2012 (Equitorial Coords)',DEC,RA, nside=nside_choice,coord='C', rot=(180,0,0))\n",
    "\n",
    "#Binned Analyses-------------------------------------------\n",
    "    #nums_counts_ra_dec_df, decs, ras, counts, pixels = AngAndCountPerPixEqui(DEC,RA_use, nside=nside_choice)\n",
    "    #pvals, dec_bin_counts, dec_band_count_avg, dec_band_count_min, dec_band_count_max, dec_bin_pvals, dec_band_count_med = BinnedPvalAnalysisEqui(decs,ras,counts,nside=nside_choice)\n",
    "    #pvals, dec_band_counts, dec_bin_counts, dec_band_count_avg, dec_band_count_min, dec_band_count_max, dec_bin_pvals, dec_band_count_med, deltaDec, dec_bin_ras = BinomialPvalAnalysisEqui(DEC, ras, decs, counts, maxDelDec=maxDelDec_choice, minDelDec=minDelDec_choice, nside=nside_choice, sig_count_adjust = sig_count_adjust)\n",
    "    #nums_counts_ra_dec_df['pval'] = pvals\n",
    "    #display(nums_counts_ra_dec_df)\n",
    "\n",
    "    #For plots\n",
    "    #nums_counts_ra_dec_df.sort_values(by='pval', inplace=True)\n",
    "\n",
    "    #For scrambles\n",
    "    #hottestPVAL = nums_counts_ra_dec_df.iloc[0,4]\n",
    "    #hottestCOUNT = nums_counts_ra_dec_df.iloc[0,3]\n",
    "    #hottestDEC = nums_counts_ra_dec_df.iloc[0,2]\n",
    "    #hottestRA = nums_counts_ra_dec_df.iloc[0,1]\n",
    "    #hottestPIX = nums_counts_ra_dec_df.iloc[0,0]\n",
    "\n",
    "    #CNCOUNT = nums_counts_ra_dec_df.loc[cnpix,'pix_count']\n",
    "    #CNPVAL = nums_counts_ra_dec_df.loc[cnpix,'pval']\n",
    "\n",
    "    #After scrambling, add hottest pval and respective counts to lists for plotting later...\n",
    "    #...The 0th element in each list is the value for actual data\n",
    "    #hot_pvals.append(hottestPVAL)\n",
    "    #hot_counts.append(hottestCOUNT)\n",
    "    #hot_decs.append(hottestDEC)\n",
    "    #hot_ras.append(hottestRA)\n",
    "    #hot_pix.append(hottestPIX)\n",
    "    \n",
    "    #CN_pvals.append(CNPVAL)\n",
    "    #CN_counts.append(CNCOUNT)\n",
    "    \n",
    "#Unbinned LLH Analysis-------------------------------------\n",
    "\n",
    "    GC_LLH = UnbinnedLLHAnalysis(np.radians(DEC), np.radians(RA_use), np.radians(AngErr), GC_dec, GC_ra)\n",
    "    S = GC_LLH.signal_dist(GC_dec, GC_ra)\n",
    "    #B = 1/ (4.0 * np.pi)\n",
    "    B = GC_LLH.background_dist()\n",
    "    bf_ns, TS = GC_LLH.minimize_TS(S, B)\n",
    "    \n",
    "    if scram == 0:\n",
    "        #For plotting using Signal Distribution (applies to num_trials = 0, i.e. data)\n",
    "        S_dist = S\n",
    "        S_norm = S_dist / np.sum(S_dist)\n",
    "      \n",
    "    #Add ns and TS per trial to list for holding. 0th entry in each list is data...\n",
    "    ns_list.append(bf_ns)\n",
    "    TS_list.append(TS)\n",
    "       \n",
    "    clear_output(wait=True)\n",
    "    display(scram)\n",
    "    \n",
    "#********************************** End of Loop ****************************************\n",
    "\n",
    "#Location of 5 hottest pixels------------------------------\n",
    "#hottestRA = nums_counts_ra_dec_df.iloc[0:5,1].to_numpy(copy=True)\n",
    "#hottestDEC = nums_counts_ra_dec_df.iloc[0:5,2].to_numpy(copy=True)\n",
    "#print(hottestRA)\n",
    "#print(hottestDEC)\n",
    "\n",
    "#Choice for plotting one band pvals--------------------------\n",
    "#dec_choice = decs[np.argmin(np.abs(decs-np.radians(10)))]\n",
    "#print('dec choice = ', dec_choice)\n",
    "#display(nums_counts_ra_dec_df)\n",
    "\n",
    "#Plotting Funcs------------------------------------------------------------------------\n",
    "#plotPvalsEqui(decs,ras,pvals,hottestRA,hottestDEC, coord='C', title='Pvalues',rot=(180,0,0), nside=nside_choice, logvals=True)\n",
    "#PlotPixelsPerDec(dec_bin_counts)\n",
    "#PlotPixelCountsPerDec(dec_band_count_avg,dec_band_count_min,dec_band_count_max,dec_band_count_med)\n",
    "#PlotPvalPerDecBand(decs, dec_bin_pvals)\n",
    "#PlotCountsPerDecBand(dec_band_counts)\n",
    "#PlotBandWidths(decs,deltaDec)\n",
    "#PlotPvalsOneDec(dec_bin_ras[dec_choice], dec_bin_pvals[dec_choice], dec_bin_counts[dec_choice])\n",
    "#HistPvalsCountsOneDec(dec_bin_pvals[dec_choice], dec_bin_counts[dec_choice])\n",
    "\n",
    "#Converting dataframe values to degrees and displaying DF sorted by pvals for viewing--------------\n",
    "#nums_counts_ra_dec_df['RA'] = nums_counts_ra_dec_df['RA'].map(lambda RA: np.degrees(RA))\n",
    "#nums_counts_ra_dec_df['DEC'] = nums_counts_ra_dec_df['DEC'].map(lambda DEC: np.degrees(DEC))\n",
    "#display(nums_counts_ra_dec_df)\n",
    "\n",
    "print(\"--- %s seconds ---\" % (time.clock() - start_time))"
   ]
  },
  {
   "cell_type": "code",
   "execution_count": 252,
   "metadata": {},
   "outputs": [],
   "source": [
    "#Making lists into arrays...\n",
    "\n",
    "#hot_pvals = np.array(hot_pvals)\n",
    "#hot_counts = np.array(hot_counts)\n",
    "#hot_decs = np.array(hot_decs)\n",
    "#CN_pvals = np.array(CN_pvals)\n",
    "#CN_counts = np.array(CN_counts)\n",
    "ns_arr = np.array(ns_list)\n",
    "TS_arr = np.array(TS_list)"
   ]
  },
  {
   "cell_type": "code",
   "execution_count": 231,
   "metadata": {},
   "outputs": [
    {
     "data": {
      "text/html": [
       "<div>\n",
       "<style scoped>\n",
       "    .dataframe tbody tr th:only-of-type {\n",
       "        vertical-align: middle;\n",
       "    }\n",
       "\n",
       "    .dataframe tbody tr th {\n",
       "        vertical-align: top;\n",
       "    }\n",
       "\n",
       "    .dataframe thead th {\n",
       "        text-align: right;\n",
       "    }\n",
       "</style>\n",
       "<table border=\"1\" class=\"dataframe\">\n",
       "  <thead>\n",
       "    <tr style=\"text-align: right;\">\n",
       "      <th></th>\n",
       "      <th>S_norm</th>\n",
       "      <th>RA</th>\n",
       "      <th>DEC</th>\n",
       "      <th>AngErr</th>\n",
       "    </tr>\n",
       "  </thead>\n",
       "  <tbody>\n",
       "    <tr>\n",
       "      <td>232688</td>\n",
       "      <td>0.259025</td>\n",
       "      <td>266.2917</td>\n",
       "      <td>-29.1967</td>\n",
       "      <td>0.1631</td>\n",
       "    </tr>\n",
       "    <tr>\n",
       "      <td>307684</td>\n",
       "      <td>0.147863</td>\n",
       "      <td>266.3197</td>\n",
       "      <td>-29.2983</td>\n",
       "      <td>0.2413</td>\n",
       "    </tr>\n",
       "    <tr>\n",
       "      <td>322137</td>\n",
       "      <td>0.084711</td>\n",
       "      <td>266.2528</td>\n",
       "      <td>-29.3594</td>\n",
       "      <td>0.2307</td>\n",
       "    </tr>\n",
       "    <tr>\n",
       "      <td>160969</td>\n",
       "      <td>0.068141</td>\n",
       "      <td>266.0317</td>\n",
       "      <td>-29.0222</td>\n",
       "      <td>0.4670</td>\n",
       "    </tr>\n",
       "    <tr>\n",
       "      <td>165853</td>\n",
       "      <td>0.038460</td>\n",
       "      <td>266.6606</td>\n",
       "      <td>-29.5454</td>\n",
       "      <td>0.5527</td>\n",
       "    </tr>\n",
       "    <tr>\n",
       "      <td>...</td>\n",
       "      <td>...</td>\n",
       "      <td>...</td>\n",
       "      <td>...</td>\n",
       "      <td>...</td>\n",
       "    </tr>\n",
       "    <tr>\n",
       "      <td>114094</td>\n",
       "      <td>0.000000</td>\n",
       "      <td>154.7919</td>\n",
       "      <td>7.2830</td>\n",
       "      <td>1.2493</td>\n",
       "    </tr>\n",
       "    <tr>\n",
       "      <td>114093</td>\n",
       "      <td>0.000000</td>\n",
       "      <td>147.3471</td>\n",
       "      <td>-2.5883</td>\n",
       "      <td>1.0290</td>\n",
       "    </tr>\n",
       "    <tr>\n",
       "      <td>114092</td>\n",
       "      <td>0.000000</td>\n",
       "      <td>320.9693</td>\n",
       "      <td>-5.2661</td>\n",
       "      <td>0.3275</td>\n",
       "    </tr>\n",
       "    <tr>\n",
       "      <td>114091</td>\n",
       "      <td>0.000000</td>\n",
       "      <td>217.2838</td>\n",
       "      <td>-10.7461</td>\n",
       "      <td>0.2859</td>\n",
       "    </tr>\n",
       "    <tr>\n",
       "      <td>334676</td>\n",
       "      <td>0.000000</td>\n",
       "      <td>1.0117</td>\n",
       "      <td>-49.6977</td>\n",
       "      <td>0.2618</td>\n",
       "    </tr>\n",
       "  </tbody>\n",
       "</table>\n",
       "<p>334677 rows × 4 columns</p>\n",
       "</div>"
      ],
      "text/plain": [
       "          S_norm        RA      DEC  AngErr\n",
       "232688  0.259025  266.2917 -29.1967  0.1631\n",
       "307684  0.147863  266.3197 -29.2983  0.2413\n",
       "322137  0.084711  266.2528 -29.3594  0.2307\n",
       "160969  0.068141  266.0317 -29.0222  0.4670\n",
       "165853  0.038460  266.6606 -29.5454  0.5527\n",
       "...          ...       ...      ...     ...\n",
       "114094  0.000000  154.7919   7.2830  1.2493\n",
       "114093  0.000000  147.3471  -2.5883  1.0290\n",
       "114092  0.000000  320.9693  -5.2661  0.3275\n",
       "114091  0.000000  217.2838 -10.7461  0.2859\n",
       "334676  0.000000    1.0117 -49.6977  0.2618\n",
       "\n",
       "[334677 rows x 4 columns]"
      ]
     },
     "metadata": {},
     "output_type": "display_data"
    },
    {
     "name": "stdout",
     "output_type": "stream",
     "text": [
      "GC RA:  266.4253747358328 /// GC DEC:  -28.991664433619654\n"
     ]
    }
   ],
   "source": [
    "#Dataframe for unbinned analysis, Data run\n",
    "unbinned_df = pd.DataFrame(S_norm)\n",
    "unbinned_df.columns = ['S_norm']\n",
    "unbinned_df['RA'] = RA\n",
    "unbinned_df['DEC'] = DEC\n",
    "unbinned_df['AngErr'] = AngErr\n",
    "\n",
    "unbinned_df.sort_values(by='S_norm', ascending=False, inplace=True)\n",
    "display(unbinned_df)\n",
    "\n",
    "print(\"GC RA: \", np.degrees(GC_ra[0]), \"///\", \"GC DEC: \", np.degrees(GC_dec[0]))"
   ]
  },
  {
   "cell_type": "code",
   "execution_count": 240,
   "metadata": {},
   "outputs": [
    {
     "data": {
      "image/png": "[encoded data removed]",
      "text/plain": [
       "<Figure size 432x288 with 2 Axes>"
      ]
     },
     "metadata": {
      "needs_background": "light"
     },
     "output_type": "display_data"
    }
   ],
   "source": [
    "#Plotting nearest events to galactic center\n",
    "topRA = unbinned_df.iloc[0:6,1].to_numpy(copy=True)\n",
    "topDEC = unbinned_df.iloc[0:6,2].to_numpy(copy=True)\n",
    "topERR = unbinned_df.iloc[0:6,3].to_numpy(copy=True)\n",
    "topS = unbinned_df.iloc[0:6,0].to_numpy(copy=True)\n",
    "\n",
    "target_ra = np.degrees(GC_ra[0])\n",
    "target_dec = np.degrees(GC_dec[0])\n",
    "target_name = 'Galactic Center'\n",
    "vmax = 0.3\n",
    "\n",
    "PlotPointsNearSource(topRA, topDEC, topERR, topS, target_ra, target_dec, target_name, vmax=vmax)\n"
   ]
  },
  {
   "cell_type": "code",
   "execution_count": 241,
   "metadata": {},
   "outputs": [
    {
     "data": {
      "image/png": "[encoded data removed]",
      "text/plain": [
       "<Figure size 432x288 with 1 Axes>"
      ]
     },
     "metadata": {
      "needs_background": "light"
     },
     "output_type": "display_data"
    },
    {
     "data": {
      "text/plain": [
       "<Figure size 432x288 with 0 Axes>"
      ]
     },
     "metadata": {},
     "output_type": "display_data"
    }
   ],
   "source": [
    "plt.hist(S_norm,bins=50)\n",
    "plt.xlabel('Normalized Signal Probability')\n",
    "plt.ylabel('Counts')\n",
    "plt.yscale('log')\n",
    "plt.show()\n",
    "plt.clf()"
   ]
  },
  {
   "cell_type": "code",
   "execution_count": 253,
   "metadata": {},
   "outputs": [
    {
     "data": {
      "text/plain": [
       "(array([ 1.,  0.,  1.,  0.,  0.,  5.,  4.,  2.,  5., 82.]),\n",
       " array([-1.74147161, -1.56732445, -1.39317729, -1.21903013, -1.04488297,\n",
       "        -0.87073581, -0.69658864, -0.52244148, -0.34829432, -0.17414716,\n",
       "        -0.        ]),\n",
       " <a list of 10 Patch objects>)"
      ]
     },
     "execution_count": 253,
     "metadata": {},
     "output_type": "execute_result"
    },
    {
     "data": {
      "image/png": "[encoded data removed]",
      "text/plain": [
       "<Figure size 432x288 with 1 Axes>"
      ]
     },
     "metadata": {
      "needs_background": "light"
     },
     "output_type": "display_data"
    }
   ],
   "source": [
    "#Fitting chi2 to -TS > 0\n",
    "plt.hist(TS_arr)"
   ]
  },
  {
   "cell_type": "code",
   "execution_count": 65,
   "metadata": {
    "collapsed": true,
    "jupyter": {
     "outputs_hidden": true,
     "source_hidden": true
    }
   },
   "outputs": [
    {
     "name": "stdout",
     "output_type": "stream",
     "text": [
      "Pre-trial Hottest P-value: 0.00010806663336272317\n",
      "Corrected Hottest P-value: 0.817\n",
      "Pre-trial CN P-value: 0.4865569927248802\n",
      "Corrected CN P-value: 0.512\n"
     ]
    },
    {
     "data": {
      "text/html": [
       "<div>\n",
       "<style scoped>\n",
       "    .dataframe tbody tr th:only-of-type {\n",
       "        vertical-align: middle;\n",
       "    }\n",
       "\n",
       "    .dataframe tbody tr th {\n",
       "        vertical-align: top;\n",
       "    }\n",
       "\n",
       "    .dataframe thead th {\n",
       "        text-align: right;\n",
       "    }\n",
       "</style>\n",
       "<table border=\"1\" class=\"dataframe\">\n",
       "  <thead>\n",
       "    <tr style=\"text-align: right;\">\n",
       "      <th></th>\n",
       "      <th>Pval</th>\n",
       "      <th>Pix Count</th>\n",
       "    </tr>\n",
       "  </thead>\n",
       "  <tbody>\n",
       "    <tr>\n",
       "      <td>541</td>\n",
       "      <td>0.000327</td>\n",
       "      <td>53</td>\n",
       "    </tr>\n",
       "    <tr>\n",
       "      <td>985</td>\n",
       "      <td>0.000938</td>\n",
       "      <td>51</td>\n",
       "    </tr>\n",
       "    <tr>\n",
       "      <td>908</td>\n",
       "      <td>0.002505</td>\n",
       "      <td>49</td>\n",
       "    </tr>\n",
       "    <tr>\n",
       "      <td>437</td>\n",
       "      <td>0.003985</td>\n",
       "      <td>48</td>\n",
       "    </tr>\n",
       "    <tr>\n",
       "      <td>637</td>\n",
       "      <td>0.006224</td>\n",
       "      <td>47</td>\n",
       "    </tr>\n",
       "    <tr>\n",
       "      <td>...</td>\n",
       "      <td>...</td>\n",
       "      <td>...</td>\n",
       "    </tr>\n",
       "    <tr>\n",
       "      <td>443</td>\n",
       "      <td>0.486557</td>\n",
       "      <td>26</td>\n",
       "    </tr>\n",
       "    <tr>\n",
       "      <td>445</td>\n",
       "      <td>0.486557</td>\n",
       "      <td>29</td>\n",
       "    </tr>\n",
       "    <tr>\n",
       "      <td>447</td>\n",
       "      <td>0.486557</td>\n",
       "      <td>28</td>\n",
       "    </tr>\n",
       "    <tr>\n",
       "      <td>449</td>\n",
       "      <td>0.486557</td>\n",
       "      <td>25</td>\n",
       "    </tr>\n",
       "    <tr>\n",
       "      <td>999</td>\n",
       "      <td>0.486557</td>\n",
       "      <td>23</td>\n",
       "    </tr>\n",
       "  </tbody>\n",
       "</table>\n",
       "<p>1000 rows × 2 columns</p>\n",
       "</div>"
      ],
      "text/plain": [
       "         Pval  Pix Count\n",
       "541  0.000327         53\n",
       "985  0.000938         51\n",
       "908  0.002505         49\n",
       "437  0.003985         48\n",
       "637  0.006224         47\n",
       "..        ...        ...\n",
       "443  0.486557         26\n",
       "445  0.486557         29\n",
       "447  0.486557         28\n",
       "449  0.486557         25\n",
       "999  0.486557         23\n",
       "\n",
       "[1000 rows x 2 columns]"
      ]
     },
     "metadata": {},
     "output_type": "display_data"
    },
    {
     "name": "stdout",
     "output_type": "stream",
     "text": [
      "-------Two Sigma--------\n"
     ]
    },
    {
     "data": {
      "text/plain": [
       "Pval          0.021178\n",
       "Pix Count    44.000000\n",
       "Name: 161, dtype: float64"
      ]
     },
     "metadata": {},
     "output_type": "display_data"
    },
    {
     "name": "stdout",
     "output_type": "stream",
     "text": [
      "--------CN Data---------\n"
     ]
    },
    {
     "data": {
      "text/plain": [
       "Pval          0.486557\n",
       "Pix Count    32.000000\n",
       "Name: 0, dtype: float64"
      ]
     },
     "metadata": {},
     "output_type": "display_data"
    }
   ],
   "source": [
    "#Trial Correction for binned pvalues, and Crab Nebula bin--------------\n",
    "\n",
    "hottest_corrected_pval = len(hot_pvals[hot_pvals < hot_pvals[0]]) / num_trials\n",
    "CN_corrected_pval = len(CN_pvals[CN_pvals < CN_pvals[0]]) / num_trials\n",
    "\n",
    "print('Pre-trial Hottest P-value:', hot_pvals[0])\n",
    "print('Corrected Hottest P-value:', hottest_corrected_pval)\n",
    "print('Pre-trial CN P-value:', CN_pvals[0])\n",
    "print('Corrected CN P-value:', CN_corrected_pval)\n",
    "\n",
    "#Crab Nebula Injection: How many events to get it to *2* sigma ?--------\n",
    "#We will estimate a normal dist, so 2 sigma for one-tail is the pvalue that is lower than 97.8% of the trials...\n",
    "#...and find the counts that gives this pvalue\n",
    "#We start by constructing a dataframe for counts and pvalues of trials\n",
    "scram_CN_df = pd.DataFrame(CN_pvals)\n",
    "scram_CN_df.columns = ['Pval']\n",
    "scram_CN_df['Pix Count'] = CN_counts\n",
    "\n",
    "#Location of 2sigma pvalue after sorting---------\n",
    "twoSigLoc = num_trials - int(np.rint(0.978 * num_trials))\n",
    "\n",
    "scram_CN_df.sort_values(by='Pval', inplace=True)\n",
    "display(scram_CN_df)\n",
    "print('-------Two Sigma--------')\n",
    "display(scram_CN_df.iloc[twoSigLoc])\n",
    "print('--------CN Data---------')\n",
    "display(scram_CN_df.loc[0])\n",
    "\n",
    "CN_2sig_pval = scram_CN_df.iloc[twoSigLoc,0]"
   ]
  },
  {
   "cell_type": "code",
   "execution_count": 72,
   "metadata": {
    "collapsed": true,
    "jupyter": {
     "outputs_hidden": true,
     "source_hidden": true
    }
   },
   "outputs": [
    {
     "data": {
      "image/png": "[encoded data removed]",
      "text/plain": [
       "<Figure size 432x288 with 1 Axes>"
      ]
     },
     "metadata": {
      "needs_background": "light"
     },
     "output_type": "display_data"
    }
   ],
   "source": [
    "#Plotting lowest p-value distr for binned analysis scrambles...\n",
    "\n",
    "n,e,p = plt.hist(-np.log10(hot_pvals), bins=100)\n",
    "plt.vlines(-np.log10(hot_pvals[0]),0,50, color='r', label='Lowest Data P-value')\n",
    "\n",
    "#plt.hist(hot_pvals, bins=100)\n",
    "#plt.vlines(hot_pvals[0],0,50, color='r', label='Lowest Data P-value')\n",
    "\n",
    "plt.xlabel('-log10(Pval)')\n",
    "plt.ylabel('Counts')\n",
    "plt.title('{} Scrambles: Lowest P-value'.format(num_trials))\n",
    "#plt.yscale('log')\n",
    "plt.legend()\n",
    "plt.show()"
   ]
  },
  {
   "cell_type": "code",
   "execution_count": 47,
   "metadata": {
    "collapsed": true,
    "jupyter": {
     "outputs_hidden": true,
     "source_hidden": true
    }
   },
   "outputs": [
    {
     "data": {
      "image/png": "[encoded data removed]",
      "text/plain": [
       "<Figure size 432x288 with 1 Axes>"
      ]
     },
     "metadata": {
      "needs_background": "light"
     },
     "output_type": "display_data"
    }
   ],
   "source": [
    "#Crab Nebula binned p-values for scrambles...\n",
    "\n",
    "plt.hist(-np.log10(CN_pvals), bins=100)\n",
    "plt.vlines(-np.log10(CN_pvals[0]),0,150, color='r', label='Pre-trial P-value')\n",
    "#plt.vlines(-np.log10(CN_corrected_pval),0,150, color='g', label='Corrected P-value')\n",
    "plt.vlines(-np.log10(CN_2sig_pval),0,150, color='k', label='2sigma P-value')\n",
    "\n",
    "#plt.hist(CN_pvals, bins=100)\n",
    "#plt.vlines(CN_pvals[0],0,150, color='r', label='Pre-trial P-value')\n",
    "#plt.vlines(CN_corrected_pval,0,150, color='g', label='Corrected P-value')\n",
    "#plt.vlines(CN_2sig_pval,0,150, color='k', label='2sigma P-value')\n",
    "\n",
    "plt.xlabel('-log10(P-Value)')\n",
    "plt.ylabel('Counts')\n",
    "#plt.yscale('log')\n",
    "plt.title('{} Scrambles: Crab Nebula Pre-trial P-values'.format(num_trials))\n",
    "plt.legend()\n",
    "plt.show()"
   ]
  },
  {
   "cell_type": "code",
   "execution_count": null,
   "metadata": {},
   "outputs": [],
   "source": []
  }
 ],
 "metadata": {
  "kernelspec": {
   "display_name": "Python 3",
   "language": "python",
   "name": "python3"
  },
  "language_info": {
   "codemirror_mode": {
    "name": "ipython",
    "version": 3
   },
   "file_extension": ".py",
   "mimetype": "text/x-python",
   "name": "python",
   "nbconvert_exporter": "python",
   "pygments_lexer": "ipython3",
   "version": "3.6.8"
  }
 },
 "nbformat": 4,
 "nbformat_minor": 4
}
