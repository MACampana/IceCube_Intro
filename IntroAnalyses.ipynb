{
 "cells": [
  {
   "cell_type": "code",
   "execution_count": 1,
   "metadata": {},
   "outputs": [],
   "source": [
    "#Using Healpy to plot icecube data\n",
    "#Michael Campana Feb 18 2020\n",
    "import time\n",
    "from IPython.display import clear_output"
   ]
  },
  {
   "cell_type": "code",
   "execution_count": 2,
   "metadata": {},
   "outputs": [],
   "source": [
    "import healpy as hp\n",
    "import numpy as np\n",
    "import matplotlib.pyplot as plt\n",
    "from matplotlib.patches import Circle\n",
    "from matplotlib.collections import PatchCollection\n",
    "import pandas as pd\n",
    "from scipy.stats import poisson, binom, chi2\n",
    "from scipy.stats import mode as spmode\n",
    "from scipy.optimize import minimize\n",
    "from scipy.interpolate import splrep, splev, RectBivariateSpline"
   ]
  },
  {
   "cell_type": "code",
   "execution_count": 5,
   "metadata": {
    "collapsed": true,
    "jupyter": {
     "outputs_hidden": true
    }
   },
   "outputs": [
    {
     "name": "stdout",
     "output_type": "stream",
     "text": [
      "93133 136244 105300\n",
      "334677 334677\n"
     ]
    }
   ],
   "source": [
    "#3 year data\n",
    "#UNITS:\n",
    "#    MJD days\n",
    "#    log10E GeV\n",
    "#    AngErr deg\n",
    "#    All Angles deg\n",
    "\n",
    "#MJD1, log10E1, AngErr1, RA1, DEC1, Azi1, Zen1 = np.loadtxt('IC79-2010-events.txt', unpack=True)\n",
    "#MJD2, log10E2, AngErr2, RA2, DEC2, Azi2, Zen2 = np.loadtxt('IC86-2011-events.txt', unpack=True)\n",
    "#MJD3, log10E3, AngErr3, RA3, DEC3, Azi3, Zen3 = np.loadtxt('IC86-2012-events.txt', unpack=True)\n",
    "\n",
    "#print(len(MJD1),len(MJD2),len(MJD3))\n",
    "#MJD = np.concatenate((MJD1,MJD2,MJD3))\n",
    "#log10E = np.concatenate((log10E1,log10E2,log10E3))\n",
    "#AngErr = np.concatenate((AngErr1,AngErr2,AngErr3))\n",
    "#RA = np.concatenate((RA1,RA2,RA3))\n",
    "#DEC = np.concatenate((DEC1,DEC2,DEC3))\n",
    "#Azi = np.concatenate((Azi1,Azi2,Azi3))\n",
    "#Zen = np.concatenate((Zen1,Zen2,Zen3))\n",
    "#print(len(MJD), len(MJD1)+len(MJD2)+len(MJD3))"
   ]
  },
  {
   "cell_type": "code",
   "execution_count": 3,
   "metadata": {},
   "outputs": [],
   "source": [
    "#Data and MC for 2012 PS tracks\n",
    "MC_events = np.load(\"/data/ana/analyses/ps_tracks/current/IC86_2012_MC.npy\")\n",
    "Data_events = np.load(\"/data/ana/analyses/ps_tracks/current/IC86_2012_exp.npy\")"
   ]
  },
  {
   "cell_type": "code",
   "execution_count": 4,
   "metadata": {},
   "outputs": [],
   "source": [
    "#Angles are in RADIANS, energies in GeV\n",
    "MC_RA = np.copy(MC_events['ra'])\n",
    "Data_RA = np.copy(Data_events['ra'])\n",
    "\n",
    "MC_DEC = np.copy(MC_events['dec'])\n",
    "Data_DEC = np.copy(Data_events['dec'])\n",
    "\n",
    "MC_AngErr = np.copy(MC_events['angErr'])\n",
    "Data_AngErr = np.copy(Data_events['angErr'])\n",
    "\n",
    "MC_logE = np.copy(MC_events['logE'])\n",
    "Data_logE = np.copy(Data_events['logE'])\n",
    "\n",
    "#True Values from MC\n",
    "MC_trueRA = np.copy(MC_events['trueRa'])\n",
    "MC_trueDEC = np.copy(MC_events['trueDec'])\n",
    "MC_trueE = np.copy(MC_events['trueE'])\n",
    "\n",
    "#OneWeight, units = GeV cm2 sr (number of events already taken into account)\n",
    "MC_ow = np.copy(MC_events['ow']) "
   ]
  },
  {
   "cell_type": "markdown",
   "metadata": {},
   "source": [
    "<b>EVENT MAPS</b>"
   ]
  },
  {
   "cell_type": "code",
   "execution_count": 4,
   "metadata": {
    "jupyter": {
     "source_hidden": true
    }
   },
   "outputs": [],
   "source": [
    "def PlotMollviewLocal(title,ZenArr,AziArr,nside=64,rot=None):\n",
    "    #Plots mollweide projection of local coords in degrees\n",
    "    nside = nside\n",
    "    npix = hp.nside2npix(nside)\n",
    "    map_ind = hp.ang2pix(nside,np.radians(ZenArr),np.radians(AziArr))\n",
    "    ind, count = np.unique(map_ind, return_counts=True)\n",
    "    hpx_map = np.zeros(npix, dtype=int)\n",
    "    hpx_map[ind] = count\n",
    "    \n",
    "    plt.figure()\n",
    "    hp.mollview(hpx_map, unit='Counts', title=title, rot=rot, margins=(1,1,1,1)) \n",
    "    hp.graticule(30, color='w', alpha=0.7)\n",
    "    \n",
    "    hp.projtext(0,0,'0', size='large', ha='center', va='bottom')\n",
    "    hp.projtext(np.pi/2,0,'0', size='large', ha='left')\n",
    "    hp.projtext(np.pi/2,2*np.pi - .001,'360', size='large', ha='right')\n",
    "    hp.projtext(np.pi,0,'180', size='large', ha='center', va='top')\n",
    "    \n",
    "    plt.title(title, pad=25)\n",
    "    plt.show()\n"
   ]
  },
  {
   "cell_type": "code",
   "execution_count": 5,
   "metadata": {
    "jupyter": {
     "source_hidden": true
    }
   },
   "outputs": [],
   "source": [
    "def PlotMollviewEqui(title,DecArr,RaArr,nside=64,rot=None,coord=None):\n",
    "    #Plots mollweide projection of equitorial coords in degrees\n",
    "    nside = nside\n",
    "    npix = hp.nside2npix(nside)\n",
    "    map_ind = hp.ang2pix(nside,np.pi/2.0 - np.radians(DecArr),np.radians(RaArr))\n",
    "    ind, count = np.unique(map_ind, return_counts=True)\n",
    "    hpx_map = np.zeros(npix, dtype=int)\n",
    "    hpx_map[ind] = count\n",
    "    \n",
    "    plt.figure()\n",
    "    hp.mollview(hpx_map, unit='Counts', title=title, rot=rot, margins=(1,1,1,1), coord=coord) \n",
    "    hp.graticule(30, color='w', alpha=0.7)\n",
    "    \n",
    "    hp.projtext(0,0,'90', size='large', ha='center', va='bottom', coord=coord)#, rot=rot)\n",
    "    hp.projtext(np.pi/2,2.0*np.pi - .001,'360', size='large', ha='right', coord=coord)#, rot=rot)\n",
    "    hp.projtext(np.pi/2,0,'0', size='large', ha='left', coord=coord)#, rot=rot)\n",
    "    hp.projtext(np.pi,0,'-90', size='large', ha='center', va='top', coord=coord)#, rot=rot)\n",
    "    \n",
    "    plt.title(title, pad=25)\n",
    "    plt.show()\n"
   ]
  },
  {
   "cell_type": "markdown",
   "metadata": {},
   "source": [
    "<b>ANALYSES</b>"
   ]
  },
  {
   "cell_type": "code",
   "execution_count": 6,
   "metadata": {
    "jupyter": {
     "source_hidden": true
    }
   },
   "outputs": [],
   "source": [
    "#Getting RA and DEC coords of each pixel, along with the counts per pixel\n",
    "def AngAndCountPerPixEqui(DEC,RA,nside=64,rot=None,coord=None):\n",
    "    nside = nside\n",
    "    npix = hp.nside2npix(nside) #Number of pixels (Number of bins)\n",
    "    #print(npix)\n",
    "    pix_nums_list = np.arange(npix) #List of possible pixel numbers for npix total pixels\n",
    "    pix_num = hp.ang2pix(nside,np.pi/2.0 - np.radians(DEC),np.radians(RA)) #Pixel number for each event\n",
    "    pix_nums, pix_counts = np.unique(pix_num, return_counts=True)  #Pixel numbers and counts of each pixel \n",
    "    #The above line will create arrays with pix_nums that have greater than 0 counts...we need to include all\n",
    "    #We will create two data frames, one for the possible pixel numbers,\n",
    "    #...and one for the unique pixel numbers and counts,\n",
    "    #...and then merge them on pixel numbers, and replace NaN with 0 counts\n",
    "    num_list_df = pd.DataFrame(pix_nums_list)\n",
    "    num_list_df.columns = ['pix_num']\n",
    "    \n",
    "    unique_nums_counts_df = pd.DataFrame(pix_nums)\n",
    "    unique_nums_counts_df.columns = ['pix_num']\n",
    "    unique_nums_counts_df['pix_count'] = pix_counts\n",
    "    \n",
    "    pix_lat, pix_lon = hp.pix2ang(nside, pix_nums_list) #latitude and longitude of possible pixel number\n",
    "    pix_dec = np.pi/2 - pix_lat #DEC from latitude\n",
    "    pix_ra = pix_lon            #RA from longitude\n",
    "    #print(pix_dec)\n",
    "    num_list_df['RA'] = pix_ra\n",
    "    num_list_df['DEC'] = pix_dec\n",
    "    \n",
    "    #Dataframe containing all possible pixel numbers with their respective RA,DEC and counts\n",
    "    nums_counts_ra_dec_df = num_list_df.merge(unique_nums_counts_df, on='pix_num',how='outer')\n",
    "    nums_counts_ra_dec_df.fillna(0.0, inplace=True)\n",
    "    #display(nums_counts_ra_dec_df)\n",
    "    \n",
    "    decs = nums_counts_ra_dec_df['DEC'].to_numpy(copy=True, dtype=np.float64)\n",
    "    ras = nums_counts_ra_dec_df['RA'].to_numpy(copy=True, dtype = np.float64)\n",
    "    counts = nums_counts_ra_dec_df['pix_count'].to_numpy(copy=True, dtype=np.float64)\n",
    "    pixels = nums_counts_ra_dec_df['pix_num'].to_numpy(copy=True, dtype=np.float64)\n",
    "    \n",
    "    return nums_counts_ra_dec_df, decs, ras, counts, pixels"
   ]
  },
  {
   "cell_type": "code",
   "execution_count": 7,
   "metadata": {
    "jupyter": {
     "source_hidden": true
    }
   },
   "outputs": [],
   "source": [
    "def BinnedPvalAnalysisEqui(decs,ras,counts,nside=64):\n",
    "    unique_decs = np.unique(decs)\n",
    "    unique_decs = np.flip(unique_decs)\n",
    "\n",
    "    dec_bin_counts = {} #Dictionary to hold list of counts per bin in each declination band\n",
    "\n",
    "    #Create dictionary to hold a list of counts for each bin in the labeled declination band\n",
    "    for pixdec in unique_pix_decs:\n",
    "        dec_bin_counts[pixdec] = pixelCountList[np.nonzero(decs == pixdec)]\n",
    "    \n",
    "    #for i in range(len(unique_decs)):\n",
    "    #    band_counts_per_bin = []\n",
    "    #    for j in range(len(decs)):\n",
    "    #        if decs[j] == unique_decs[i]:\n",
    "    #            band_counts_per_bin.append(counts[j])\n",
    "    #    dec_bin_counts[unique_decs[i]] = band_counts_per_bin\n",
    "    \n",
    "    #Create Dictionary of lists of pvalues per bin in each band, keyed by declination of each band\n",
    "    #And dictionary of dec band count averages\n",
    "    #And dictionary of dec band mins, and of maxes\n",
    "    #And median\n",
    "    dec_bin_pvals = {}\n",
    "    dec_band_count_avg = {}\n",
    "    dec_band_count_min = {}\n",
    "    dec_band_count_max = {}\n",
    "    dec_band_count_med = {}\n",
    "    for d in unique_decs:\n",
    "        bin_count_list = dec_bin_counts[d]\n",
    "        band_count_avg = np.mean(bin_count_list, dtype=np.float64)\n",
    "        band_count_max = np.max(bin_count_list)\n",
    "        band_count_min = np.min(bin_count_list)\n",
    "        band_count_med = np.median(bin_count_list)\n",
    "        band_pval_per_bin = poisson.sf(bin_count_list, band_count_avg)\n",
    "        \n",
    "        dec_bin_pvals[d] = band_pval_per_bin\n",
    "        dec_band_count_avg[d] = band_count_avg\n",
    "        dec_band_count_min[d] = band_count_min\n",
    "        dec_band_count_max[d] = band_count_max\n",
    "        dec_band_count_med[d] = band_count_med\n",
    "\n",
    "    pvals = [item for sublist in list(dec_bin_pvals.values()) for item in sublist] #Flatten\n",
    "\n",
    "    #print(min(pvals))\n",
    "    #print(max(pvals))\n",
    "    #print(np.mean(pvals))\n",
    "    #print(len(pvals))\n",
    "    \n",
    "    return pvals, dec_bin_counts, dec_band_count_avg, dec_band_count_min, dec_band_count_max, dec_bin_pvals, dec_band_count_med\n"
   ]
  },
  {
   "cell_type": "code",
   "execution_count": 8,
   "metadata": {
    "jupyter": {
     "source_hidden": true
    }
   },
   "outputs": [],
   "source": [
    "def BinomialPvalAnalysisEqui(eventDecList, pixelRAList, pixelDecList, pixelCountList, maxDelDec, minDelDec, nside = 64, sig_count_adjust = False):\n",
    "    #Using Binomial statistics to compare each bin to events in its respective solid angle declination band\n",
    "    #...rather than comparing each bin to each other bin with the same declination\n",
    "    #We will obtain counts for a band of declination defined by pixel centers +/- some deltaDec in rads\n",
    "    DEC_rad = np.radians(eventDecList)\n",
    "    \n",
    "    dec_band_counts = {}\n",
    "    \n",
    "    #Unique decs for pixels\n",
    "    unique_pix_decs, pixels_per_dec = np.unique(pixelDecList, return_counts=True)\n",
    "    unique_pix_decs = np.flip(unique_pix_decs)\n",
    "    #print('-------------UNIQUE PIXEL DECS--------------')\n",
    "    #print(unique_pix_decs)\n",
    "    \n",
    "    #Varying deltaDec as we move away from dec=0\n",
    "    q = complex(0,len(unique_pix_decs[unique_pix_decs >= np.pi/6]))\n",
    "    p = len(unique_pix_decs[(unique_pix_decs < np.pi/6) & (unique_pix_decs > -np.pi/6)])\n",
    "    v = complex(0,len(unique_pix_decs[unique_pix_decs <= -np.pi/6]))\n",
    "    \n",
    "    deltaDec = np.r_[maxDelDec:minDelDec:q, [minDelDec]*p, minDelDec:maxDelDec:v]\n",
    "    #print(len(deltaDec), len(unique_pix_decs))\n",
    "    #print('------------HALF BAND WIDTHS------------')\n",
    "    #print(deltaDec)\n",
    "    \n",
    "    #Dictionary to hold number of events in defined dec band\n",
    "    for upd, dD in zip(unique_pix_decs, deltaDec):\n",
    "        dec_band_counts[upd] = len(DEC_rad[(DEC_rad >= upd - dD) & (DEC_rad < upd + dD)])\n",
    "    \n",
    "    #Dictionary to hold list of counts per bin in each declination band for plotting's sake\n",
    "    #And also RA values for those bins\n",
    "    dec_bin_counts = {} \n",
    "    dec_bin_ras = {}\n",
    "    #Fill dictionary...\n",
    "    for d in unique_pix_decs:\n",
    "        dec_bin_counts[d] = pixelCountList[np.nonzero(pixelDecList == d)]\n",
    "        dec_bin_ras[d] = pixelRAList[np.nonzero(pixelDecList == d)]\n",
    "    \n",
    "    #Create Dictionary of lists of pvalues per bin in each band, keyed by declination of each band\n",
    "    #And dictionary of dec band count averages\n",
    "    #And dictionary of dec band mins, and of maxes\n",
    "    #And median\n",
    "    dec_bin_pvals = {}\n",
    "    dec_band_count_avg = {}  #Note: Here 'band' refers to pixels with centers at the same dec\n",
    "    dec_band_count_min = {}\n",
    "    dec_band_count_max = {}\n",
    "    dec_band_count_med = {}\n",
    "    \n",
    "    pix_solang = hp.nside2pixarea(nside)\n",
    "    \n",
    "    for upd, dD in zip(unique_pix_decs, deltaDec):\n",
    "        bin_count_list = dec_bin_counts[upd]\n",
    "        band_count_avg = np.mean(bin_count_list, dtype=np.float64)\n",
    "        band_count_max = np.max(bin_count_list)\n",
    "        band_count_min = np.min(bin_count_list)\n",
    "        band_count_med = np.median(bin_count_list)\n",
    "        \n",
    "        band_solang = ( np.sin(upd + dD) - np.sin(upd - dD) ) * 2.0 * np.pi \n",
    "        bg_prob = pix_solang / band_solang\n",
    "        \n",
    "        if sig_count_adjust:\n",
    "            #Make any count less than the average, equal to the average\n",
    "            bin_count_list[(bin_count_list / pix_solang) < (dec_band_counts[upd] / band_solang)] = np.rint(dec_band_counts[upd] / band_solang * pix_solang)\n",
    "        \n",
    "        band_pval_per_bin = binom.sf(bin_count_list, dec_band_counts[upd], bg_prob)\n",
    "        \n",
    "        #Cut out 80 deg to pole (N and S poles)\n",
    "        if upd >= 1.4 or upd <= -1.4:\n",
    "            dec_bin_pvals[upd] = np.full_like(band_pval_per_bin,np.nan)\n",
    "        else:\n",
    "            dec_bin_pvals[upd] = band_pval_per_bin\n",
    "        \n",
    "        #dec_bin_pvals[upd] = band_pval_per_bin\n",
    "        dec_band_count_avg[upd] = band_count_avg\n",
    "        dec_band_count_min[upd] = band_count_min\n",
    "        dec_band_count_max[upd] = band_count_max\n",
    "        dec_band_count_med[upd] = band_count_med\n",
    "\n",
    "    pvals = [item for sublist in list(dec_bin_pvals.values()) for item in sublist] #Flatten pvals\n",
    "\n",
    "    return pvals, dec_band_counts, dec_bin_counts, dec_band_count_avg, dec_band_count_min, dec_band_count_max, dec_bin_pvals, dec_band_count_med, deltaDec, dec_bin_ras"
   ]
  },
  {
   "cell_type": "markdown",
   "metadata": {},
   "source": [
    "From the Bootcamp example...\n",
    "\n",
    "For Unbinned LLH:"
   ]
  },
  {
   "cell_type": "markdown",
   "metadata": {},
   "source": [
    "We will use the following likelihood definition\n",
    "\\begin{equation}\n",
    "\\mathcal{L}(ns) = \\prod_{i = 1}^N\\left[ \\frac{ns}{N} S_{i,c} + (1-\\frac{ns}{N}) B \\right], \\\\ B = 1/4\\pi, \\\\ S_{i,c} = S(event_i, source_c)\n",
    "\\end{equation}\n",
    "where $ns = 0$ is the null hypothesis and is bounded to be between zero and N, $S$ accounts for the event angular distribution, $B$ is the background distribution which we will assume isotropic ($1/4\\pi$). N is the total number of events. Go ahead and construct the $\\log\\mathcal{L}$."
   ]
  },
  {
   "cell_type": "markdown",
   "metadata": {},
   "source": [
    "We are going to use the following test statistic (TS) definition<br><br>\n",
    "\\begin{equation}\n",
    "\\mathcal{TS} = 2 * \\log( \\mathcal{L}(ns) / \\mathcal{L}(ns=0) )\n",
    "\\end{equation}<br>\n",
    "\\begin{equation}\n",
    "\\mathcal{TS} = 2 * \\sum_{i = 1}^N \\log\\left[ \\frac{ns}{N} \\frac{S_{i,c}}{B} + (1-\\frac{ns}{N}) \\right]\n",
    "\\end{equation}"
   ]
  },
  {
   "cell_type": "code",
   "execution_count": 50,
   "metadata": {},
   "outputs": [],
   "source": [
    "class Single_Source_Spatial_Dists:\n",
    "    \n",
    "    def __init__(self, data_dec_list, data_ra_list, data_angerr_list, source_dec, source_ra):\n",
    "        #Use radians for calculations\n",
    "        #print('start')\n",
    "        self.ddec = data_dec_list\n",
    "        self.dra = data_ra_list\n",
    "        self.dangerr = data_angerr_list\n",
    "        \n",
    "        self.sdec = source_dec\n",
    "        self.sra = source_ra\n",
    "        \n",
    "    #Uses a bivariate gaussian distribution for spatial signal distribution.\n",
    "    #Hence, we are approximating a local region on a sphere to be a flat surface.\n",
    "    #(for in depth, see https://icecube-spno.slack.com/archives/CA14S7480/p1568135317031700)\n",
    "    \n",
    "    def signal_spatial(self):\n",
    "        #NOTE: This S_space is for all events, with one source. When using multiple sources, \n",
    "        #...will need to loop over the sources; implementing this func once\n",
    "        #...per source.\n",
    "        \n",
    "        expon = -.5 * ( (self.ddec - self.sdec)**2 + (self.dra - self.sra)**2 ) / (self.dangerr)**2\n",
    "        S_s = 1.0 / (2.0 * np.pi) / (self.dangerr)**2 * np.exp(expon)\n",
    "        #print('signal_distribution')\n",
    "        return S_s\n",
    "    \n",
    "    def background_spatial(self):\n",
    "        #Obtaining Background Dist\n",
    "\n",
    "        #sin(dec) bins\n",
    "        dec_bins = np.unique(np.concatenate([\n",
    "                                 np.linspace(-1., -0.2, 10 + 1),\n",
    "                                 np.linspace(-0.2, 0.0, 4 + 1),\n",
    "                                 np.linspace(0.0, 0.2, 5 + 1),\n",
    "                                 np.linspace(0.2, 1., 10),\n",
    "                                 ]))\n",
    "\n",
    "        bin_centers = []\n",
    "        for i in range(len(dec_bins)-1):\n",
    "            bin_centers.append( (dec_bins[i] + dec_bins[i+1]) / 2.0 )\n",
    "\n",
    "        n, bins = np.histogram(np.sin(self.ddec), bins=dec_bins, density=True)\n",
    "        \n",
    "        tck = splrep(bin_centers, n/(2.0*np.pi))\n",
    "        \n",
    "        B_s = splev(np.sin(self.ddec), tck)\n",
    "        #print('background_distribution')\n",
    "        return B_s\n",
    "    \n",
    "    \n",
    "class Singe_Source_Energy_Dists:   \n",
    "    \n",
    "    def __init__(self, MC_trueE_list, MC_DEC_list, MC_ow_list, Data_logE_list, Data_DEC_list):\n",
    "        self.mcow = MC_ow_list\n",
    "        self.mcdec = MC_DEC_list\n",
    "        self.mctrueE = MC_trueE_list\n",
    "        \n",
    "        self.ddec = Data_DEC_list\n",
    "        self.dlogE = Data_logE_list\n",
    "        \n",
    "    #Now, we will make our energy distributions to be used in energy weighting\n",
    "    #We will 2D-histogram data and MC separately by logE vs sinDec\n",
    "    #MC must be weighted using desired flux (gamma) and OneWeight (see oneweight paper)\n",
    "    \n",
    "    def MC_energy_dist(self, gamma=-2.7):\n",
    "        livetime = 28682769.6 #seconds, from GRL, sum of run livetimes for 2012 data (about 331 days)\n",
    "        flux_norm = 1.0e-18\n",
    "        \n",
    "        #weighting according to desired spectrum, with reference E = 100TeV (units GeV)\n",
    "        mcweights = flux_norm * self.mcow * (self.mctrueE / 1.0e5)**gamma * livetime \n",
    "        H, xedges, yedges = np.histogram2d(np.log10(self.mctrueE), np.sin(self.mcdec), \n",
    "                                           bins=10, density=True, weights=mcweights)\n",
    "        \n",
    "        #Now fit the hist2d...\n",
    "        #Will use S_e.ev(x,y) to evaluate at (x,y)=(logE,sinDec)\n",
    "        MC_e_func = RectBivariateSpline(xedges[:-1], yedges[:-1], np.transpose(H))\n",
    "        MC_e = MC_e_func.ev(self.dlogE, np.sin(self.ddec))\n",
    "        \n",
    "        return MC_e\n",
    "    \n",
    "    def data_energy_dist(self):\n",
    "        \n",
    "        H, xedges, yedges = np.histogram2d(self.dlogE, np.sin(self.ddec), \n",
    "                                           bins=10, density=True)\n",
    "        \n",
    "        #Now fit the hist2d...\n",
    "        #Will use S_e.ev(x,y) to evaluate at (x,y)=(logE,sinDec)\n",
    "        data_e_func = RectBivariateSpline(xedges[:-1], yedges[:-1], np.transpose(H))\n",
    "        data_e = data_e_func.ev(self.dlogE, np.sin(self.ddec))\n",
    "        \n",
    "        return data_e\n",
    "    \n",
    "    \n",
    "class Single_Source_TestStatistic:\n",
    "    \n",
    "    def __init__(self, S_s, B_s, S_e, B_e):\n",
    "        self.S_s = S_s\n",
    "        self.S_e = S_e\n",
    "        \n",
    "        self.B_s = B_s\n",
    "        self.B_e = B_e\n",
    "        \n",
    "    #Now we define the test statistic...\n",
    "    def calc_TS(self, ns):\n",
    "        N = len(self.S_s) #Total number of events\n",
    "        \n",
    "        log_term = (ns / N) * (self.S_s / self.B_s) * (self.S_e / self.B_e) + (1.0 - ns / N)\n",
    "        \n",
    "        TS = -2.0 * np.sum(np.log(log_term))\n",
    "        \n",
    "        #print('calc_TS')\n",
    "        return TS\n",
    "    \n",
    "    #using scipy.optimize.minimize\n",
    "    def minimize_TS(self):\n",
    "        minTS_res = minimize(self.calc_TS, np.array([1.0]), bounds=((0.0,len(self.S_s)),))\n",
    "        #print('minimize_TS')\n",
    "        return minTS_res.x[0], minTS_res.fun     "
   ]
  },
  {
   "cell_type": "markdown",
   "metadata": {},
   "source": [
    "<b>************PLOTTING************</b>"
   ]
  },
  {
   "cell_type": "code",
   "execution_count": 31,
   "metadata": {
    "jupyter": {
     "source_hidden": true
    }
   },
   "outputs": [],
   "source": [
    "def plotPvalsEqui(decs,ras,pvals,hotRA,hotDEC, nside=64, coord=None, rot=None, title=None, logvals=False):\n",
    "    #decs and ras should be in radians for this function\n",
    "    \n",
    "    if logvals:\n",
    "        pvals = -np.log10(pvals)\n",
    "        mincb = 0.0\n",
    "        maxcb = None\n",
    "        unit = '- log10 Pval'\n",
    "    else:\n",
    "        mincb = 0.0\n",
    "        maxcb = 1.0\n",
    "        unit = 'Pval'\n",
    "    \n",
    "    npix = hp.nside2npix(nside)\n",
    "    map_ind = hp.ang2pix(nside, np.pi/2.0 - decs, ras) \n",
    "    ind = np.bincount(map_ind)\n",
    "    hpx_map = np.zeros(npix, dtype=np.float64)\n",
    "    hpx_map[np.arange(npix)] = np.array(pvals)\n",
    "    \n",
    "    plt.figure(facecolor='w')\n",
    "    hp.mollview(hpx_map, unit=unit, title=title, rot=rot, margins=(1,1,1,1), coord=coord, min=mincb,max=maxcb, cmap='coolwarm') \n",
    "    hp.graticule(30, color='w', alpha=0.7)\n",
    "    \n",
    "    hp.projtext(0,0,'90', size='large', ha='center', va='bottom', coord=coord)#, rot=rot)\n",
    "    hp.projtext(np.pi/2,2.0*np.pi - .001,'360', size='large', ha='right', coord=coord)#, rot=rot)\n",
    "    hp.projtext(np.pi/2,0,'0', size='large', ha='left', coord=coord)#, rot=rot)\n",
    "    hp.projtext(np.pi,0,'-90', size='large', ha='center', va='top', coord=coord)#, rot=rot)\n",
    "    \n",
    "    hp.projscatter(np.pi/2.0 - hotDEC, hotRA, marker='+', facecolors='black', edgecolors='black', coord=coord)\n",
    "    \n",
    "    plt.title(title, pad=25)\n",
    "    plt.show()\n"
   ]
  },
  {
   "cell_type": "code",
   "execution_count": 10,
   "metadata": {
    "jupyter": {
     "source_hidden": true
    }
   },
   "outputs": [],
   "source": [
    "def PlotPixelsPerDec(dec_bin_counts):\n",
    "    #Getting number of bins in each dec band for binned analysis\n",
    "    \n",
    "    dec_num_of_bins = []\n",
    "    for key in dec_bin_counts.keys():\n",
    "        dec_num_of_bins.append(len(dec_bin_counts[key]))\n",
    "\n",
    "    #Plotting num of bins in each dec\n",
    "    plt.figure(figsize=(8,6), facecolor='w')\n",
    "    plt.step(list(dec_bin_counts.keys()),dec_num_of_bins)\n",
    "    plt.xlabel('DEC Band')\n",
    "    plt.ylabel('Number of pixels')\n",
    "    plt.show()\n",
    "    "
   ]
  },
  {
   "cell_type": "code",
   "execution_count": 11,
   "metadata": {
    "jupyter": {
     "source_hidden": true
    }
   },
   "outputs": [],
   "source": [
    "def PlotPixelCountsPerDec(dec_band_count_avg,dec_band_count_min,dec_band_count_max,dec_band_count_med):\n",
    "    #Plotting average, min, max Counts in each dec band (pix centers)\n",
    "    \n",
    "    plt.figure(figsize=(8,6), facecolor='w')\n",
    "    plt.step(list(dec_band_count_avg.keys()), list(dec_band_count_avg.values()), label='Mean')\n",
    "    plt.step(list(dec_band_count_min.keys()), list(dec_band_count_min.values()), label='Min')\n",
    "    plt.step(list(dec_band_count_max.keys()), list(dec_band_count_max.values()), label='Max')\n",
    "    plt.step(list(dec_band_count_med.keys()), list(dec_band_count_med.values()), label='Median')\n",
    "    plt.xlabel('DEC Band')\n",
    "    plt.ylabel('Counts per Bin')\n",
    "    plt.legend()\n",
    "    plt.show()\n"
   ]
  },
  {
   "cell_type": "code",
   "execution_count": 12,
   "metadata": {
    "jupyter": {
     "source_hidden": true
    }
   },
   "outputs": [],
   "source": [
    "def PlotPvalPerDecBand(decs, dec_bin_pvals):\n",
    "    #Plotting Median, Mean pval per dec band (pixel centers)\n",
    "    \n",
    "    unique_decs = np.flip(np.unique(decs))\n",
    "\n",
    "    dec_band_mean_pval = {}\n",
    "    dec_band_median_pval = {}\n",
    "    for d in unique_decs:\n",
    "        band_pvals = dec_bin_pvals[d]\n",
    "        band_mean_pval = np.mean(band_pvals)\n",
    "        band_median_pval = np.median(band_pvals)\n",
    "        dec_band_mean_pval[d] = band_mean_pval\n",
    "        dec_band_median_pval[d] = band_median_pval\n",
    "\n",
    "    plt.figure(figsize=(8,6), facecolor='w')\n",
    "    plt.step(list(dec_band_median_pval.keys()), list(dec_band_median_pval.values()), label='Median')\n",
    "    plt.step(list(dec_band_mean_pval.keys()), list(dec_band_mean_pval.values()), label='Mean')\n",
    "    plt.xlabel('DEC Band')\n",
    "    plt.ylabel('P-value')\n",
    "    plt.ylim(0.0,1.0)\n",
    "    \n",
    "    plt.hlines(0.5,-1.5,1.5,linestyle='--')\n",
    "    \n",
    "    plt.legend()\n",
    "    plt.show()\n",
    "    "
   ]
  },
  {
   "cell_type": "code",
   "execution_count": 13,
   "metadata": {
    "jupyter": {
     "source_hidden": true
    }
   },
   "outputs": [],
   "source": [
    "def PlotBandWidths(decs,deltaDec):\n",
    "    #Band width per declination (pixel centers)\n",
    "    \n",
    "    unique_pix_decs = np.unique(decs)\n",
    "    unique_pix_decs = np.flip(unique_pix_decs)\n",
    "    plt.step(np.degrees(unique_pix_decs), np.degrees(deltaDec))\n",
    "    plt.ylabel('Half Band Width')\n",
    "    plt.xlabel('Dec Band Center')\n",
    "    plt.show()"
   ]
  },
  {
   "cell_type": "code",
   "execution_count": 14,
   "metadata": {
    "jupyter": {
     "source_hidden": true
    }
   },
   "outputs": [],
   "source": [
    "def PlotCountsPerDecBand(dec_band_counts):\n",
    "    #Event counts per declination band\n",
    "    \n",
    "    plt.figure(figsize=(8,6), facecolor='w')\n",
    "    plt.step(list(dec_band_counts.keys()), list(dec_band_counts.values()))\n",
    "    plt.ylabel('Event Counts')\n",
    "    plt.xlabel('DEC Band Center')\n",
    "    plt.show()"
   ]
  },
  {
   "cell_type": "code",
   "execution_count": 35,
   "metadata": {
    "jupyter": {
     "source_hidden": true
    }
   },
   "outputs": [],
   "source": [
    "def PlotPvalsOneDec(ras, pvals, counts):\n",
    "    #For plotting the pvalues across a single declination\n",
    "    #given the respective ras,pvals,counts for the pixels in that dec band\n",
    "    \n",
    "    meanpv = np.mean(pvals)\n",
    "    medpv = np.median(pvals)\n",
    "    maxpv = np.max(pvals)\n",
    "    minpv = np.min(pvals)\n",
    "    modepv = spmode(pvals)\n",
    "    \n",
    "    ras = np.degrees(ras)\n",
    "    \n",
    "    modect = spmode(counts)\n",
    "    \n",
    "    fig, ax1 = plt.subplots(figsize=(16,6))\n",
    "    \n",
    "    color='r'\n",
    "    ax1.step(ras,pvals, color=color)\n",
    "    line1 = ax1.hlines(meanpv,0,360, label='Mean Pval', color='g')\n",
    "    line2 = ax1.hlines(maxpv,0,360, label='Max & Min Pval', color=color, linestyle='--')\n",
    "    ax1.hlines(minpv,0,360, color=color, linestyle='--')\n",
    "    line3 = ax1.hlines(modepv[0],0,360, color=color, linestyle='dashdot', label='Mode Pval')\n",
    "    #ax1.hlines(medpv,0,2*np.pi, label='Median Pval', color='g', linestyle='-.')\n",
    "    line4 = ax1.hlines(0.5,0,360, label='Pval=0.5', linestyle='dotted')\n",
    "    ax1.set_ylabel('P-value', color=color)\n",
    "    ax1.set_xlabel('RA [deg]')\n",
    "    ax1.tick_params(axis='y', labelcolor=color)\n",
    "    #ax1.legend()\n",
    "    \n",
    "    ax2 = ax1.twinx()\n",
    "    color = 'b'\n",
    "    ax2.step(ras,counts, color=color)\n",
    "    ax2.set_ylabel('Count', color=color)\n",
    "    ax2.tick_params(axis='y', labelcolor=color)\n",
    "    line5 = ax2.hlines(modect[0],0,360, color=color, linestyle='dashdot', label='Mode Count')\n",
    "    #ax2.legend()\n",
    "    \n",
    "    lns = (line1,line2,line3,line4,line5)\n",
    "    labs = [l.get_label() for l in lns]\n",
    "    \n",
    "    ax1.legend(lns,labs)\n",
    "    plt.title('Declination ~10 deg')\n",
    "    fig.tight_layout()\n",
    "    plt.show()"
   ]
  },
  {
   "cell_type": "code",
   "execution_count": 16,
   "metadata": {
    "jupyter": {
     "source_hidden": true
    }
   },
   "outputs": [],
   "source": [
    "def HistPvalsCountsOneDec(pvals,counts):\n",
    "    #For plotting a histogram of the pixel counts in a single declination (pixel centers)\n",
    "    \n",
    "    nbin=64 #number of bins\n",
    "    \n",
    "    plt.figure(figsize=(16,6), facecolor='w')\n",
    "    \n",
    "    plt.subplot(1,2,1)\n",
    "    plt.hist(pvals,bins=nbin)\n",
    "    plt.xlabel('P-value')\n",
    "    \n",
    "    plt.subplot(1,2,2)\n",
    "    plt.hist(counts,bins=nbin)\n",
    "    plt.xlabel('Event Counts per Pixel')\n",
    "    \n",
    "    plt.show()"
   ]
  },
  {
   "cell_type": "code",
   "execution_count": 6,
   "metadata": {},
   "outputs": [],
   "source": [
    "def PlotPointsNearSource(event_ras, event_decs, event_errs, signal_weights, target_ra, target_dec, target_name, vmax=0.3):\n",
    "    #Plot events with error circles, colored by signal distribution value\n",
    "    #Puts an 'x' at the source point (written for single source point)\n",
    "    #Takes all angles/errors in degrees, for visualization convenience\n",
    "    \n",
    "    fig, ax = plt.subplots()\n",
    "\n",
    "    plt.scatter(target_ra, target_dec, label=target_name, marker='x', c='k')\n",
    "    scat1 = plt.scatter(event_ras, event_decs, label='Data', c=signal_weights, cmap='plasma', vmin=0.0, vmax=vmax)\n",
    "\n",
    "    colors = scat1.to_rgba(signal_weights)\n",
    "    #print(colors)\n",
    "\n",
    "    patches = []\n",
    "    for i in range(len(event_ras)):\n",
    "        patches.append( Circle( (event_ras[i], event_decs[i]), radius=event_errs[i] ) )\n",
    "\n",
    "\n",
    "    patchCollection = PatchCollection(patches, edgecolors=colors, facecolors='none')\n",
    "    ax.add_collection(patchCollection)\n",
    "\n",
    "\n",
    "    plt.legend()\n",
    "    plt.colorbar(label='Normalized Signal Probability')\n",
    "    plt.xlabel('RA [deg]')\n",
    "    plt.ylabel('DEC [deg]')\n",
    "    plt.axis('square')\n",
    "    \n",
    "    ax.set_xlim(ax.get_xlim()[::-1])\n",
    "    \n",
    "    plt.grid(True)\n",
    "    plt.tight_layout()\n",
    "    \n",
    "    ax.set_axisbelow(True)\n",
    "    plt.show()"
   ]
  },
  {
   "cell_type": "code",
   "execution_count": 7,
   "metadata": {},
   "outputs": [],
   "source": [
    "def PlotTSandChi2(TSs, num_trials):\n",
    "    #Assumes TS = - 2 * LLHR\n",
    "\n",
    "    #Plotting TS distributions for many trials\n",
    "    plt.figure(figsize=(16,4), facecolor='w')\n",
    "\n",
    "    #Fraction of TS that are != 0\n",
    "    TS_frac = np.mean(TSs < 0)\n",
    "    print('Fraction of TS < 0 :', TS_frac)\n",
    "\n",
    "    #Median TS\n",
    "    TS_med = np.median(TSs)\n",
    "    print('Median TS: ', TS_med)\n",
    "\n",
    "    plt.subplot(1,2,1)\n",
    "    plt.hist(-TSs, bins=50, density=False)\n",
    "    plt.semilogy()\n",
    "    plt.ylabel('Trial Count')\n",
    "    plt.xlabel('TS (2*LLHR)')\n",
    "    plt.title('{} Trials, TS'.format(num_trials))\n",
    "\n",
    "    #Fitting chi2 to -TS > 0\n",
    "    plt.subplot(1,2,2)\n",
    "    n, bins, patches = plt.hist(-TSs, bins=50, density=True)\n",
    "\n",
    "    df, loc, scale = chi2.fit(-TSs[TSs < 0])\n",
    "    print('Chi2 Fit DoF: ', df)\n",
    "    print('Chi2 Fit loc: ', loc)\n",
    "    print('Chi2 Fit scale: ', scale)\n",
    "\n",
    "    xs = np.arange(0.001,np.max(bins),0.01)\n",
    "\n",
    "    plt.plot(xs, TS_frac*chi2.pdf(xs, df, loc=loc, scale=scale), label='TS > 0 Chi2 Fit: dof={}'.format(np.round(df, decimals=2)))\n",
    "    plt.vlines(TS_med, 0.0, np.max(n), label='Median TS', colors='r')\n",
    "    plt.title('{} Trials, TS, eta = {} '.format(num_trials, TS_frac))\n",
    "    plt.xlabel('TS (2*LLHR)')\n",
    "    plt.ylabel('Normalized Trial Count')\n",
    "    plt.semilogy()\n",
    "    plt.legend()\n",
    "\n",
    "    plt.show()"
   ]
  },
  {
   "cell_type": "markdown",
   "metadata": {},
   "source": [
    "<b>RUNNING TRIALS</b>"
   ]
  },
  {
   "cell_type": "code",
   "execution_count": 8,
   "metadata": {},
   "outputs": [
    {
     "name": "stdout",
     "output_type": "stream",
     "text": [
      "1.8322594196359498\n"
     ]
    }
   ],
   "source": [
    "#Values for use in following functions\n",
    "\n",
    "nside_choice = 32\n",
    "\n",
    "#Min and max band width---------------------------------\n",
    "minDelDec_choice = np.radians(1.0) #This is half the band width\n",
    "maxDelDec_choice = np.radians(2.5)\n",
    "\n",
    "print(np.degrees(hp.nside2resol(nside_choice)))\n",
    "\n",
    "#Number of scrambles------------------------------------\n",
    "num_trials = 100\n",
    "\n",
    "#For Crab Nebula------------------------------------------\n",
    "cnpix = hp.ang2pix(nside_choice, np.pi/2 - np.radians(22.01), np.radians(83.63))\n",
    "\n",
    "#For setting counts less than dec avg count to the avg count, use True\n",
    "sig_count_adjust = True\n",
    "#print(hp.nside2pixarea(nside_choice)\n",
    "\n",
    "#***UNBINNED LLH******---------------------------------------\n",
    "#GC Coords in radians\n",
    "GC_dec = np.array([-0.506])\n",
    "GC_ra = np.array([4.650])"
   ]
  },
  {
   "cell_type": "code",
   "execution_count": 51,
   "metadata": {},
   "outputs": [],
   "source": [
    "#Energy distributions dont change with scrambling of RA\n",
    "\n",
    "Get_E_dists = Singe_Source_Energy_Dists(MC_trueE, MC_trueDEC, MC_ow, Data_logE, Data_DEC)\n",
    "S_e = Get_E_dists.MC_energy_dist()\n",
    "B_e = Get_E_dists.data_energy_dist()"
   ]
  },
  {
   "cell_type": "code",
   "execution_count": 52,
   "metadata": {},
   "outputs": [
    {
     "data": {
      "image/png": "[encoded data removed]",
      "text/plain": [
       "<Figure size 432x288 with 1 Axes>"
      ]
     },
     "metadata": {
      "needs_background": "light"
     },
     "output_type": "display_data"
    }
   ],
   "source": [
    "plt.scatter(Data_logE, S_e, marker='+')\n",
    "plt.xlabel('logE')\n",
    "plt.ylabel('S_e')\n",
    "plt.show()"
   ]
  },
  {
   "cell_type": "code",
   "execution_count": 67,
   "metadata": {},
   "outputs": [
    {
     "name": "stdout",
     "output_type": "stream",
     "text": [
      "524.0656313970786\n"
     ]
    },
    {
     "name": "stderr",
     "output_type": "stream",
     "text": [
      "/home/mcampana/py3env/lib/python3.6/site-packages/ipykernel_launcher.py:11: RuntimeWarning: divide by zero encountered in true_divide\n",
      "  # This is added back by InteractiveShellApp.init_path()\n",
      "/home/mcampana/py3env/lib/python3.6/site-packages/ipykernel_launcher.py:11: RuntimeWarning: invalid value encountered in true_divide\n",
      "  # This is added back by InteractiveShellApp.init_path()\n",
      "/home/mcampana/py3env/lib/python3.6/site-packages/ipykernel_launcher.py:11: RuntimeWarning: divide by zero encountered in log10\n",
      "  # This is added back by InteractiveShellApp.init_path()\n"
     ]
    },
    {
     "data": {
      "image/png": "[encoded data removed]",
      "text/plain": [
       "<Figure size 432x288 with 2 Axes>"
      ]
     },
     "metadata": {
      "needs_background": "light"
     },
     "output_type": "display_data"
    }
   ],
   "source": [
    "livetime = 28682769.6 #seconds, from GRL, sum of run livetimes for 2012 data (about 331 days)\n",
    "flux_norm = 1.0e-18\n",
    "\n",
    "#weighting according to desired spectrum, with reference E = 100TeV (units GeV)\n",
    "mcweights = flux_norm * MC_ow * (MC_trueE / 1.0e5)**-2.7 * livetime \n",
    "print(np.sum(mcweights))\n",
    "H, xedges, yedges, img = plt.hist2d(np.log10(MC_trueE), np.sin(MC_DEC), \n",
    "                                   bins=100, density=True, weights=mcweights)\n",
    "H2, xe2, ye2, img2 = plt.hist2d(Data_logE, np.sin(Data_DEC), bins=100, density=True)\n",
    "plt.clf()\n",
    "plt.pcolormesh(xedges,yedges,np.log10(np.transpose(H)/np.transpose(H2)), cmap='RdBu_r')\n",
    "\n",
    "plt.colorbar(label='log(S/B)')\n",
    "plt.xlabel('log(Energy)')\n",
    "plt.ylabel('sin(Dec)')\n",
    "\n",
    "#Now fit the hist2d...\n",
    "#Will use S_e.ev(x,y) to evaluate at (x,y)=(logE,sinDec)\n",
    "MC_e_func = RectBivariateSpline(xedges[:-1], yedges[:-1], H)"
   ]
  },
  {
   "cell_type": "code",
   "execution_count": 57,
   "metadata": {},
   "outputs": [
    {
     "data": {
      "text/plain": [
       "99"
      ]
     },
     "metadata": {},
     "output_type": "display_data"
    },
    {
     "name": "stdout",
     "output_type": "stream",
     "text": [
      "--- 4.920000000000002 seconds ---\n"
     ]
    }
   ],
   "source": [
    "start_time = time.clock()\n",
    "#Lists for holding values for each scramble--------------------------\n",
    "#hot_pvals = []\n",
    "#hot_counts = []\n",
    "#hot_decs = []\n",
    "#hot_ras = []\n",
    "#hot_pix = []\n",
    "#CN_pvals = []\n",
    "#CN_counts = []\n",
    "\n",
    "#Unbinned holding lists---------------\n",
    "TS_list = []\n",
    "ns_list = []\n",
    "\n",
    "#**************** Now, for scrambles, use this loop: **************************\n",
    "for scram in range(num_trials):\n",
    "    #First pass, no scramble, use data\n",
    "    #if scram == 0:\n",
    "    #    RA_use = Data_RA\n",
    "    #else:\n",
    "    #    RA_use = 2.0*np.pi * np.random.random(len(Data_RA))\n",
    "    RA_use = 2.0*np.pi * np.random.random(len(Data_RA))\n",
    "    \n",
    "#Event maps------------------------------------------------\n",
    "    #PlotMollviewLocal('All-Sky Point Source 2010-2012 (Local Coords)',Zen,Azi, nside=32, rot=(180,0,0))\n",
    "    #PlotMollviewEqui('All-Sky Point Source 2010-2012 (Equitorial Coords)',DEC,RA, nside=nside_choice,coord='C', rot=(180,0,0))\n",
    "\n",
    "#Binned Analyses-------------------------------------------\n",
    "    #nums_counts_ra_dec_df, decs, ras, counts, pixels = AngAndCountPerPixEqui(DEC,RA_use, nside=nside_choice)\n",
    "    #pvals, dec_bin_counts, dec_band_count_avg, dec_band_count_min, dec_band_count_max, dec_bin_pvals, dec_band_count_med = BinnedPvalAnalysisEqui(decs,ras,counts,nside=nside_choice)\n",
    "    #pvals, dec_band_counts, dec_bin_counts, dec_band_count_avg, dec_band_count_min, dec_band_count_max, dec_bin_pvals, dec_band_count_med, deltaDec, dec_bin_ras = BinomialPvalAnalysisEqui(DEC, ras, decs, counts, maxDelDec=maxDelDec_choice, minDelDec=minDelDec_choice, nside=nside_choice, sig_count_adjust = sig_count_adjust)\n",
    "    #nums_counts_ra_dec_df['pval'] = pvals\n",
    "    #display(nums_counts_ra_dec_df)\n",
    "\n",
    "    #For plots\n",
    "    #nums_counts_ra_dec_df.sort_values(by='pval', inplace=True)\n",
    "\n",
    "    #For scrambles\n",
    "    #hottestPVAL = nums_counts_ra_dec_df.iloc[0,4]\n",
    "    #hottestCOUNT = nums_counts_ra_dec_df.iloc[0,3]\n",
    "    #hottestDEC = nums_counts_ra_dec_df.iloc[0,2]\n",
    "    #hottestRA = nums_counts_ra_dec_df.iloc[0,1]\n",
    "    #hottestPIX = nums_counts_ra_dec_df.iloc[0,0]\n",
    "\n",
    "    #CNCOUNT = nums_counts_ra_dec_df.loc[cnpix,'pix_count']\n",
    "    #CNPVAL = nums_counts_ra_dec_df.loc[cnpix,'pval']\n",
    "\n",
    "    #After scrambling, add hottest pval and respective counts to lists for plotting later...\n",
    "    #...The 0th element in each list is the value for actual data\n",
    "    #hot_pvals.append(hottestPVAL)\n",
    "    #hot_counts.append(hottestCOUNT)\n",
    "    #hot_decs.append(hottestDEC)\n",
    "    #hot_ras.append(hottestRA)\n",
    "    #hot_pix.append(hottestPIX)\n",
    "    \n",
    "    #CN_pvals.append(CNPVAL)\n",
    "    #CN_counts.append(CNCOUNT)\n",
    "    \n",
    "#Unbinned LLH Analysis-------------------------------------\n",
    "    GC_S_dists = Single_Source_Spatial_Dists(Data_DEC, RA_use, Data_AngErr, GC_dec[0], GC_ra[0])\n",
    "    S_s = GC_S_dists.signal_spatial()\n",
    "    B_s = GC_S_dists.background_spatial()\n",
    "    \n",
    "    Do_TS_Calcs = Single_Source_TestStatistic(S_s, B_s, S_e, B_e)\n",
    "    bf_ns, TS = Do_TS_Calcs.minimize_TS()\n",
    "    \n",
    "    #if scram == 0:\n",
    "    #    #For plotting using Signal Distribution (applies to num_trials = 0, i.e. data)\n",
    "    #    dataS_dist = np.copy(S_s * S_e)\n",
    "    #    dataS_norm = dataS_dist / np.sum(dataS_dist)\n",
    "      \n",
    "    #Add ns and TS per trial to list for holding. 0th entry in each list is data...\n",
    "    ns_list.append(bf_ns)\n",
    "    TS_list.append(TS)\n",
    "       \n",
    "    clear_output(wait=True)\n",
    "    display(scram)\n",
    "    \n",
    "#********************************** End of Loop ****************************************\n",
    "\n",
    "#Location of 5 hottest pixels------------------------------\n",
    "#hottestRA = nums_counts_ra_dec_df.iloc[0:5,1].to_numpy(copy=True)\n",
    "#hottestDEC = nums_counts_ra_dec_df.iloc[0:5,2].to_numpy(copy=True)\n",
    "#print(hottestRA)\n",
    "#print(hottestDEC)\n",
    "\n",
    "#Choice for plotting one band pvals--------------------------\n",
    "#dec_choice = decs[np.argmin(np.abs(decs-np.radians(10)))]\n",
    "#print('dec choice = ', dec_choice)\n",
    "#display(nums_counts_ra_dec_df)\n",
    "\n",
    "#Plotting Funcs------------------------------------------------------------------------\n",
    "#plotPvalsEqui(decs,ras,pvals,hottestRA,hottestDEC, coord='C', title='Pvalues',rot=(180,0,0), nside=nside_choice, logvals=True)\n",
    "#PlotPixelsPerDec(dec_bin_counts)\n",
    "#PlotPixelCountsPerDec(dec_band_count_avg,dec_band_count_min,dec_band_count_max,dec_band_count_med)\n",
    "#PlotPvalPerDecBand(decs, dec_bin_pvals)\n",
    "#PlotCountsPerDecBand(dec_band_counts)\n",
    "#PlotBandWidths(decs,deltaDec)\n",
    "#PlotPvalsOneDec(dec_bin_ras[dec_choice], dec_bin_pvals[dec_choice], dec_bin_counts[dec_choice])\n",
    "#HistPvalsCountsOneDec(dec_bin_pvals[dec_choice], dec_bin_counts[dec_choice])\n",
    "\n",
    "#Converting dataframe values to degrees and displaying DF sorted by pvals for viewing--------------\n",
    "#nums_counts_ra_dec_df['RA'] = nums_counts_ra_dec_df['RA'].map(lambda RA: np.degrees(RA))\n",
    "#nums_counts_ra_dec_df['DEC'] = nums_counts_ra_dec_df['DEC'].map(lambda DEC: np.degrees(DEC))\n",
    "#display(nums_counts_ra_dec_df)\n",
    "\n",
    "print(\"--- %s seconds ---\" % (time.clock() - start_time))"
   ]
  },
  {
   "cell_type": "code",
   "execution_count": 58,
   "metadata": {},
   "outputs": [],
   "source": [
    "#Making lists into arrays...\n",
    "ns_arr = np.array(ns_list)\n",
    "TS_arr = np.array(TS_list)"
   ]
  },
  {
   "cell_type": "code",
   "execution_count": 59,
   "metadata": {},
   "outputs": [
    {
     "data": {
      "text/plain": [
       "-0.31733851483462155"
      ]
     },
     "execution_count": 59,
     "metadata": {},
     "output_type": "execute_result"
    }
   ],
   "source": [
    "np.min(TS_arr)"
   ]
  },
  {
   "cell_type": "code",
   "execution_count": 71,
   "metadata": {},
   "outputs": [
    {
     "data": {
      "text/html": [
       "<div>\n",
       "<style scoped>\n",
       "    .dataframe tbody tr th:only-of-type {\n",
       "        vertical-align: middle;\n",
       "    }\n",
       "\n",
       "    .dataframe tbody tr th {\n",
       "        vertical-align: top;\n",
       "    }\n",
       "\n",
       "    .dataframe thead th {\n",
       "        text-align: right;\n",
       "    }\n",
       "</style>\n",
       "<table border=\"1\" class=\"dataframe\">\n",
       "  <thead>\n",
       "    <tr style=\"text-align: right;\">\n",
       "      <th></th>\n",
       "      <th>S_norm</th>\n",
       "      <th>RA</th>\n",
       "      <th>DEC</th>\n",
       "      <th>AngErr</th>\n",
       "    </tr>\n",
       "  </thead>\n",
       "  <tbody>\n",
       "    <tr>\n",
       "      <th>56217</th>\n",
       "      <td>0.520300</td>\n",
       "      <td>266.213515</td>\n",
       "      <td>-28.344095</td>\n",
       "      <td>0.461102</td>\n",
       "    </tr>\n",
       "    <tr>\n",
       "      <th>89281</th>\n",
       "      <td>0.227898</td>\n",
       "      <td>267.217755</td>\n",
       "      <td>-28.777738</td>\n",
       "      <td>1.222849</td>\n",
       "    </tr>\n",
       "    <tr>\n",
       "      <th>110131</th>\n",
       "      <td>0.148770</td>\n",
       "      <td>265.660241</td>\n",
       "      <td>-28.012269</td>\n",
       "      <td>0.658468</td>\n",
       "    </tr>\n",
       "    <tr>\n",
       "      <th>31533</th>\n",
       "      <td>0.033484</td>\n",
       "      <td>268.663319</td>\n",
       "      <td>-26.978616</td>\n",
       "      <td>1.610976</td>\n",
       "    </tr>\n",
       "    <tr>\n",
       "      <th>26473</th>\n",
       "      <td>0.021439</td>\n",
       "      <td>266.395787</td>\n",
       "      <td>-25.443783</td>\n",
       "      <td>4.493356</td>\n",
       "    </tr>\n",
       "    <tr>\n",
       "      <th>...</th>\n",
       "      <td>...</td>\n",
       "      <td>...</td>\n",
       "      <td>...</td>\n",
       "      <td>...</td>\n",
       "    </tr>\n",
       "    <tr>\n",
       "      <th>11724</th>\n",
       "      <td>-0.000008</td>\n",
       "      <td>279.565953</td>\n",
       "      <td>-25.244041</td>\n",
       "      <td>3.210677</td>\n",
       "    </tr>\n",
       "    <tr>\n",
       "      <th>10693</th>\n",
       "      <td>-0.000013</td>\n",
       "      <td>274.183203</td>\n",
       "      <td>-34.308831</td>\n",
       "      <td>2.506611</td>\n",
       "    </tr>\n",
       "    <tr>\n",
       "      <th>100604</th>\n",
       "      <td>-0.000250</td>\n",
       "      <td>275.038347</td>\n",
       "      <td>-26.224036</td>\n",
       "      <td>2.613317</td>\n",
       "    </tr>\n",
       "    <tr>\n",
       "      <th>81187</th>\n",
       "      <td>-0.003813</td>\n",
       "      <td>264.297687</td>\n",
       "      <td>-24.033786</td>\n",
       "      <td>2.569841</td>\n",
       "    </tr>\n",
       "    <tr>\n",
       "      <th>78215</th>\n",
       "      <td>-0.004553</td>\n",
       "      <td>268.818096</td>\n",
       "      <td>-32.536526</td>\n",
       "      <td>1.454644</td>\n",
       "    </tr>\n",
       "  </tbody>\n",
       "</table>\n",
       "<p>112858 rows × 4 columns</p>\n",
       "</div>"
      ],
      "text/plain": [
       "          S_norm          RA        DEC    AngErr\n",
       "56217   0.520300  266.213515 -28.344095  0.461102\n",
       "89281   0.227898  267.217755 -28.777738  1.222849\n",
       "110131  0.148770  265.660241 -28.012269  0.658468\n",
       "31533   0.033484  268.663319 -26.978616  1.610976\n",
       "26473   0.021439  266.395787 -25.443783  4.493356\n",
       "...          ...         ...        ...       ...\n",
       "11724  -0.000008  279.565953 -25.244041  3.210677\n",
       "10693  -0.000013  274.183203 -34.308831  2.506611\n",
       "100604 -0.000250  275.038347 -26.224036  2.613317\n",
       "81187  -0.003813  264.297687 -24.033786  2.569841\n",
       "78215  -0.004553  268.818096 -32.536526  1.454644\n",
       "\n",
       "[112858 rows x 4 columns]"
      ]
     },
     "metadata": {},
     "output_type": "display_data"
    },
    {
     "name": "stdout",
     "output_type": "stream",
     "text": [
      "GC RA:  266.4253747358328 /// GC DEC:  -28.991664433619654\n"
     ]
    }
   ],
   "source": [
    "#Dataframe for unbinned analysis, Data run\n",
    "unbinned_df = pd.DataFrame(dataS_norm)\n",
    "unbinned_df.columns = ['S_norm']\n",
    "\n",
    "unbinned_df['RA'] = np.degrees(RA_use) #USE Data_RA for DATA -> RA_use currently \"blinded\"\n",
    "unbinned_df['DEC'] = np.degrees(Data_DEC)\n",
    "unbinned_df['AngErr'] = np.degrees(Data_AngErr)\n",
    "\n",
    "unbinned_df.sort_values(by='S_norm', ascending=False, inplace=True)\n",
    "display(unbinned_df)\n",
    "\n",
    "print(\"GC RA: \", np.degrees(GC_ra[0]), \"///\", \"GC DEC: \", np.degrees(GC_dec[0]))"
   ]
  },
  {
   "cell_type": "code",
   "execution_count": 72,
   "metadata": {},
   "outputs": [
    {
     "data": {
      "image/png": "[encoded data removed]",
      "text/plain": [
       "<Figure size 432x288 with 2 Axes>"
      ]
     },
     "metadata": {
      "needs_background": "light"
     },
     "output_type": "display_data"
    }
   ],
   "source": [
    "#Plotting nearest events to galactic center\n",
    "num_plot = 5 #Number of events to plot\n",
    "topRA = unbinned_df.iloc[0:num_plot,1].to_numpy(copy=True)\n",
    "topDEC = unbinned_df.iloc[0:num_plot,2].to_numpy(copy=True)\n",
    "topERR = unbinned_df.iloc[0:num_plot,3].to_numpy(copy=True)\n",
    "topS = unbinned_df.iloc[0:num_plot,0].to_numpy(copy=True)\n",
    "\n",
    "target_ra = np.degrees(GC_ra[0])\n",
    "target_dec = np.degrees(GC_dec[0])\n",
    "target_name = 'Galactic Center'\n",
    "vmax = 0.6\n",
    "\n",
    "PlotPointsNearSource(topRA, topDEC, topERR, topS, target_ra, target_dec, target_name, vmax=vmax)\n"
   ]
  },
  {
   "cell_type": "code",
   "execution_count": 119,
   "metadata": {},
   "outputs": [
    {
     "data": {
      "image/png": "[encoded data removed]",
      "text/plain": [
       "<Figure size 432x288 with 1 Axes>"
      ]
     },
     "metadata": {
      "needs_background": "light"
     },
     "output_type": "display_data"
    },
    {
     "data": {
      "text/plain": [
       "<Figure size 432x288 with 0 Axes>"
      ]
     },
     "metadata": {},
     "output_type": "display_data"
    }
   ],
   "source": [
    "plt.hist(dataS_norm,bins=50)\n",
    "plt.xlabel('Normalized Signal Probability')\n",
    "plt.ylabel('Counts')\n",
    "plt.yscale('log')\n",
    "\n",
    "plt.show()\n",
    "plt.clf()"
   ]
  },
  {
   "cell_type": "code",
   "execution_count": 65,
   "metadata": {
    "collapsed": true,
    "jupyter": {
     "outputs_hidden": true,
     "source_hidden": true
    }
   },
   "outputs": [
    {
     "name": "stdout",
     "output_type": "stream",
     "text": [
      "Pre-trial Hottest P-value: 0.00010806663336272317\n",
      "Corrected Hottest P-value: 0.817\n",
      "Pre-trial CN P-value: 0.4865569927248802\n",
      "Corrected CN P-value: 0.512\n"
     ]
    },
    {
     "data": {
      "text/html": [
       "<div>\n",
       "<style scoped>\n",
       "    .dataframe tbody tr th:only-of-type {\n",
       "        vertical-align: middle;\n",
       "    }\n",
       "\n",
       "    .dataframe tbody tr th {\n",
       "        vertical-align: top;\n",
       "    }\n",
       "\n",
       "    .dataframe thead th {\n",
       "        text-align: right;\n",
       "    }\n",
       "</style>\n",
       "<table border=\"1\" class=\"dataframe\">\n",
       "  <thead>\n",
       "    <tr style=\"text-align: right;\">\n",
       "      <th></th>\n",
       "      <th>Pval</th>\n",
       "      <th>Pix Count</th>\n",
       "    </tr>\n",
       "  </thead>\n",
       "  <tbody>\n",
       "    <tr>\n",
       "      <td>541</td>\n",
       "      <td>0.000327</td>\n",
       "      <td>53</td>\n",
       "    </tr>\n",
       "    <tr>\n",
       "      <td>985</td>\n",
       "      <td>0.000938</td>\n",
       "      <td>51</td>\n",
       "    </tr>\n",
       "    <tr>\n",
       "      <td>908</td>\n",
       "      <td>0.002505</td>\n",
       "      <td>49</td>\n",
       "    </tr>\n",
       "    <tr>\n",
       "      <td>437</td>\n",
       "      <td>0.003985</td>\n",
       "      <td>48</td>\n",
       "    </tr>\n",
       "    <tr>\n",
       "      <td>637</td>\n",
       "      <td>0.006224</td>\n",
       "      <td>47</td>\n",
       "    </tr>\n",
       "    <tr>\n",
       "      <td>...</td>\n",
       "      <td>...</td>\n",
       "      <td>...</td>\n",
       "    </tr>\n",
       "    <tr>\n",
       "      <td>443</td>\n",
       "      <td>0.486557</td>\n",
       "      <td>26</td>\n",
       "    </tr>\n",
       "    <tr>\n",
       "      <td>445</td>\n",
       "      <td>0.486557</td>\n",
       "      <td>29</td>\n",
       "    </tr>\n",
       "    <tr>\n",
       "      <td>447</td>\n",
       "      <td>0.486557</td>\n",
       "      <td>28</td>\n",
       "    </tr>\n",
       "    <tr>\n",
       "      <td>449</td>\n",
       "      <td>0.486557</td>\n",
       "      <td>25</td>\n",
       "    </tr>\n",
       "    <tr>\n",
       "      <td>999</td>\n",
       "      <td>0.486557</td>\n",
       "      <td>23</td>\n",
       "    </tr>\n",
       "  </tbody>\n",
       "</table>\n",
       "<p>1000 rows × 2 columns</p>\n",
       "</div>"
      ],
      "text/plain": [
       "         Pval  Pix Count\n",
       "541  0.000327         53\n",
       "985  0.000938         51\n",
       "908  0.002505         49\n",
       "437  0.003985         48\n",
       "637  0.006224         47\n",
       "..        ...        ...\n",
       "443  0.486557         26\n",
       "445  0.486557         29\n",
       "447  0.486557         28\n",
       "449  0.486557         25\n",
       "999  0.486557         23\n",
       "\n",
       "[1000 rows x 2 columns]"
      ]
     },
     "metadata": {},
     "output_type": "display_data"
    },
    {
     "name": "stdout",
     "output_type": "stream",
     "text": [
      "-------Two Sigma--------\n"
     ]
    },
    {
     "data": {
      "text/plain": [
       "Pval          0.021178\n",
       "Pix Count    44.000000\n",
       "Name: 161, dtype: float64"
      ]
     },
     "metadata": {},
     "output_type": "display_data"
    },
    {
     "name": "stdout",
     "output_type": "stream",
     "text": [
      "--------CN Data---------\n"
     ]
    },
    {
     "data": {
      "text/plain": [
       "Pval          0.486557\n",
       "Pix Count    32.000000\n",
       "Name: 0, dtype: float64"
      ]
     },
     "metadata": {},
     "output_type": "display_data"
    }
   ],
   "source": [
    "#Trial Correction for binned pvalues, and Crab Nebula bin--------------\n",
    "\n",
    "hottest_corrected_pval = len(hot_pvals[hot_pvals < hot_pvals[0]]) / num_trials\n",
    "CN_corrected_pval = len(CN_pvals[CN_pvals < CN_pvals[0]]) / num_trials\n",
    "\n",
    "print('Pre-trial Hottest P-value:', hot_pvals[0])\n",
    "print('Corrected Hottest P-value:', hottest_corrected_pval)\n",
    "print('Pre-trial CN P-value:', CN_pvals[0])\n",
    "print('Corrected CN P-value:', CN_corrected_pval)\n",
    "\n",
    "#Crab Nebula Injection: How many events to get it to *2* sigma ?--------\n",
    "#We will estimate a normal dist, so 2 sigma for one-tail is the pvalue that is lower than 97.8% of the trials...\n",
    "#...and find the counts that gives this pvalue\n",
    "#We start by constructing a dataframe for counts and pvalues of trials\n",
    "scram_CN_df = pd.DataFrame(CN_pvals)\n",
    "scram_CN_df.columns = ['Pval']\n",
    "scram_CN_df['Pix Count'] = CN_counts\n",
    "\n",
    "#Location of 2sigma pvalue after sorting---------\n",
    "twoSigLoc = num_trials - int(np.rint(0.978 * num_trials))\n",
    "\n",
    "scram_CN_df.sort_values(by='Pval', inplace=True)\n",
    "display(scram_CN_df)\n",
    "print('-------Two Sigma--------')\n",
    "display(scram_CN_df.iloc[twoSigLoc])\n",
    "print('--------CN Data---------')\n",
    "display(scram_CN_df.loc[0])\n",
    "\n",
    "CN_2sig_pval = scram_CN_df.iloc[twoSigLoc,0]"
   ]
  },
  {
   "cell_type": "code",
   "execution_count": 72,
   "metadata": {
    "collapsed": true,
    "jupyter": {
     "outputs_hidden": true,
     "source_hidden": true
    }
   },
   "outputs": [
    {
     "data": {
      "image/png": "[encoded data removed]",
      "text/plain": [
       "<Figure size 432x288 with 1 Axes>"
      ]
     },
     "metadata": {
      "needs_background": "light"
     },
     "output_type": "display_data"
    }
   ],
   "source": [
    "#Plotting lowest p-value distr for binned analysis scrambles...\n",
    "\n",
    "n,e,p = plt.hist(-np.log10(hot_pvals), bins=100)\n",
    "plt.vlines(-np.log10(hot_pvals[0]),0,50, color='r', label='Lowest Data P-value')\n",
    "\n",
    "#plt.hist(hot_pvals, bins=100)\n",
    "#plt.vlines(hot_pvals[0],0,50, color='r', label='Lowest Data P-value')\n",
    "\n",
    "plt.xlabel('-log10(Pval)')\n",
    "plt.ylabel('Counts')\n",
    "plt.title('{} Scrambles: Lowest P-value'.format(num_trials))\n",
    "#plt.yscale('log')\n",
    "plt.legend()\n",
    "plt.show()"
   ]
  },
  {
   "cell_type": "code",
   "execution_count": 47,
   "metadata": {
    "collapsed": true,
    "jupyter": {
     "outputs_hidden": true,
     "source_hidden": true
    }
   },
   "outputs": [
    {
     "data": {
      "image/png": "[encoded data removed]",
      "text/plain": [
       "<Figure size 432x288 with 1 Axes>"
      ]
     },
     "metadata": {
      "needs_background": "light"
     },
     "output_type": "display_data"
    }
   ],
   "source": [
    "#Crab Nebula binned p-values for scrambles...\n",
    "\n",
    "plt.hist(-np.log10(CN_pvals), bins=100)\n",
    "plt.vlines(-np.log10(CN_pvals[0]),0,150, color='r', label='Pre-trial P-value')\n",
    "#plt.vlines(-np.log10(CN_corrected_pval),0,150, color='g', label='Corrected P-value')\n",
    "plt.vlines(-np.log10(CN_2sig_pval),0,150, color='k', label='2sigma P-value')\n",
    "\n",
    "#plt.hist(CN_pvals, bins=100)\n",
    "#plt.vlines(CN_pvals[0],0,150, color='r', label='Pre-trial P-value')\n",
    "#plt.vlines(CN_corrected_pval,0,150, color='g', label='Corrected P-value')\n",
    "#plt.vlines(CN_2sig_pval,0,150, color='k', label='2sigma P-value')\n",
    "\n",
    "plt.xlabel('-log10(P-Value)')\n",
    "plt.ylabel('Counts')\n",
    "#plt.yscale('log')\n",
    "plt.title('{} Scrambles: Crab Nebula Pre-trial P-values'.format(num_trials))\n",
    "plt.legend()\n",
    "plt.show()"
   ]
  },
  {
   "cell_type": "code",
   "execution_count": 111,
   "metadata": {},
   "outputs": [
    {
     "name": "stdout",
     "output_type": "stream",
     "text": [
      "Fraction of TS < 0 : 0.0\n",
      "Median TS:  0.0\n"
     ]
    },
    {
     "name": "stderr",
     "output_type": "stream",
     "text": [
      "/home/mcampana/py3env/lib/python3.6/site-packages/scipy/stats/_distn_infrastructure.py:2404: RuntimeWarning: Mean of empty slice.\n",
      "  muhat = tmp.mean()\n",
      "/home/mcampana/py3env/lib/python3.6/site-packages/numpy/core/_methods.py:161: RuntimeWarning: invalid value encountered in double_scalars\n",
      "  ret = ret.dtype.type(ret / rcount)\n",
      "/home/mcampana/py3env/lib/python3.6/site-packages/scipy/stats/_distn_infrastructure.py:2405: RuntimeWarning: Degrees of freedom <= 0 for slice\n",
      "  mu2hat = tmp.var()\n",
      "/home/mcampana/py3env/lib/python3.6/site-packages/numpy/core/_methods.py:186: RuntimeWarning: invalid value encountered in true_divide\n",
      "  arrmean, rcount, out=arrmean, casting='unsafe', subok=False)\n",
      "/home/mcampana/py3env/lib/python3.6/site-packages/numpy/core/_methods.py:209: RuntimeWarning: invalid value encountered in double_scalars\n",
      "  ret = ret.dtype.type(ret / rcount)\n"
     ]
    },
    {
     "ename": "ValueError",
     "evalue": "zero-size array to reduction operation minimum which has no identity",
     "output_type": "error",
     "traceback": [
      "\u001b[0;31m---------------------------------------------------------------------------\u001b[0m",
      "\u001b[0;31mValueError\u001b[0m                                Traceback (most recent call last)",
      "\u001b[0;32m<ipython-input-111-76d33ecbc373>\u001b[0m in \u001b[0;36m<module>\u001b[0;34m\u001b[0m\n\u001b[0;32m----> 1\u001b[0;31m \u001b[0mPlotTSandChi2\u001b[0m\u001b[0;34m(\u001b[0m\u001b[0mTS_arr\u001b[0m\u001b[0;34m,\u001b[0m \u001b[0mnum_trials\u001b[0m\u001b[0;34m)\u001b[0m\u001b[0;34m\u001b[0m\u001b[0;34m\u001b[0m\u001b[0m\n\u001b[0m",
      "\u001b[0;32m<ipython-input-37-ce85546ab009>\u001b[0m in \u001b[0;36mPlotTSandChi2\u001b[0;34m(TSs, num_trials)\u001b[0m\n\u001b[1;32m     24\u001b[0m     \u001b[0mn\u001b[0m\u001b[0;34m,\u001b[0m \u001b[0mbins\u001b[0m\u001b[0;34m,\u001b[0m \u001b[0mpatches\u001b[0m \u001b[0;34m=\u001b[0m \u001b[0mplt\u001b[0m\u001b[0;34m.\u001b[0m\u001b[0mhist\u001b[0m\u001b[0;34m(\u001b[0m\u001b[0;34m-\u001b[0m\u001b[0mTSs\u001b[0m\u001b[0;34m,\u001b[0m \u001b[0mbins\u001b[0m\u001b[0;34m=\u001b[0m\u001b[0;36m50\u001b[0m\u001b[0;34m,\u001b[0m \u001b[0mdensity\u001b[0m\u001b[0;34m=\u001b[0m\u001b[0;32mTrue\u001b[0m\u001b[0;34m)\u001b[0m\u001b[0;34m\u001b[0m\u001b[0;34m\u001b[0m\u001b[0m\n\u001b[1;32m     25\u001b[0m \u001b[0;34m\u001b[0m\u001b[0m\n\u001b[0;32m---> 26\u001b[0;31m     \u001b[0mdf\u001b[0m\u001b[0;34m,\u001b[0m \u001b[0mloc\u001b[0m\u001b[0;34m,\u001b[0m \u001b[0mscale\u001b[0m \u001b[0;34m=\u001b[0m \u001b[0mchi2\u001b[0m\u001b[0;34m.\u001b[0m\u001b[0mfit\u001b[0m\u001b[0;34m(\u001b[0m\u001b[0;34m-\u001b[0m\u001b[0mTSs\u001b[0m\u001b[0;34m[\u001b[0m\u001b[0mTSs\u001b[0m \u001b[0;34m<\u001b[0m \u001b[0;36m0\u001b[0m\u001b[0;34m]\u001b[0m\u001b[0;34m)\u001b[0m\u001b[0;34m\u001b[0m\u001b[0;34m\u001b[0m\u001b[0m\n\u001b[0m\u001b[1;32m     27\u001b[0m     \u001b[0mprint\u001b[0m\u001b[0;34m(\u001b[0m\u001b[0;34m'Chi2 Fit DoF: '\u001b[0m\u001b[0;34m,\u001b[0m \u001b[0mdf\u001b[0m\u001b[0;34m)\u001b[0m\u001b[0;34m\u001b[0m\u001b[0;34m\u001b[0m\u001b[0m\n\u001b[1;32m     28\u001b[0m     \u001b[0mprint\u001b[0m\u001b[0;34m(\u001b[0m\u001b[0;34m'Chi2 Fit loc: '\u001b[0m\u001b[0;34m,\u001b[0m \u001b[0mloc\u001b[0m\u001b[0;34m)\u001b[0m\u001b[0;34m\u001b[0m\u001b[0;34m\u001b[0m\u001b[0m\n",
      "\u001b[0;32m~/py3env/lib/python3.6/site-packages/scipy/stats/_distn_infrastructure.py\u001b[0m in \u001b[0;36mfit\u001b[0;34m(self, data, *args, **kwds)\u001b[0m\n\u001b[1;32m   2285\u001b[0m                                          'scale' in kwds):\n\u001b[1;32m   2286\u001b[0m             \u001b[0;31m# get distribution specific starting locations\u001b[0m\u001b[0;34m\u001b[0m\u001b[0;34m\u001b[0m\u001b[0;34m\u001b[0m\u001b[0m\n\u001b[0;32m-> 2287\u001b[0;31m             \u001b[0mstart\u001b[0m \u001b[0;34m=\u001b[0m \u001b[0mself\u001b[0m\u001b[0;34m.\u001b[0m\u001b[0m_fitstart\u001b[0m\u001b[0;34m(\u001b[0m\u001b[0mdata\u001b[0m\u001b[0;34m)\u001b[0m\u001b[0;34m\u001b[0m\u001b[0;34m\u001b[0m\u001b[0m\n\u001b[0m\u001b[1;32m   2288\u001b[0m             \u001b[0margs\u001b[0m \u001b[0;34m+=\u001b[0m \u001b[0mstart\u001b[0m\u001b[0;34m[\u001b[0m\u001b[0mNarg\u001b[0m\u001b[0;34m:\u001b[0m\u001b[0;34m-\u001b[0m\u001b[0;36m2\u001b[0m\u001b[0;34m]\u001b[0m\u001b[0;34m\u001b[0m\u001b[0;34m\u001b[0m\u001b[0m\n\u001b[1;32m   2289\u001b[0m         \u001b[0mloc\u001b[0m \u001b[0;34m=\u001b[0m \u001b[0mkwds\u001b[0m\u001b[0;34m.\u001b[0m\u001b[0mpop\u001b[0m\u001b[0;34m(\u001b[0m\u001b[0;34m'loc'\u001b[0m\u001b[0;34m,\u001b[0m \u001b[0mstart\u001b[0m\u001b[0;34m[\u001b[0m\u001b[0;34m-\u001b[0m\u001b[0;36m2\u001b[0m\u001b[0;34m]\u001b[0m\u001b[0;34m)\u001b[0m\u001b[0;34m\u001b[0m\u001b[0;34m\u001b[0m\u001b[0m\n",
      "\u001b[0;32m~/py3env/lib/python3.6/site-packages/scipy/stats/_distn_infrastructure.py\u001b[0m in \u001b[0;36m_fitstart\u001b[0;34m(self, data, args)\u001b[0m\n\u001b[1;32m   2118\u001b[0m         \u001b[0;32mif\u001b[0m \u001b[0margs\u001b[0m \u001b[0;32mis\u001b[0m \u001b[0;32mNone\u001b[0m\u001b[0;34m:\u001b[0m\u001b[0;34m\u001b[0m\u001b[0;34m\u001b[0m\u001b[0m\n\u001b[1;32m   2119\u001b[0m             \u001b[0margs\u001b[0m \u001b[0;34m=\u001b[0m \u001b[0;34m(\u001b[0m\u001b[0;36m1.0\u001b[0m\u001b[0;34m,\u001b[0m\u001b[0;34m)\u001b[0m\u001b[0;34m*\u001b[0m\u001b[0mself\u001b[0m\u001b[0;34m.\u001b[0m\u001b[0mnumargs\u001b[0m\u001b[0;34m\u001b[0m\u001b[0;34m\u001b[0m\u001b[0m\n\u001b[0;32m-> 2120\u001b[0;31m         \u001b[0mloc\u001b[0m\u001b[0;34m,\u001b[0m \u001b[0mscale\u001b[0m \u001b[0;34m=\u001b[0m \u001b[0mself\u001b[0m\u001b[0;34m.\u001b[0m\u001b[0m_fit_loc_scale_support\u001b[0m\u001b[0;34m(\u001b[0m\u001b[0mdata\u001b[0m\u001b[0;34m,\u001b[0m \u001b[0;34m*\u001b[0m\u001b[0margs\u001b[0m\u001b[0;34m)\u001b[0m\u001b[0;34m\u001b[0m\u001b[0;34m\u001b[0m\u001b[0m\n\u001b[0m\u001b[1;32m   2121\u001b[0m         \u001b[0;32mreturn\u001b[0m \u001b[0margs\u001b[0m \u001b[0;34m+\u001b[0m \u001b[0;34m(\u001b[0m\u001b[0mloc\u001b[0m\u001b[0;34m,\u001b[0m \u001b[0mscale\u001b[0m\u001b[0;34m)\u001b[0m\u001b[0;34m\u001b[0m\u001b[0;34m\u001b[0m\u001b[0m\n\u001b[1;32m   2122\u001b[0m \u001b[0;34m\u001b[0m\u001b[0m\n",
      "\u001b[0;32m~/py3env/lib/python3.6/site-packages/scipy/stats/_distn_infrastructure.py\u001b[0m in \u001b[0;36m_fit_loc_scale_support\u001b[0;34m(self, data, *args)\u001b[0m\n\u001b[1;32m   2355\u001b[0m \u001b[0;34m\u001b[0m\u001b[0m\n\u001b[1;32m   2356\u001b[0m         \u001b[0;31m# Use the moment-based estimates if they are compatible with the data.\u001b[0m\u001b[0;34m\u001b[0m\u001b[0;34m\u001b[0m\u001b[0;34m\u001b[0m\u001b[0m\n\u001b[0;32m-> 2357\u001b[0;31m         \u001b[0mdata_a\u001b[0m \u001b[0;34m=\u001b[0m \u001b[0mnp\u001b[0m\u001b[0;34m.\u001b[0m\u001b[0mmin\u001b[0m\u001b[0;34m(\u001b[0m\u001b[0mdata\u001b[0m\u001b[0;34m)\u001b[0m\u001b[0;34m\u001b[0m\u001b[0;34m\u001b[0m\u001b[0m\n\u001b[0m\u001b[1;32m   2358\u001b[0m         \u001b[0mdata_b\u001b[0m \u001b[0;34m=\u001b[0m \u001b[0mnp\u001b[0m\u001b[0;34m.\u001b[0m\u001b[0mmax\u001b[0m\u001b[0;34m(\u001b[0m\u001b[0mdata\u001b[0m\u001b[0;34m)\u001b[0m\u001b[0;34m\u001b[0m\u001b[0;34m\u001b[0m\u001b[0m\n\u001b[1;32m   2359\u001b[0m         \u001b[0;32mif\u001b[0m \u001b[0ma_hat\u001b[0m \u001b[0;34m<\u001b[0m \u001b[0mdata_a\u001b[0m \u001b[0;32mand\u001b[0m \u001b[0mdata_b\u001b[0m \u001b[0;34m<\u001b[0m \u001b[0mb_hat\u001b[0m\u001b[0;34m:\u001b[0m\u001b[0;34m\u001b[0m\u001b[0;34m\u001b[0m\u001b[0m\n",
      "\u001b[0;32m<__array_function__ internals>\u001b[0m in \u001b[0;36mamin\u001b[0;34m(*args, **kwargs)\u001b[0m\n",
      "\u001b[0;32m~/py3env/lib/python3.6/site-packages/numpy/core/fromnumeric.py\u001b[0m in \u001b[0;36mamin\u001b[0;34m(a, axis, out, keepdims, initial, where)\u001b[0m\n\u001b[1;32m   2791\u001b[0m     \"\"\"\n\u001b[1;32m   2792\u001b[0m     return _wrapreduction(a, np.minimum, 'min', axis, None, out,\n\u001b[0;32m-> 2793\u001b[0;31m                           keepdims=keepdims, initial=initial, where=where)\n\u001b[0m\u001b[1;32m   2794\u001b[0m \u001b[0;34m\u001b[0m\u001b[0m\n\u001b[1;32m   2795\u001b[0m \u001b[0;34m\u001b[0m\u001b[0m\n",
      "\u001b[0;32m~/py3env/lib/python3.6/site-packages/numpy/core/fromnumeric.py\u001b[0m in \u001b[0;36m_wrapreduction\u001b[0;34m(obj, ufunc, method, axis, dtype, out, **kwargs)\u001b[0m\n\u001b[1;32m     88\u001b[0m                 \u001b[0;32mreturn\u001b[0m \u001b[0mreduction\u001b[0m\u001b[0;34m(\u001b[0m\u001b[0maxis\u001b[0m\u001b[0;34m=\u001b[0m\u001b[0maxis\u001b[0m\u001b[0;34m,\u001b[0m \u001b[0mout\u001b[0m\u001b[0;34m=\u001b[0m\u001b[0mout\u001b[0m\u001b[0;34m,\u001b[0m \u001b[0;34m**\u001b[0m\u001b[0mpasskwargs\u001b[0m\u001b[0;34m)\u001b[0m\u001b[0;34m\u001b[0m\u001b[0;34m\u001b[0m\u001b[0m\n\u001b[1;32m     89\u001b[0m \u001b[0;34m\u001b[0m\u001b[0m\n\u001b[0;32m---> 90\u001b[0;31m     \u001b[0;32mreturn\u001b[0m \u001b[0mufunc\u001b[0m\u001b[0;34m.\u001b[0m\u001b[0mreduce\u001b[0m\u001b[0;34m(\u001b[0m\u001b[0mobj\u001b[0m\u001b[0;34m,\u001b[0m \u001b[0maxis\u001b[0m\u001b[0;34m,\u001b[0m \u001b[0mdtype\u001b[0m\u001b[0;34m,\u001b[0m \u001b[0mout\u001b[0m\u001b[0;34m,\u001b[0m \u001b[0;34m**\u001b[0m\u001b[0mpasskwargs\u001b[0m\u001b[0;34m)\u001b[0m\u001b[0;34m\u001b[0m\u001b[0;34m\u001b[0m\u001b[0m\n\u001b[0m\u001b[1;32m     91\u001b[0m \u001b[0;34m\u001b[0m\u001b[0m\n\u001b[1;32m     92\u001b[0m \u001b[0;34m\u001b[0m\u001b[0m\n",
      "\u001b[0;31mValueError\u001b[0m: zero-size array to reduction operation minimum which has no identity"
     ]
    },
    {
     "data": {
      "image/png": "[encoded data removed]",
      "text/plain": [
       "<Figure size 1152x288 with 2 Axes>"
      ]
     },
     "metadata": {},
     "output_type": "display_data"
    }
   ],
   "source": [
    "PlotTSandChi2(TS_arr, num_trials)"
   ]
  },
  {
   "cell_type": "code",
   "execution_count": 62,
   "metadata": {},
   "outputs": [
    {
     "name": "stderr",
     "output_type": "stream",
     "text": [
      "/home/mcampana/py3env/lib/python3.6/site-packages/ipykernel_launcher.py:109: RuntimeWarning: invalid value encountered in log\n"
     ]
    },
    {
     "data": {
      "image/png": "[encoded data removed]",
      "text/plain": [
       "<Figure size 432x288 with 1 Axes>"
      ]
     },
     "metadata": {
      "needs_background": "light"
     },
     "output_type": "display_data"
    }
   ],
   "source": [
    "nss = np.arange(-10,10,.1)\n",
    "ys = []\n",
    "for ns in nss:\n",
    "    ys.append(Do_TS_Calcs.calc_TS(ns))\n",
    "plt.plot(nss, ys)\n",
    "plt.xlabel('ns')\n",
    "plt.ylabel('TS')\n",
    "#plt.title('Data TS as Function of ns')\n",
    "plt.show()"
   ]
  },
  {
   "cell_type": "code",
   "execution_count": null,
   "metadata": {},
   "outputs": [],
   "source": []
  }
 ],
 "metadata": {
  "kernelspec": {
   "display_name": "Python 3",
   "language": "python",
   "name": "python3"
  },
  "language_info": {
   "codemirror_mode": {
    "name": "ipython",
    "version": 3
   },
   "file_extension": ".py",
   "mimetype": "text/x-python",
   "name": "python",
   "nbconvert_exporter": "python",
   "pygments_lexer": "ipython3",
   "version": "3.6.8"
  }
 },
 "nbformat": 4,
 "nbformat_minor": 4
}
