{
 "cells": [
  {
   "cell_type": "markdown",
   "metadata": {},
   "source": [
    "---\n",
    "<b>IMPORTS and DATA</b>\n",
    "---"
   ]
  },
  {
   "cell_type": "code",
   "execution_count": 53,
   "metadata": {},
   "outputs": [],
   "source": [
    "#Using Healpy to plot icecube data\n",
    "#Michael Campana Feb 18 2020\n",
    "import time\n",
    "from IPython.display import clear_output"
   ]
  },
  {
   "cell_type": "code",
   "execution_count": 54,
   "metadata": {},
   "outputs": [],
   "source": [
    "import healpy as hp\n",
    "import numpy as np\n",
    "import matplotlib.pyplot as plt\n",
    "import matplotlib.colors as mpcolors\n",
    "from matplotlib.patches import Circle\n",
    "from matplotlib.collections import PatchCollection\n",
    "import pandas as pd\n",
    "from scipy.stats import poisson, binom, chi2\n",
    "from scipy.stats import mode as spmode\n",
    "from scipy.optimize import minimize\n",
    "from scipy.interpolate import splrep, splev, RectBivariateSpline"
   ]
  },
  {
   "cell_type": "code",
   "execution_count": null,
   "metadata": {
    "jupyter": {
     "source_hidden": true
    }
   },
   "outputs": [],
   "source": [
    "#3 year data\n",
    "#UNITS:\n",
    "#    MJD days\n",
    "#    log10E GeV\n",
    "#    AngErr deg\n",
    "#    All Angles deg\n",
    "\n",
    "#MJD1, log10E1, AngErr1, RA1, DEC1, Azi1, Zen1 = np.loadtxt('IC79-2010-events.txt', unpack=True)\n",
    "#MJD2, log10E2, AngErr2, RA2, DEC2, Azi2, Zen2 = np.loadtxt('IC86-2011-events.txt', unpack=True)\n",
    "#MJD3, log10E3, AngErr3, RA3, DEC3, Azi3, Zen3 = np.loadtxt('IC86-2012-events.txt', unpack=True)\n",
    "\n",
    "#print(len(MJD1),len(MJD2),len(MJD3))\n",
    "#MJD = np.concatenate((MJD1,MJD2,MJD3))\n",
    "#log10E = np.concatenate((log10E1,log10E2,log10E3))\n",
    "#AngErr = np.concatenate((AngErr1,AngErr2,AngErr3))\n",
    "#RA = np.concatenate((RA1,RA2,RA3))\n",
    "#DEC = np.concatenate((DEC1,DEC2,DEC3))\n",
    "#Azi = np.concatenate((Azi1,Azi2,Azi3))\n",
    "#Zen = np.concatenate((Zen1,Zen2,Zen3))\n",
    "#print(len(MJD), len(MJD1)+len(MJD2)+len(MJD3))"
   ]
  },
  {
   "cell_type": "code",
   "execution_count": 55,
   "metadata": {},
   "outputs": [],
   "source": [
    "#Data and MC for 2012 PS tracks\n",
    "MC_events = np.load(\"/data/ana/analyses/ps_tracks/current/IC86_2012_MC.npy\")\n",
    "Data_events = np.load(\"/data/ana/analyses/ps_tracks/current/IC86_2012_exp.npy\")"
   ]
  },
  {
   "cell_type": "code",
   "execution_count": 4,
   "metadata": {},
   "outputs": [],
   "source": [
    "#Angles are in RADIANS, energies in GeV\n",
    "'''\n",
    "MC_RA = np.copy(MC_events['ra'])\n",
    "Data_RA = np.copy(Data_events['ra'])\n",
    "\n",
    "MC_DEC = np.copy(MC_events['dec'])\n",
    "Data_DEC = np.copy(Data_events['dec'])\n",
    "\n",
    "MC_AngErr = np.copy(MC_events['angErr'])\n",
    "Data_AngErr = np.copy(Data_events['angErr'])\n",
    "\n",
    "MC_logE = np.copy(MC_events['logE'])\n",
    "Data_logE = np.copy(Data_events['logE'])\n",
    "\n",
    "#True Values from MC\n",
    "MC_trueRA = np.copy(MC_events['trueRa'])\n",
    "MC_trueDEC = np.copy(MC_events['trueDec'])\n",
    "MC_trueE = np.copy(MC_events['trueE'])\n",
    "\n",
    "#OneWeight, units = GeV cm2 sr (number of events already taken into account)\n",
    "MC_ow = np.copy(MC_events['ow']) \n",
    "'''"
   ]
  },
  {
   "cell_type": "markdown",
   "metadata": {},
   "source": [
    "---\n",
    "<b>PLOTTING EVENT MAPS</b>\n",
    "---"
   ]
  },
  {
   "cell_type": "code",
   "execution_count": null,
   "metadata": {
    "jupyter": {
     "source_hidden": true
    }
   },
   "outputs": [],
   "source": [
    "def PlotMollviewLocal(title,ZenArr,AziArr,nside=64,rot=None):\n",
    "    #Plots mollweide projection of local coords in degrees\n",
    "    nside = nside\n",
    "    npix = hp.nside2npix(nside)\n",
    "    map_ind = hp.ang2pix(nside,np.radians(ZenArr),np.radians(AziArr))\n",
    "    ind, count = np.unique(map_ind, return_counts=True)\n",
    "    hpx_map = np.zeros(npix, dtype=int)\n",
    "    hpx_map[ind] = count\n",
    "    \n",
    "    plt.figure()\n",
    "    hp.mollview(hpx_map, unit='Counts', title=title, rot=rot, margins=(1,1,1,1)) \n",
    "    hp.graticule(30, color='w', alpha=0.7)\n",
    "    \n",
    "    hp.projtext(0,0,'0', size='large', ha='center', va='bottom')\n",
    "    hp.projtext(np.pi/2,0,'0', size='large', ha='left')\n",
    "    hp.projtext(np.pi/2,2*np.pi - .001,'360', size='large', ha='right')\n",
    "    hp.projtext(np.pi,0,'180', size='large', ha='center', va='top')\n",
    "    \n",
    "    plt.title(title, pad=25)\n",
    "    plt.show()\n"
   ]
  },
  {
   "cell_type": "code",
   "execution_count": null,
   "metadata": {
    "jupyter": {
     "source_hidden": true
    }
   },
   "outputs": [],
   "source": [
    "def PlotMollviewEqui(title,DecArr,RaArr,nside=64,rot=None,coord=None):\n",
    "    #Plots mollweide projection of equitorial coords in degrees\n",
    "    nside = nside\n",
    "    npix = hp.nside2npix(nside)\n",
    "    map_ind = hp.ang2pix(nside,np.pi/2.0 - np.radians(DecArr),np.radians(RaArr))\n",
    "    ind, count = np.unique(map_ind, return_counts=True)\n",
    "    hpx_map = np.zeros(npix, dtype=int)\n",
    "    hpx_map[ind] = count\n",
    "    \n",
    "    plt.figure()\n",
    "    hp.mollview(hpx_map, unit='Counts', title=title, rot=rot, margins=(1,1,1,1), coord=coord) \n",
    "    hp.graticule(30, color='w', alpha=0.7)\n",
    "    \n",
    "    hp.projtext(0,0,'90', size='large', ha='center', va='bottom', coord=coord)#, rot=rot)\n",
    "    hp.projtext(np.pi/2,2.0*np.pi - .001,'360', size='large', ha='right', coord=coord)#, rot=rot)\n",
    "    hp.projtext(np.pi/2,0,'0', size='large', ha='left', coord=coord)#, rot=rot)\n",
    "    hp.projtext(np.pi,0,'-90', size='large', ha='center', va='top', coord=coord)#, rot=rot)\n",
    "    \n",
    "    plt.title(title, pad=25)\n",
    "    plt.show()\n"
   ]
  },
  {
   "cell_type": "markdown",
   "metadata": {},
   "source": [
    "---\n",
    "<b>ANALYSES FUNCTIONS/CLASSES</b>\n",
    "---"
   ]
  },
  {
   "cell_type": "code",
   "execution_count": null,
   "metadata": {
    "jupyter": {
     "source_hidden": true
    }
   },
   "outputs": [],
   "source": [
    "#Getting RA and DEC coords of each pixel, along with the counts per pixel\n",
    "def AngAndCountPerPixEqui(DEC,RA,nside=64,rot=None,coord=None):\n",
    "    nside = nside\n",
    "    npix = hp.nside2npix(nside) #Number of pixels (Number of bins)\n",
    "    #print(npix)\n",
    "    pix_nums_list = np.arange(npix) #List of possible pixel numbers for npix total pixels\n",
    "    pix_num = hp.ang2pix(nside,np.pi/2.0 - np.radians(DEC),np.radians(RA)) #Pixel number for each event\n",
    "    pix_nums, pix_counts = np.unique(pix_num, return_counts=True)  #Pixel numbers and counts of each pixel \n",
    "    #The above line will create arrays with pix_nums that have greater than 0 counts...we need to include all\n",
    "    #We will create two data frames, one for the possible pixel numbers,\n",
    "    #...and one for the unique pixel numbers and counts,\n",
    "    #...and then merge them on pixel numbers, and replace NaN with 0 counts\n",
    "    num_list_df = pd.DataFrame(pix_nums_list)\n",
    "    num_list_df.columns = ['pix_num']\n",
    "    \n",
    "    unique_nums_counts_df = pd.DataFrame(pix_nums)\n",
    "    unique_nums_counts_df.columns = ['pix_num']\n",
    "    unique_nums_counts_df['pix_count'] = pix_counts\n",
    "    \n",
    "    pix_lat, pix_lon = hp.pix2ang(nside, pix_nums_list) #latitude and longitude of possible pixel number\n",
    "    pix_dec = np.pi/2 - pix_lat #DEC from latitude\n",
    "    pix_ra = pix_lon            #RA from longitude\n",
    "    #print(pix_dec)\n",
    "    num_list_df['RA'] = pix_ra\n",
    "    num_list_df['DEC'] = pix_dec\n",
    "    \n",
    "    #Dataframe containing all possible pixel numbers with their respective RA,DEC and counts\n",
    "    nums_counts_ra_dec_df = num_list_df.merge(unique_nums_counts_df, on='pix_num',how='outer')\n",
    "    nums_counts_ra_dec_df.fillna(0.0, inplace=True)\n",
    "    #display(nums_counts_ra_dec_df)\n",
    "    \n",
    "    decs = nums_counts_ra_dec_df['DEC'].to_numpy(copy=True, dtype=np.float64)\n",
    "    ras = nums_counts_ra_dec_df['RA'].to_numpy(copy=True, dtype = np.float64)\n",
    "    counts = nums_counts_ra_dec_df['pix_count'].to_numpy(copy=True, dtype=np.float64)\n",
    "    pixels = nums_counts_ra_dec_df['pix_num'].to_numpy(copy=True, dtype=np.float64)\n",
    "    \n",
    "    return nums_counts_ra_dec_df, decs, ras, counts, pixels"
   ]
  },
  {
   "cell_type": "code",
   "execution_count": null,
   "metadata": {
    "jupyter": {
     "source_hidden": true
    }
   },
   "outputs": [],
   "source": [
    "def BinnedPvalAnalysisEqui(decs,ras,counts,nside=64):\n",
    "    unique_decs = np.unique(decs)\n",
    "    unique_decs = np.flip(unique_decs)\n",
    "\n",
    "    dec_bin_counts = {} #Dictionary to hold list of counts per bin in each declination band\n",
    "\n",
    "    #Create dictionary to hold a list of counts for each bin in the labeled declination band\n",
    "    for pixdec in unique_pix_decs:\n",
    "        dec_bin_counts[pixdec] = pixelCountList[np.nonzero(decs == pixdec)]\n",
    "    \n",
    "    #for i in range(len(unique_decs)):\n",
    "    #    band_counts_per_bin = []\n",
    "    #    for j in range(len(decs)):\n",
    "    #        if decs[j] == unique_decs[i]:\n",
    "    #            band_counts_per_bin.append(counts[j])\n",
    "    #    dec_bin_counts[unique_decs[i]] = band_counts_per_bin\n",
    "    \n",
    "    #Create Dictionary of lists of pvalues per bin in each band, keyed by declination of each band\n",
    "    #And dictionary of dec band count averages\n",
    "    #And dictionary of dec band mins, and of maxes\n",
    "    #And median\n",
    "    dec_bin_pvals = {}\n",
    "    dec_band_count_avg = {}\n",
    "    dec_band_count_min = {}\n",
    "    dec_band_count_max = {}\n",
    "    dec_band_count_med = {}\n",
    "    for d in unique_decs:\n",
    "        bin_count_list = dec_bin_counts[d]\n",
    "        band_count_avg = np.mean(bin_count_list, dtype=np.float64)\n",
    "        band_count_max = np.max(bin_count_list)\n",
    "        band_count_min = np.min(bin_count_list)\n",
    "        band_count_med = np.median(bin_count_list)\n",
    "        band_pval_per_bin = poisson.sf(bin_count_list, band_count_avg)\n",
    "        \n",
    "        dec_bin_pvals[d] = band_pval_per_bin\n",
    "        dec_band_count_avg[d] = band_count_avg\n",
    "        dec_band_count_min[d] = band_count_min\n",
    "        dec_band_count_max[d] = band_count_max\n",
    "        dec_band_count_med[d] = band_count_med\n",
    "\n",
    "    pvals = [item for sublist in list(dec_bin_pvals.values()) for item in sublist] #Flatten\n",
    "\n",
    "    #print(min(pvals))\n",
    "    #print(max(pvals))\n",
    "    #print(np.mean(pvals))\n",
    "    #print(len(pvals))\n",
    "    \n",
    "    return pvals, dec_bin_counts, dec_band_count_avg, dec_band_count_min, dec_band_count_max, dec_bin_pvals, dec_band_count_med\n"
   ]
  },
  {
   "cell_type": "code",
   "execution_count": null,
   "metadata": {
    "jupyter": {
     "source_hidden": true
    }
   },
   "outputs": [],
   "source": [
    "def BinomialPvalAnalysisEqui(eventDecList, pixelRAList, pixelDecList, pixelCountList, maxDelDec, minDelDec, nside = 64, sig_count_adjust = False):\n",
    "    #Using Binomial statistics to compare each bin to events in its respective solid angle declination band\n",
    "    #...rather than comparing each bin to each other bin with the same declination\n",
    "    #We will obtain counts for a band of declination defined by pixel centers +/- some deltaDec in rads\n",
    "    DEC_rad = np.radians(eventDecList)\n",
    "    \n",
    "    dec_band_counts = {}\n",
    "    \n",
    "    #Unique decs for pixels\n",
    "    unique_pix_decs, pixels_per_dec = np.unique(pixelDecList, return_counts=True)\n",
    "    unique_pix_decs = np.flip(unique_pix_decs)\n",
    "    #print('-------------UNIQUE PIXEL DECS--------------')\n",
    "    #print(unique_pix_decs)\n",
    "    \n",
    "    #Varying deltaDec as we move away from dec=0\n",
    "    q = complex(0,len(unique_pix_decs[unique_pix_decs >= np.pi/6]))\n",
    "    p = len(unique_pix_decs[(unique_pix_decs < np.pi/6) & (unique_pix_decs > -np.pi/6)])\n",
    "    v = complex(0,len(unique_pix_decs[unique_pix_decs <= -np.pi/6]))\n",
    "    \n",
    "    deltaDec = np.r_[maxDelDec:minDelDec:q, [minDelDec]*p, minDelDec:maxDelDec:v]\n",
    "    #print(len(deltaDec), len(unique_pix_decs))\n",
    "    #print('------------HALF BAND WIDTHS------------')\n",
    "    #print(deltaDec)\n",
    "    \n",
    "    #Dictionary to hold number of events in defined dec band\n",
    "    for upd, dD in zip(unique_pix_decs, deltaDec):\n",
    "        dec_band_counts[upd] = len(DEC_rad[(DEC_rad >= upd - dD) & (DEC_rad < upd + dD)])\n",
    "    \n",
    "    #Dictionary to hold list of counts per bin in each declination band for plotting's sake\n",
    "    #And also RA values for those bins\n",
    "    dec_bin_counts = {} \n",
    "    dec_bin_ras = {}\n",
    "    #Fill dictionary...\n",
    "    for d in unique_pix_decs:\n",
    "        dec_bin_counts[d] = pixelCountList[np.nonzero(pixelDecList == d)]\n",
    "        dec_bin_ras[d] = pixelRAList[np.nonzero(pixelDecList == d)]\n",
    "    \n",
    "    #Create Dictionary of lists of pvalues per bin in each band, keyed by declination of each band\n",
    "    #And dictionary of dec band count averages\n",
    "    #And dictionary of dec band mins, and of maxes\n",
    "    #And median\n",
    "    dec_bin_pvals = {}\n",
    "    dec_band_count_avg = {}  #Note: Here 'band' refers to pixels with centers at the same dec\n",
    "    dec_band_count_min = {}\n",
    "    dec_band_count_max = {}\n",
    "    dec_band_count_med = {}\n",
    "    \n",
    "    pix_solang = hp.nside2pixarea(nside)\n",
    "    \n",
    "    for upd, dD in zip(unique_pix_decs, deltaDec):\n",
    "        bin_count_list = dec_bin_counts[upd]\n",
    "        band_count_avg = np.mean(bin_count_list, dtype=np.float64)\n",
    "        band_count_max = np.max(bin_count_list)\n",
    "        band_count_min = np.min(bin_count_list)\n",
    "        band_count_med = np.median(bin_count_list)\n",
    "        \n",
    "        band_solang = ( np.sin(upd + dD) - np.sin(upd - dD) ) * 2.0 * np.pi \n",
    "        bg_prob = pix_solang / band_solang\n",
    "        \n",
    "        if sig_count_adjust:\n",
    "            #Make any count less than the average, equal to the average\n",
    "            bin_count_list[(bin_count_list / pix_solang) < (dec_band_counts[upd] / band_solang)] = np.rint(dec_band_counts[upd] / band_solang * pix_solang)\n",
    "        \n",
    "        band_pval_per_bin = binom.sf(bin_count_list, dec_band_counts[upd], bg_prob)\n",
    "        \n",
    "        #Cut out 80 deg to pole (N and S poles)\n",
    "        if upd >= 1.4 or upd <= -1.4:\n",
    "            dec_bin_pvals[upd] = np.full_like(band_pval_per_bin,np.nan)\n",
    "        else:\n",
    "            dec_bin_pvals[upd] = band_pval_per_bin\n",
    "        \n",
    "        #dec_bin_pvals[upd] = band_pval_per_bin\n",
    "        dec_band_count_avg[upd] = band_count_avg\n",
    "        dec_band_count_min[upd] = band_count_min\n",
    "        dec_band_count_max[upd] = band_count_max\n",
    "        dec_band_count_med[upd] = band_count_med\n",
    "\n",
    "    pvals = [item for sublist in list(dec_bin_pvals.values()) for item in sublist] #Flatten pvals\n",
    "\n",
    "    return pvals, dec_band_counts, dec_bin_counts, dec_band_count_avg, dec_band_count_min, dec_band_count_max, dec_bin_pvals, dec_band_count_med, deltaDec, dec_bin_ras"
   ]
  },
  {
   "cell_type": "markdown",
   "metadata": {},
   "source": [
    "From the Bootcamp example...\n",
    "\n",
    "For Unbinned LLH:"
   ]
  },
  {
   "cell_type": "markdown",
   "metadata": {},
   "source": [
    "We will use the following likelihood definition\n",
    "\\begin{equation}\n",
    "\\mathcal{L}(ns) = \\prod_{i = 1}^N\\left[ \\frac{ns}{N} S_{i,c} + (1-\\frac{ns}{N}) B \\right], \\\\ B = 1/4\\pi, \\\\ S_{i,c} = S(event_i, source_c)\n",
    "\\end{equation}\n",
    "where $ns = 0$ is the null hypothesis and is bounded to be between zero and N, $S$ accounts for the event angular distribution, $B$ is the background distribution which we will assume isotropic ($1/4\\pi$). N is the total number of events. Go ahead and construct the $\\log\\mathcal{L}$."
   ]
  },
  {
   "cell_type": "markdown",
   "metadata": {},
   "source": [
    "We are going to use the following test statistic (TS) definition<br><br>\n",
    "\\begin{equation}\n",
    "\\mathcal{TS} = 2 * \\log( \\mathcal{L}(ns) / \\mathcal{L}(ns=0) )\n",
    "\\end{equation}<br>\n",
    "\\begin{equation}\n",
    "\\mathcal{TS} = 2 * \\sum_{i = 1}^N \\log\\left[ \\frac{ns}{N} \\frac{S_{i,c}}{B} + (1-\\frac{ns}{N}) \\right]\n",
    "\\end{equation}"
   ]
  },
  {
   "cell_type": "code",
   "execution_count": 127,
   "metadata": {},
   "outputs": [],
   "source": [
    "class Single_Source_LLH:\n",
    "    #All angles use radians!\n",
    "    def __init__(self, Data, MC, Source, gamma=2.75):\n",
    "        \n",
    "        self.bins = [np.array([-1.        , -0.9825    , -0.965     , -0.9475    , -0.93      ,\n",
    "        -0.867     , -0.804     , -0.741     , -0.678     , -0.615     ,\n",
    "        -0.552     , -0.489     , -0.426     , -0.363     , -0.3       ,\n",
    "        -0.2611111 , -0.22222222, -0.18333334, -0.14444445, -0.10555556,\n",
    "        -0.06666667, -0.02777778,  0.01111111,  0.05      ,  0.10277778,\n",
    "         0.15555556,  0.20833333,  0.2611111 ,  0.31388888,  0.36666667,\n",
    "         0.41944444,  0.4722222 ,  0.525     ,  0.5777778 ,  0.63055557,\n",
    "         0.68333334,  0.7361111 ,  0.7888889 ,  0.84166664,  0.89444447,\n",
    "         0.94722223,  1.        ], dtype=np.float32),\n",
    "         np.array([1.   , 1.125, 1.25 , 1.375, 1.5  , 1.625, 1.75 , 1.875, 2.   ,\n",
    "         2.125, 2.25 , 2.375, 2.5  , 2.625, 2.75 , 2.875, 3.   , 3.125,\n",
    "         3.25 , 3.375, 3.5  , 3.625, 3.75 , 3.875, 4.   , 4.125, 4.25 ,\n",
    "         4.375, 4.5  , 4.625, 4.75 , 4.875, 5.   , 5.125, 5.25 , 5.375,\n",
    "         5.5  , 5.625, 5.75 , 5.875, 6.   , 6.125, 6.25 , 6.375, 6.5  ,\n",
    "         6.625, 6.75 , 6.875, 7.   , 7.125, 7.25 , 7.375, 7.5  , 7.625,\n",
    "         7.75 , 7.875, 8.   , 8.125, 8.25 , 8.375, 8.5  , 8.625, 8.75 ,\n",
    "         8.875, 9.   , 9.125, 9.25 , 9.375, 9.5  ], dtype=np.float32)]\n",
    "        \n",
    "        #Use radians for calculations\n",
    "        #print('start')\n",
    "        self.ddec = Data['dec']\n",
    "        self.dra = Data['ra']\n",
    "        self.dangerr = Data['angErr']\n",
    "        self.dlogE = Data['logE']\n",
    "        \n",
    "        self.sdec = Source['dec']\n",
    "        self.sra = Source['ra']\n",
    "        \n",
    "        self.mcdec = MC['dec']\n",
    "        self.mcra = MC['ra']\n",
    "        self.mcangerr = MC['angErr']\n",
    "        self.mclogE = MC['logE']\n",
    "        self.mcow = MC['ow']\n",
    "        self.mctrueE = MC['trueE']\n",
    "        self.mctrueDec = MC['trueDec']\n",
    "        self.mctrueRa = MC['trueRa']\n",
    "        \n",
    "        self.gamma = gamma\n",
    "        self.livetime = 28682769.6 #seconds, from GRL, sum of run livetimes for 2012 data (about 331 days)\n",
    "        self.fluxnorm = 1.0e-18\n",
    "        \n",
    "        self.N = len(Data)\n",
    "        \n",
    "        self.S_s = self.signal_spatial()\n",
    "        self.S_e_hist, self.S_e = self.MC_energy_dist()\n",
    "        \n",
    "        self.B_s = self.background_spatial()\n",
    "        self.B_e_hist, self.B_e = self.data_energy_dist()\n",
    "        \n",
    "    #Uses a bivariate gaussian distribution for spatial signal distribution.\n",
    "    #Hence, we are approximating a local region on a sphere to be a flat surface.\n",
    "    #(for in depth, see https://icecube-spno.slack.com/archives/CA14S7480/p1568135317031700)\n",
    "    \n",
    "    def scramble_sig_spat(self):\n",
    "        #For scrambles, call this method to change data ra and get new S_s\n",
    "        RA_use = 2.0*np.pi * np.random.random( self.N )\n",
    "        self.dra = RA_use\n",
    "        self.S_s = self.signal_spatial()\n",
    "    \n",
    "    def new_source_sig_spat(self, sdec, sra):\n",
    "        #For changing sources, call this method to get new S_s\n",
    "        self.sdec = sdec\n",
    "        self.sra = sra\n",
    "        self.S_s = self.signal_spatial()\n",
    "    \n",
    "    def signal_spatial(self):\n",
    "        #NOTE: This S_space is for all events, with one source. When using multiple sources, \n",
    "        #...will need to loop over the sources; implementing this func once\n",
    "        #...per source.\n",
    "        \n",
    "        expon = -.5 * ( (self.ddec - self.sdec)**2 + (self.dra - self.sra)**2 ) / (self.dangerr)**2\n",
    "        S_s = 1.0 / (2.0 * np.pi) / (self.dangerr)**2 * np.exp(expon)\n",
    "        #print('signal_distribution')\n",
    "        return S_s\n",
    "    \n",
    "    def background_spatial(self):\n",
    "        #Obtaining Background Dist\n",
    "\n",
    "        #sin(dec) bins\n",
    "        dec_bins = np.unique(np.concatenate([\n",
    "                                 np.linspace(-1., -0.2, 10 + 1),\n",
    "                                 np.linspace(-0.2, 0.0, 4 + 1),\n",
    "                                 np.linspace(0.0, 0.2, 5 + 1),\n",
    "                                 np.linspace(0.2, 1., 10),\n",
    "                                 ]))\n",
    "\n",
    "        bin_centers = []\n",
    "        for i in range(len(dec_bins)-1):\n",
    "            bin_centers.append( (dec_bins[i] + dec_bins[i+1]) / 2.0 )\n",
    "\n",
    "        n, bins = np.histogram(np.sin(self.ddec), bins=dec_bins, density=True)\n",
    "        \n",
    "        tck = splrep(bin_centers, n/(2.0*np.pi))\n",
    "        \n",
    "        B_s = splev(np.sin(self.ddec), tck)\n",
    "        #print('background_distribution')\n",
    "        return B_s\n",
    "    \n",
    "        \n",
    "    #Now, we will make our energy distributions to be used in energy weighting\n",
    "    #We will 2D-histogram data and MC separately by logE vs sinDec\n",
    "    #MC must be weighted using desired flux (gamma) and OneWeight (see oneweight paper)\n",
    "    #MC hist made using reconstructed values, in order to compare with BG (data)\n",
    "    \n",
    "    def MC_energy_dist(self):\n",
    "         \n",
    "        #weighting according to desired spectrum, with reference E = 100TeV (units GeV)\n",
    "        mcweights = self.fluxnorm * self.mcow * (self.mctrueE / 1.0e5)**(-self.gamma) * self.livetime \n",
    "        \n",
    "        #Using density=True normalizes each bin to be bincount / samplecount / binarea\n",
    "        #To normalize by declination, we will do the normalizing manually\n",
    "        H, xedges, yedges = np.histogram2d(np.sin(self.mcdec), self.mclogE,\n",
    "                                           bins=self.bins, density=False, weights=mcweights)#, range=[[-1,1],[1,10]])\n",
    "        \n",
    "        H = H.T\n",
    "        Hnorm = H / H.sum(axis=0, keepdims=True) #Normed sum to 1 per declination (each dec column sums to 1)\n",
    "        \n",
    "        #Or, we can fit the hist2d...\n",
    "        #Will use S_e.ev(x,y) to evaluate at (x,y)=(sinDec, logE)\n",
    "        #MC_e_func = RectBivariateSpline(xedges[:-1], yedges[:-1], np.transpose(H))\n",
    "        #MC_e = MC_e_func.ev(np.sin(self.ddec), self.dlogE)\n",
    "        \n",
    "        xinds = np.digitize(np.sin(self.ddec), self.bins[0], right=True) - 1\n",
    "        yinds = np.digitize(self.dlogE, self.bins[1], right=True) - 1\n",
    "        \n",
    "        values = Hnorm[yinds, xinds]\n",
    "        \n",
    "        return Hnorm, values\n",
    "    \n",
    "    def data_energy_dist(self):\n",
    "         \n",
    "        #Using density=True normalizes each bin to be bincount / samplecount / binarea\n",
    "        #To normalize by declination, we will do the normalizing manually\n",
    "        H, xedges, yedges = np.histogram2d(np.sin(self.ddec), self.dlogE,\n",
    "                                           bins=self.bins, density=False)#, range=[[-1,1],[1,10]])\n",
    "        \n",
    "        H = H.T\n",
    "        Hnorm = H / H.sum(axis=0, keepdims=True) #Normed sum to 1 per declination (each dec column sums to 1)      \n",
    "        \n",
    "        #Or, we can fit the hist2d...\n",
    "        #Will use S_e.ev(x,y) to evaluate at (x,y)=(sinDec, logE)\n",
    "        #data_e_func = RectBivariateSpline(xedges[:-1], yedges[:-1], np.transpose(H))\n",
    "        #data_e = data_e_func.ev(np.sin(self.ddec), self.dlogE)\n",
    "        \n",
    "        xinds = np.digitize(np.sin(self.ddec), self.bins[0], right=True) - 1\n",
    "        yinds = np.digitize(self.dlogE, self.bins[1], right=True) - 1\n",
    "        \n",
    "        values = Hnorm[yinds, xinds]\n",
    "        \n",
    "        return Hnorm, values\n",
    "        \n",
    "    #Now we define the test statistic...\n",
    "    def calc_TS(self, ns):\n",
    "        \n",
    "        log_term = ( (ns / self.N) * ( ( (self.S_s * self.S_e) / (self.B_s * self.B_e) ) - 1.0 ) ) + 1.0 \n",
    "        \n",
    "        TS = -2.0 * np.sum(np.log(log_term))\n",
    "        \n",
    "        #print('calc_TS')\n",
    "        return TS\n",
    "    \n",
    "    #using scipy.optimize.minimize\n",
    "    def minimize_TS(self):\n",
    "        minTS_res = minimize(self.calc_TS, np.array([1.0]), bounds=( (0.0,self.N), ), tol=1e-10)\n",
    "        #print('minimize_TS')\n",
    "        return minTS_res.x[0], minTS_res.fun     "
   ]
  },
  {
   "cell_type": "markdown",
   "metadata": {},
   "source": [
    "---\n",
    "<b>PLOTTING FUNCTIONS</b>\n",
    "---"
   ]
  },
  {
   "cell_type": "code",
   "execution_count": null,
   "metadata": {
    "jupyter": {
     "source_hidden": true
    }
   },
   "outputs": [],
   "source": [
    "def plotPvalsEqui(decs,ras,pvals,hotRA,hotDEC, nside=64, coord=None, rot=None, title=None, logvals=False):\n",
    "    #decs and ras should be in radians for this function\n",
    "    \n",
    "    if logvals:\n",
    "        pvals = -np.log10(pvals)\n",
    "        mincb = 0.0\n",
    "        maxcb = None\n",
    "        unit = '- log10 Pval'\n",
    "    else:\n",
    "        mincb = 0.0\n",
    "        maxcb = 1.0\n",
    "        unit = 'Pval'\n",
    "    \n",
    "    npix = hp.nside2npix(nside)\n",
    "    map_ind = hp.ang2pix(nside, np.pi/2.0 - decs, ras) \n",
    "    ind = np.bincount(map_ind)\n",
    "    hpx_map = np.zeros(npix, dtype=np.float64)\n",
    "    hpx_map[np.arange(npix)] = np.array(pvals)\n",
    "    \n",
    "    plt.figure(facecolor='w')\n",
    "    hp.mollview(hpx_map, unit=unit, title=title, rot=rot, margins=(1,1,1,1), coord=coord, min=mincb,max=maxcb, cmap='coolwarm') \n",
    "    hp.graticule(30, color='w', alpha=0.7)\n",
    "    \n",
    "    hp.projtext(0,0,'90', size='large', ha='center', va='bottom', coord=coord)#, rot=rot)\n",
    "    hp.projtext(np.pi/2,2.0*np.pi - .001,'360', size='large', ha='right', coord=coord)#, rot=rot)\n",
    "    hp.projtext(np.pi/2,0,'0', size='large', ha='left', coord=coord)#, rot=rot)\n",
    "    hp.projtext(np.pi,0,'-90', size='large', ha='center', va='top', coord=coord)#, rot=rot)\n",
    "    \n",
    "    hp.projscatter(np.pi/2.0 - hotDEC, hotRA, marker='+', facecolors='black', edgecolors='black', coord=coord)\n",
    "    \n",
    "    plt.title(title, pad=25)\n",
    "    plt.show()\n"
   ]
  },
  {
   "cell_type": "code",
   "execution_count": null,
   "metadata": {
    "jupyter": {
     "source_hidden": true
    }
   },
   "outputs": [],
   "source": [
    "def PlotPixelsPerDec(dec_bin_counts):\n",
    "    #Getting number of bins in each dec band for binned analysis\n",
    "    \n",
    "    dec_num_of_bins = []\n",
    "    for key in dec_bin_counts.keys():\n",
    "        dec_num_of_bins.append(len(dec_bin_counts[key]))\n",
    "\n",
    "    #Plotting num of bins in each dec\n",
    "    plt.figure(figsize=(8,6), facecolor='w')\n",
    "    plt.step(list(dec_bin_counts.keys()),dec_num_of_bins)\n",
    "    plt.xlabel('DEC Band')\n",
    "    plt.ylabel('Number of pixels')\n",
    "    plt.show()\n",
    "    "
   ]
  },
  {
   "cell_type": "code",
   "execution_count": null,
   "metadata": {
    "jupyter": {
     "source_hidden": true
    }
   },
   "outputs": [],
   "source": [
    "def PlotPixelCountsPerDec(dec_band_count_avg,dec_band_count_min,dec_band_count_max,dec_band_count_med):\n",
    "    #Plotting average, min, max Counts in each dec band (pix centers)\n",
    "    \n",
    "    plt.figure(figsize=(8,6), facecolor='w')\n",
    "    plt.step(list(dec_band_count_avg.keys()), list(dec_band_count_avg.values()), label='Mean')\n",
    "    plt.step(list(dec_band_count_min.keys()), list(dec_band_count_min.values()), label='Min')\n",
    "    plt.step(list(dec_band_count_max.keys()), list(dec_band_count_max.values()), label='Max')\n",
    "    plt.step(list(dec_band_count_med.keys()), list(dec_band_count_med.values()), label='Median')\n",
    "    plt.xlabel('DEC Band')\n",
    "    plt.ylabel('Counts per Bin')\n",
    "    plt.legend()\n",
    "    plt.show()\n"
   ]
  },
  {
   "cell_type": "code",
   "execution_count": null,
   "metadata": {
    "jupyter": {
     "source_hidden": true
    }
   },
   "outputs": [],
   "source": [
    "def PlotPvalPerDecBand(decs, dec_bin_pvals):\n",
    "    #Plotting Median, Mean pval per dec band (pixel centers)\n",
    "    \n",
    "    unique_decs = np.flip(np.unique(decs))\n",
    "\n",
    "    dec_band_mean_pval = {}\n",
    "    dec_band_median_pval = {}\n",
    "    for d in unique_decs:\n",
    "        band_pvals = dec_bin_pvals[d]\n",
    "        band_mean_pval = np.mean(band_pvals)\n",
    "        band_median_pval = np.median(band_pvals)\n",
    "        dec_band_mean_pval[d] = band_mean_pval\n",
    "        dec_band_median_pval[d] = band_median_pval\n",
    "\n",
    "    plt.figure(figsize=(8,6), facecolor='w')\n",
    "    plt.step(list(dec_band_median_pval.keys()), list(dec_band_median_pval.values()), label='Median')\n",
    "    plt.step(list(dec_band_mean_pval.keys()), list(dec_band_mean_pval.values()), label='Mean')\n",
    "    plt.xlabel('DEC Band')\n",
    "    plt.ylabel('P-value')\n",
    "    plt.ylim(0.0,1.0)\n",
    "    \n",
    "    plt.hlines(0.5,-1.5,1.5,linestyle='--')\n",
    "    \n",
    "    plt.legend()\n",
    "    plt.show()\n",
    "    "
   ]
  },
  {
   "cell_type": "code",
   "execution_count": null,
   "metadata": {
    "jupyter": {
     "source_hidden": true
    }
   },
   "outputs": [],
   "source": [
    "def PlotBandWidths(decs,deltaDec):\n",
    "    #Band width per declination (pixel centers)\n",
    "    \n",
    "    unique_pix_decs = np.unique(decs)\n",
    "    unique_pix_decs = np.flip(unique_pix_decs)\n",
    "    plt.step(np.degrees(unique_pix_decs), np.degrees(deltaDec))\n",
    "    plt.ylabel('Half Band Width')\n",
    "    plt.xlabel('Dec Band Center')\n",
    "    plt.show()"
   ]
  },
  {
   "cell_type": "code",
   "execution_count": null,
   "metadata": {
    "jupyter": {
     "source_hidden": true
    }
   },
   "outputs": [],
   "source": [
    "def PlotCountsPerDecBand(dec_band_counts):\n",
    "    #Event counts per declination band\n",
    "    \n",
    "    plt.figure(figsize=(8,6), facecolor='w')\n",
    "    plt.step(list(dec_band_counts.keys()), list(dec_band_counts.values()))\n",
    "    plt.ylabel('Event Counts')\n",
    "    plt.xlabel('DEC Band Center')\n",
    "    plt.show()"
   ]
  },
  {
   "cell_type": "code",
   "execution_count": null,
   "metadata": {
    "jupyter": {
     "source_hidden": true
    }
   },
   "outputs": [],
   "source": [
    "def PlotPvalsOneDec(ras, pvals, counts):\n",
    "    #For plotting the pvalues across a single declination\n",
    "    #given the respective ras,pvals,counts for the pixels in that dec band\n",
    "    \n",
    "    meanpv = np.mean(pvals)\n",
    "    medpv = np.median(pvals)\n",
    "    maxpv = np.max(pvals)\n",
    "    minpv = np.min(pvals)\n",
    "    modepv = spmode(pvals)\n",
    "    \n",
    "    ras = np.degrees(ras)\n",
    "    \n",
    "    modect = spmode(counts)\n",
    "    \n",
    "    fig, ax1 = plt.subplots(figsize=(16,6))\n",
    "    \n",
    "    color='r'\n",
    "    ax1.step(ras,pvals, color=color)\n",
    "    line1 = ax1.hlines(meanpv,0,360, label='Mean Pval', color='g')\n",
    "    line2 = ax1.hlines(maxpv,0,360, label='Max & Min Pval', color=color, linestyle='--')\n",
    "    ax1.hlines(minpv,0,360, color=color, linestyle='--')\n",
    "    line3 = ax1.hlines(modepv[0],0,360, color=color, linestyle='dashdot', label='Mode Pval')\n",
    "    #ax1.hlines(medpv,0,2*np.pi, label='Median Pval', color='g', linestyle='-.')\n",
    "    line4 = ax1.hlines(0.5,0,360, label='Pval=0.5', linestyle='dotted')\n",
    "    ax1.set_ylabel('P-value', color=color)\n",
    "    ax1.set_xlabel('RA [deg]')\n",
    "    ax1.tick_params(axis='y', labelcolor=color)\n",
    "    #ax1.legend()\n",
    "    \n",
    "    ax2 = ax1.twinx()\n",
    "    color = 'b'\n",
    "    ax2.step(ras,counts, color=color)\n",
    "    ax2.set_ylabel('Count', color=color)\n",
    "    ax2.tick_params(axis='y', labelcolor=color)\n",
    "    line5 = ax2.hlines(modect[0],0,360, color=color, linestyle='dashdot', label='Mode Count')\n",
    "    #ax2.legend()\n",
    "    \n",
    "    lns = (line1,line2,line3,line4,line5)\n",
    "    labs = [l.get_label() for l in lns]\n",
    "    \n",
    "    ax1.legend(lns,labs)\n",
    "    plt.title('Declination ~10 deg')\n",
    "    fig.tight_layout()\n",
    "    plt.show()"
   ]
  },
  {
   "cell_type": "code",
   "execution_count": null,
   "metadata": {
    "jupyter": {
     "source_hidden": true
    }
   },
   "outputs": [],
   "source": [
    "def HistPvalsCountsOneDec(pvals,counts):\n",
    "    #For plotting a histogram of the pixel counts in a single declination (pixel centers)\n",
    "    \n",
    "    nbin=64 #number of bins\n",
    "    \n",
    "    plt.figure(figsize=(16,6), facecolor='w')\n",
    "    \n",
    "    plt.subplot(1,2,1)\n",
    "    plt.hist(pvals,bins=nbin)\n",
    "    plt.xlabel('P-value')\n",
    "    \n",
    "    plt.subplot(1,2,2)\n",
    "    plt.hist(counts,bins=nbin)\n",
    "    plt.xlabel('Event Counts per Pixel')\n",
    "    \n",
    "    plt.show()"
   ]
  },
  {
   "cell_type": "code",
   "execution_count": 58,
   "metadata": {},
   "outputs": [],
   "source": [
    "def PlotPointsNearSource(event_ras, event_decs, event_errs, signal_weights, target_ra, target_dec, target_name, vmin=0.0, vmax=0.3, log=False):\n",
    "    #Plot events with error circles, colored by signal distribution value\n",
    "    #Puts an 'x' at the source point (written for single source point)\n",
    "    #Takes all angles/errors in degrees, for visualization convenience\n",
    "    if log:\n",
    "        norm = mpcolors.LogNorm()\n",
    "    else:\n",
    "        norm = mpcolors.Normalize()\n",
    "    fig, ax = plt.subplots()\n",
    "\n",
    "    plt.scatter(target_ra, target_dec, label=target_name, marker='x', c='k')\n",
    "    scat1 = plt.scatter(event_ras, event_decs, label='Data', c=signal_weights, norm=norm, cmap='plasma', vmin=vmin, vmax=vmax)\n",
    "\n",
    "    use_colors = scat1.to_rgba(signal_weights)\n",
    "    #print(colors)\n",
    "\n",
    "    patches = []\n",
    "    for i in range(len(event_ras)):\n",
    "        patches.append( Circle( (event_ras[i], event_decs[i]), radius=event_errs[i] ) )\n",
    "\n",
    "\n",
    "    patchCollection = PatchCollection(patches, edgecolors=use_colors, norm=norm, facecolors='none')\n",
    "    ax.add_collection(patchCollection)\n",
    "\n",
    "\n",
    "    plt.legend()\n",
    "    plt.colorbar(label='Normalized Signal Probability')\n",
    "    plt.xlabel('RA [deg]')\n",
    "    plt.ylabel('DEC [deg]')\n",
    "    plt.axis('square')\n",
    "    \n",
    "    ax.set_xlim(ax.get_xlim()[::-1])\n",
    "    \n",
    "    plt.grid(True)\n",
    "    plt.tight_layout()\n",
    "    \n",
    "    ax.set_axisbelow(True)\n",
    "    plt.show()"
   ]
  },
  {
   "cell_type": "code",
   "execution_count": 91,
   "metadata": {},
   "outputs": [],
   "source": [
    "def PlotTSandChi2(TSs, num_trials, loglog=True, bins=50, TSnorm=False, plotChi2=True):\n",
    "    #Assumes TS = - 2 * LLHR\n",
    "\n",
    "    #Plotting TS distributions for many trials\n",
    "    plt.figure(figsize=(8,4), facecolor='w')\n",
    "\n",
    "    #Fraction of TS that are != 0\n",
    "    TS_frac = np.mean(TSs < 0.0)\n",
    "    print('Fraction of TS < 0 :', TS_frac)\n",
    "\n",
    "    #Median TS\n",
    "    TS_med = np.median(TSs)\n",
    "    print('Median TS: ', TS_med)\n",
    "\n",
    "    #plt.subplot(1,2,1)\n",
    "    n, binedges, patches = plt.hist(-TSs, bins=bins, density=TSnorm)\n",
    "\n",
    "    df, loc, scale = chi2.fit(-TSs[TSs < 0])\n",
    "    print('Chi2 Fit DoF: ', df)\n",
    "    print('Chi2 Fit loc: ', loc)\n",
    "    print('Chi2 Fit scale: ', scale)\n",
    "\n",
    "    xs = np.arange(0.001,np.max(binedges),0.01)\n",
    "    \n",
    "    if plotChi2:\n",
    "        plt.plot(xs, TS_frac*chi2.pdf(xs, df, loc=loc, scale=scale), label='TS > 0 Chi2 Fit: dof={}'.format(np.round(df, decimals=2)))\n",
    "    \n",
    "    plt.vlines(TS_med, 0.0, np.max(n), label='Median TS', colors='r')\n",
    "    \n",
    "    plt.title('{} Trials, TS, eta = {} '.format(num_trials, TS_frac))\n",
    "    plt.xlabel('TS (2*LLHR)')\n",
    "    plt.ylabel('Trial Count')\n",
    "    plt.legend()\n",
    "    \n",
    "    if loglog:\n",
    "        plt.loglog()\n",
    "    else:\n",
    "        plt.semilogy()\n",
    "\n",
    "    plt.show()"
   ]
  },
  {
   "cell_type": "markdown",
   "metadata": {},
   "source": [
    "--------------------\n",
    "<b>TRIAL and PARAMETER SETUP</b>\n",
    "--------------------"
   ]
  },
  {
   "cell_type": "code",
   "execution_count": 100,
   "metadata": {},
   "outputs": [],
   "source": [
    "#Values for use in following functions\n",
    "\n",
    "nside_choice = 32\n",
    "\n",
    "#Min and max band width---------------------------------\n",
    "#minDelDec_choice = np.radians(1.0) #This is half the band width\n",
    "#maxDelDec_choice = np.radians(2.5)\n",
    "\n",
    "#print(np.degrees(hp.nside2resol(nside_choice)))\n",
    "\n",
    "#Number of scrambles------------------------------------\n",
    "num_trials = 500\n",
    "\n",
    "#For Crab Nebula------------------------------------------\n",
    "#cnpix = hp.ang2pix(nside_choice, np.pi/2 - np.radians(22.01), np.radians(83.63))\n",
    "\n",
    "#For setting counts less than dec avg count to the avg count, use True\n",
    "#sig_count_adjust = True\n",
    "#print(hp.nside2pixarea(nside_choice)\n",
    "\n",
    "#***UNBINNED LLH******---------------------------------------\n",
    "#GC Coords in radians\n",
    "GC_dec = -0.506\n",
    "GC_ra = 4.650\n",
    "GC_arr = np.array([(GC_dec, GC_ra)], dtype=[('dec',np.float32), ('ra',np.float32)])"
   ]
  },
  {
   "cell_type": "code",
   "execution_count": 159,
   "metadata": {},
   "outputs": [],
   "source": [
    "#First, we call the class wich will automatically calculate the probabilites\n",
    "#Each Trial, we will change S_s (by changing the data RA) and calculate TS\n",
    "GC_LLH = Single_Source_LLH(Data_events, MC_events, GC_arr, gamma=2.7)"
   ]
  },
  {
   "cell_type": "markdown",
   "metadata": {},
   "source": [
    "----\n",
    "<b>TRIALS LOOP, PERFORM ANALYSIS</b>\n",
    "----"
   ]
  },
  {
   "cell_type": "code",
   "execution_count": 170,
   "metadata": {},
   "outputs": [
    {
     "data": {
      "text/plain": [
       "499"
      ]
     },
     "metadata": {},
     "output_type": "display_data"
    },
    {
     "name": "stdout",
     "output_type": "stream",
     "text": [
      "--- 34.10000000000002 seconds ---\n"
     ]
    }
   ],
   "source": [
    "start_time = time.clock()\n",
    "#Lists for holding values for each scramble--------------------------\n",
    "#hot_pvals = []\n",
    "#hot_counts = []\n",
    "#hot_decs = []\n",
    "#hot_ras = []\n",
    "#hot_pix = []\n",
    "#CN_pvals = []\n",
    "#CN_counts = []\n",
    "\n",
    "#Unbinned holding lists---------------\n",
    "TS_list = []\n",
    "ns_list = []\n",
    "#**************** Now, for scrambles, use this loop: **************************\n",
    "for scram in range(num_trials):\n",
    "    #First pass, no scramble, use data\n",
    "    #if scram == 0:\n",
    "    #    RA_use = Data_RA\n",
    "    #else:\n",
    "    #    RA_use = 2.0*np.pi * np.random.random(len(Data_RA))\n",
    "    #RA_use = 2.0*np.pi * np.random.random(len(Data_RA))\n",
    "    \n",
    "#Event maps------------------------------------------------\n",
    "    #PlotMollviewLocal('All-Sky Point Source 2010-2012 (Local Coords)',Zen,Azi, nside=32, rot=(180,0,0))\n",
    "    #PlotMollviewEqui('All-Sky Point Source 2010-2012 (Equitorial Coords)',DEC,RA, nside=nside_choice,coord='C', rot=(180,0,0))\n",
    "\n",
    "#Binned Analyses-------------------------------------------\n",
    "    #nums_counts_ra_dec_df, decs, ras, counts, pixels = AngAndCountPerPixEqui(DEC,RA_use, nside=nside_choice)\n",
    "    #pvals, dec_bin_counts, dec_band_count_avg, dec_band_count_min, dec_band_count_max, dec_bin_pvals, dec_band_count_med = BinnedPvalAnalysisEqui(decs,ras,counts,nside=nside_choice)\n",
    "    #pvals, dec_band_counts, dec_bin_counts, dec_band_count_avg, dec_band_count_min, dec_band_count_max, dec_bin_pvals, dec_band_count_med, deltaDec, dec_bin_ras = BinomialPvalAnalysisEqui(DEC, ras, decs, counts, maxDelDec=maxDelDec_choice, minDelDec=minDelDec_choice, nside=nside_choice, sig_count_adjust = sig_count_adjust)\n",
    "    #nums_counts_ra_dec_df['pval'] = pvals\n",
    "    #display(nums_counts_ra_dec_df)\n",
    "\n",
    "    #For plots\n",
    "    #nums_counts_ra_dec_df.sort_values(by='pval', inplace=True)\n",
    "\n",
    "    #For scrambles\n",
    "    #hottestPVAL = nums_counts_ra_dec_df.iloc[0,4]\n",
    "    #hottestCOUNT = nums_counts_ra_dec_df.iloc[0,3]\n",
    "    #hottestDEC = nums_counts_ra_dec_df.iloc[0,2]\n",
    "    #hottestRA = nums_counts_ra_dec_df.iloc[0,1]\n",
    "    #hottestPIX = nums_counts_ra_dec_df.iloc[0,0]\n",
    "\n",
    "    #CNCOUNT = nums_counts_ra_dec_df.loc[cnpix,'pix_count']\n",
    "    #CNPVAL = nums_counts_ra_dec_df.loc[cnpix,'pval']\n",
    "\n",
    "    #After scrambling, add hottest pval and respective counts to lists for plotting later...\n",
    "    #...The 0th element in each list is the value for actual data\n",
    "    #hot_pvals.append(hottestPVAL)\n",
    "    #hot_counts.append(hottestCOUNT)\n",
    "    #hot_decs.append(hottestDEC)\n",
    "    #hot_ras.append(hottestRA)\n",
    "    #hot_pix.append(hottestPIX)\n",
    "    \n",
    "    #CN_pvals.append(CNPVAL)\n",
    "    #CN_counts.append(CNCOUNT)\n",
    "    \n",
    "#Unbinned LLH Analysis-------------------------------------\n",
    "    GC_LLH.scramble_sig_spat()\n",
    "    \n",
    "    bf_ns, TS = GC_LLH.minimize_TS()\n",
    "    \n",
    "    if scram == 0:\n",
    "        #For plotting using Signal Distribution (applies to num_trials = 0, i.e. data)\n",
    "        dataS_dist = np.copy(GC_LLH.S_e * GC_LLH.S_s)\n",
    "        dataS_norm = dataS_dist / np.sum(dataS_dist)\n",
    "        #RA used in first trial\n",
    "        RA_1 = np.copy(GC_LLH.dra)\n",
    "        \n",
    "    #Add ns and TS per trial to list for holding. 0th entry in each list is data...\n",
    "    ns_list.append(bf_ns)\n",
    "    TS_list.append(TS)\n",
    "    \n",
    "    clear_output(wait=True)\n",
    "    display(scram)\n",
    "    \n",
    "#********************************** End of Loop ****************************************\n",
    "\n",
    "#Location of 5 hottest pixels------------------------------\n",
    "#hottestRA = nums_counts_ra_dec_df.iloc[0:5,1].to_numpy(copy=True)\n",
    "#hottestDEC = nums_counts_ra_dec_df.iloc[0:5,2].to_numpy(copy=True)\n",
    "#print(hottestRA)\n",
    "#print(hottestDEC)\n",
    "\n",
    "#Choice for plotting one band pvals--------------------------\n",
    "#dec_choice = decs[np.argmin(np.abs(decs-np.radians(10)))]\n",
    "#print('dec choice = ', dec_choice)\n",
    "#display(nums_counts_ra_dec_df)\n",
    "\n",
    "#Plotting Funcs------------------------------------------------------------------------\n",
    "#plotPvalsEqui(decs,ras,pvals,hottestRA,hottestDEC, coord='C', title='Pvalues',rot=(180,0,0), nside=nside_choice, logvals=True)\n",
    "#PlotPixelsPerDec(dec_bin_counts)\n",
    "#PlotPixelCountsPerDec(dec_band_count_avg,dec_band_count_min,dec_band_count_max,dec_band_count_med)\n",
    "#PlotPvalPerDecBand(decs, dec_bin_pvals)\n",
    "#PlotCountsPerDecBand(dec_band_counts)\n",
    "#PlotBandWidths(decs,deltaDec)\n",
    "#PlotPvalsOneDec(dec_bin_ras[dec_choice], dec_bin_pvals[dec_choice], dec_bin_counts[dec_choice])\n",
    "#HistPvalsCountsOneDec(dec_bin_pvals[dec_choice], dec_bin_counts[dec_choice])\n",
    "\n",
    "#Converting dataframe values to degrees and displaying DF sorted by pvals for viewing--------------\n",
    "#nums_counts_ra_dec_df['RA'] = nums_counts_ra_dec_df['RA'].map(lambda RA: np.degrees(RA))\n",
    "#nums_counts_ra_dec_df['DEC'] = nums_counts_ra_dec_df['DEC'].map(lambda DEC: np.degrees(DEC))\n",
    "#display(nums_counts_ra_dec_df)\n",
    "\n",
    "print(\"--- %s seconds ---\" % (time.clock() - start_time))"
   ]
  },
  {
   "cell_type": "code",
   "execution_count": 171,
   "metadata": {},
   "outputs": [],
   "source": [
    "#Making lists into arrays...\n",
    "ns_arr = np.array(ns_list)\n",
    "TS_arr = np.array(TS_list)"
   ]
  },
  {
   "cell_type": "code",
   "execution_count": null,
   "metadata": {},
   "outputs": [],
   "source": [
    "#Dataframe for unbinned analysis\n",
    "unbinned_df = pd.DataFrame(dataS_norm)\n",
    "unbinned_df.columns = ['S_norm']\n",
    "\n",
    "unbinned_df['RA'] = np.degrees(RA_1) #RA_1 = RA_use : currently scrambled\n",
    "unbinned_df['DEC'] = np.degrees(Data_DEC)\n",
    "unbinned_df['AngErr'] = np.degrees(Data_AngErr)\n",
    "\n",
    "unbinned_df.sort_values(by='S_norm', ascending=False, inplace=True)\n",
    "display(unbinned_df)\n",
    "\n",
    "print(\"GC RA: \", np.degrees(GC_ra), \"///\", \"GC DEC: \", np.degrees(GC_dec))"
   ]
  },
  {
   "cell_type": "code",
   "execution_count": null,
   "metadata": {},
   "outputs": [],
   "source": [
    "#Plotting nearest events to galactic center\n",
    "num_plot = 5 #Number of events to plot\n",
    "topRA = unbinned_df.iloc[0:num_plot,1].to_numpy(copy=True)\n",
    "topDEC = unbinned_df.iloc[0:num_plot,2].to_numpy(copy=True)\n",
    "topERR = unbinned_df.iloc[0:num_plot,3].to_numpy(copy=True)\n",
    "topS = unbinned_df.iloc[0:num_plot,0].to_numpy(copy=True)\n",
    "\n",
    "target_ra = np.degrees(GC_ra)\n",
    "target_dec = np.degrees(GC_dec)\n",
    "target_name = 'Galactic Center'\n",
    "\n",
    "\n",
    "PlotPointsNearSource(topRA, topDEC, topERR, topS, target_ra, target_dec, target_name, vmin=0.01, vmax=.7, log=True)\n"
   ]
  },
  {
   "cell_type": "markdown",
   "metadata": {},
   "source": [
    "-------------------\n",
    "<b>DIAGNOSTICS</b>\n",
    "-------------------"
   ]
  },
  {
   "cell_type": "code",
   "execution_count": 97,
   "metadata": {},
   "outputs": [
    {
     "name": "stderr",
     "output_type": "stream",
     "text": [
      "/home/mcampana/py3env/lib/python3.6/site-packages/ipykernel_launcher.py:12: RuntimeWarning: divide by zero encountered in true_divide\n",
      "  if sys.path[0] == '':\n",
      "/home/mcampana/py3env/lib/python3.6/site-packages/ipykernel_launcher.py:12: RuntimeWarning: invalid value encountered in true_divide\n",
      "  if sys.path[0] == '':\n"
     ]
    },
    {
     "data": {
      "image/png": "[encoded data removed]",
      "text/plain": [
       "<Figure size 1152x288 with 6 Axes>"
      ]
     },
     "metadata": {
      "needs_background": "light"
     },
     "output_type": "display_data"
    }
   ],
   "source": [
    "plt.figure(figsize=(16,4))\n",
    "\n",
    "plt.subplot(1,3,1)\n",
    "plt.pcolor(GC_LLH.bins[0], GC_LLH.bins[1], GC_LLH.S_e_hist, cmap='RdBu_r', vmin=0.0001, vmax=10000, norm=mpcolors.LogNorm())\n",
    "plt.colorbar(label='S')\n",
    "plt.title('S_e (gamma={})'.format(GC_LLH.gamma))\n",
    "plt.ylabel('log10 (E / GeV)')\n",
    "plt.xlabel('sin (DEC)')\n",
    "plt.ylim(1,9)\n",
    "\n",
    "plt.subplot(1,3,2)\n",
    "plt.pcolor(GC_LLH.bins[0], GC_LLH.bins[1], GC_LLH.S_e_hist / GC_LLH.B_e_hist, cmap='RdBu_r', vmin=0.0001, vmax=10000, norm=mpcolors.LogNorm())\n",
    "plt.colorbar(label='S / B')\n",
    "plt.title('S_e / B_e (gamma={})'.format(GC_LLH.gamma))\n",
    "plt.ylabel('log10 (E / GeV)')\n",
    "plt.xlabel('sin (DEC)')\n",
    "plt.ylim(1,9)\n",
    "\n",
    "plt.subplot(1,3,3)\n",
    "plt.pcolor(GC_LLH.bins[0], GC_LLH.bins[1], GC_LLH.B_e_hist, cmap='RdBu_r', vmin=0.0001, vmax=10000, norm=mpcolors.LogNorm())\n",
    "plt.colorbar(label='B')\n",
    "plt.title('B_e')\n",
    "plt.ylabel('log10 (E / GeV)')\n",
    "plt.xlabel('sin (DEC)')\n",
    "plt.ylim(1,9)\n",
    "\n",
    "plt.tight_layout()\n",
    "plt.show()"
   ]
  },
  {
   "cell_type": "code",
   "execution_count": null,
   "metadata": {
    "jupyter": {
     "source_hidden": true
    }
   },
   "outputs": [],
   "source": [
    "#Trial Correction for binned pvalues, and Crab Nebula bin--------------\n",
    "\n",
    "hottest_corrected_pval = len(hot_pvals[hot_pvals < hot_pvals[0]]) / num_trials\n",
    "CN_corrected_pval = len(CN_pvals[CN_pvals < CN_pvals[0]]) / num_trials\n",
    "\n",
    "print('Pre-trial Hottest P-value:', hot_pvals[0])\n",
    "print('Corrected Hottest P-value:', hottest_corrected_pval)\n",
    "print('Pre-trial CN P-value:', CN_pvals[0])\n",
    "print('Corrected CN P-value:', CN_corrected_pval)\n",
    "\n",
    "#Crab Nebula Injection: How many events to get it to *2* sigma ?--------\n",
    "#We will estimate a normal dist, so 2 sigma for one-tail is the pvalue that is lower than 97.8% of the trials...\n",
    "#...and find the counts that gives this pvalue\n",
    "#We start by constructing a dataframe for counts and pvalues of trials\n",
    "scram_CN_df = pd.DataFrame(CN_pvals)\n",
    "scram_CN_df.columns = ['Pval']\n",
    "scram_CN_df['Pix Count'] = CN_counts\n",
    "\n",
    "#Location of 2sigma pvalue after sorting---------\n",
    "twoSigLoc = num_trials - int(np.rint(0.978 * num_trials))\n",
    "\n",
    "scram_CN_df.sort_values(by='Pval', inplace=True)\n",
    "display(scram_CN_df)\n",
    "print('-------Two Sigma--------')\n",
    "display(scram_CN_df.iloc[twoSigLoc])\n",
    "print('--------CN Data---------')\n",
    "display(scram_CN_df.loc[0])\n",
    "\n",
    "CN_2sig_pval = scram_CN_df.iloc[twoSigLoc,0]"
   ]
  },
  {
   "cell_type": "code",
   "execution_count": null,
   "metadata": {
    "jupyter": {
     "source_hidden": true
    }
   },
   "outputs": [],
   "source": [
    "#Plotting lowest p-value distr for binned analysis scrambles...\n",
    "\n",
    "n,e,p = plt.hist(-np.log10(hot_pvals), bins=100)\n",
    "plt.vlines(-np.log10(hot_pvals[0]),0,50, color='r', label='Lowest Data P-value')\n",
    "\n",
    "#plt.hist(hot_pvals, bins=100)\n",
    "#plt.vlines(hot_pvals[0],0,50, color='r', label='Lowest Data P-value')\n",
    "\n",
    "plt.xlabel('-log10(Pval)')\n",
    "plt.ylabel('Counts')\n",
    "plt.title('{} Scrambles: Lowest P-value'.format(num_trials))\n",
    "#plt.yscale('log')\n",
    "plt.legend()\n",
    "plt.show()"
   ]
  },
  {
   "cell_type": "code",
   "execution_count": null,
   "metadata": {
    "jupyter": {
     "source_hidden": true
    }
   },
   "outputs": [],
   "source": [
    "#Crab Nebula binned p-values for scrambles...\n",
    "\n",
    "plt.hist(-np.log10(CN_pvals), bins=100)\n",
    "plt.vlines(-np.log10(CN_pvals[0]),0,150, color='r', label='Pre-trial P-value')\n",
    "#plt.vlines(-np.log10(CN_corrected_pval),0,150, color='g', label='Corrected P-value')\n",
    "plt.vlines(-np.log10(CN_2sig_pval),0,150, color='k', label='2sigma P-value')\n",
    "\n",
    "#plt.hist(CN_pvals, bins=100)\n",
    "#plt.vlines(CN_pvals[0],0,150, color='r', label='Pre-trial P-value')\n",
    "#plt.vlines(CN_corrected_pval,0,150, color='g', label='Corrected P-value')\n",
    "#plt.vlines(CN_2sig_pval,0,150, color='k', label='2sigma P-value')\n",
    "\n",
    "plt.xlabel('-log10(P-Value)')\n",
    "plt.ylabel('Counts')\n",
    "#plt.yscale('log')\n",
    "plt.title('{} Scrambles: Crab Nebula Pre-trial P-values'.format(num_trials))\n",
    "plt.legend()\n",
    "plt.show()"
   ]
  },
  {
   "cell_type": "code",
   "execution_count": 165,
   "metadata": {},
   "outputs": [
    {
     "name": "stdout",
     "output_type": "stream",
     "text": [
      "Fraction of TS < 0 : 0.326\n",
      "Median TS:  0.0\n",
      "Chi2 Fit DoF:  0.8420912667464115\n",
      "Chi2 Fit loc:  1.838267830281642e-05\n",
      "Chi2 Fit scale:  1.5778900235623596\n"
     ]
    },
    {
     "data": {
      "image/png": "[encoded data removed]",
      "text/plain": [
       "<Figure size 576x288 with 1 Axes>"
      ]
     },
     "metadata": {},
     "output_type": "display_data"
    }
   ],
   "source": [
    "PlotTSandChi2(TS_arr, num_trials, loglog=False, bins=100, TSnorm=True, plotChi2=True)"
   ]
  },
  {
   "cell_type": "code",
   "execution_count": 166,
   "metadata": {},
   "outputs": [
    {
     "data": {
      "image/png": "[encoded data removed]",
      "text/plain": [
       "<Figure size 432x288 with 1 Axes>"
      ]
     },
     "metadata": {
      "needs_background": "light"
     },
     "output_type": "display_data"
    }
   ],
   "source": [
    "nss = np.arange(0,2,.01)\n",
    "ys = []\n",
    "for ns in nss:\n",
    "    ys.append(GC_LLH.calc_TS(ns))\n",
    "plt.plot(nss, ys)\n",
    "plt.vlines(bf_ns,np.min(ys),np.max(ys), linestyle='--', label='Best Fit ns')\n",
    "plt.xlabel('ns')\n",
    "plt.ylabel('TS')\n",
    "plt.title('ns = {}'.format(np.round(bf_ns,3)))\n",
    "plt.legend()\n",
    "plt.show()"
   ]
  },
  {
   "cell_type": "code",
   "execution_count": 172,
   "metadata": {},
   "outputs": [
    {
     "name": "stdout",
     "output_type": "stream",
     "text": [
      "[1.    0.14  0.17  1.    1.    1.    0.296 0.27  1.    1.    1.    0.182\n",
      " 0.296 1.    0.254 0.078 0.096 1.    1.    1.    0.298 0.296 1.    1.\n",
      " 1.   ]\n"
     ]
    }
   ],
   "source": [
    "#Evaluating at Grid Points\n",
    "#Set grid points\n",
    "#1 deg x 1 deg square around GC, .2 deg steps\n",
    "#NOTE: .5 deg = .00873 rad\n",
    "#      .2 deg = .00349 rad\n",
    "\n",
    "grid_decs = np.linspace(GC_dec-.00873, GC_dec+.00873, 5)\n",
    "grid_ras  = np.linspace(GC_ra-.00873, GC_ra+.00873, 5)\n",
    "dd, rr = np.meshgrid(grid_decs, grid_ras)\n",
    "\n",
    "grid_dec_coords = dd.flatten()\n",
    "grid_ra_coords = rr.flatten()\n",
    "\n",
    "#Initialize\n",
    "gridGC_LLH = Single_Source_LLH(Data_events, MC_events, GC_arr, gamma=2.0)\n",
    "#Loop over grid points, get ns and TS at each\n",
    "grid_ns_list = []\n",
    "grid_TS_list = []\n",
    "for grid_dec, grid_ra in zip(grid_dec_coords, grid_ra_coords):\n",
    "    gridGC_LLH.new_source_sig_spat(grid_dec, grid_ra)\n",
    "    bf_ns, TS = gridGC_LLH.minimize_TS()\n",
    "    \n",
    "    grid_ns_list.append(bf_ns)\n",
    "    grid_TS_list.append(TS)\n",
    "\n",
    "#Make lists into arrays\n",
    "grid_ns_list = np.array(grid_ns_list)\n",
    "grid_TS_list = np.array(grid_TS_list)\n",
    "\n",
    "#Get Pvalue from trial TS distribution\n",
    "grid_pval_list = []\n",
    "for ts in grid_TS_list:\n",
    "    pval = np.mean(TS_arr <= ts)\n",
    "    grid_pval_list.append(pval)\n",
    "\n",
    "grid_pval_list = np.array(grid_pval_list)\n",
    "\n",
    "print(grid_pval_list)"
   ]
  },
  {
   "cell_type": "code",
   "execution_count": 173,
   "metadata": {},
   "outputs": [],
   "source": [
    "grid_decs = np.degrees(grid_decs)\n",
    "grid_ras = np.degrees(grid_ras)\n",
    "diffdec = np.diff(grid_decs)[0]\n",
    "decedges = np.concatenate((grid_decs-diffdec/2.0, np.array([grid_decs[-1]+diffdec/2.])))\n",
    "diffra = np.diff(grid_ras)[0]\n",
    "raedges = np.concatenate((grid_ras-diffra/2.0, np.array([grid_ras[-1]+diffra/2.])))\n",
    "\n",
    "bingrid = [raedges,decedges]"
   ]
  },
  {
   "cell_type": "code",
   "execution_count": 174,
   "metadata": {},
   "outputs": [
    {
     "data": {
      "image/png": "[encoded data removed]",
      "text/plain": [
       "<Figure size 432x288 with 2 Axes>"
      ]
     },
     "metadata": {
      "needs_background": "light"
     },
     "output_type": "display_data"
    }
   ],
   "source": [
    "plt.hist2d(np.degrees(grid_ra_coords), np.degrees(grid_dec_coords), bins=bingrid, weights=grid_pval_list, norm=mpcolors.LogNorm())\n",
    "plt.colorbar(label='P-value')\n",
    "plt.scatter(np.degrees(grid_ra_coords), np.degrees(grid_dec_coords), marker='+', color='w')\n",
    "plt.scatter(np.degrees(GC_ra), np.degrees(GC_dec), marker='+', color='r', label='GC')\n",
    "plt.ylabel('DEC')\n",
    "plt.xlabel('RA')\n",
    "\n",
    "minx, maxx = plt.xlim()\n",
    "plt.xlim(maxx, minx)\n",
    "plt.legend()\n",
    "plt.show()"
   ]
  },
  {
   "cell_type": "code",
   "execution_count": null,
   "metadata": {},
   "outputs": [],
   "source": []
  }
 ],
 "metadata": {
  "kernelspec": {
   "display_name": "Python 3",
   "language": "python",
   "name": "python3"
  },
  "language_info": {
   "codemirror_mode": {
    "name": "ipython",
    "version": 3
   },
   "file_extension": ".py",
   "mimetype": "text/x-python",
   "name": "python",
   "nbconvert_exporter": "python",
   "pygments_lexer": "ipython3",
   "version": "3.6.8"
  }
 },
 "nbformat": 4,
 "nbformat_minor": 4
}
